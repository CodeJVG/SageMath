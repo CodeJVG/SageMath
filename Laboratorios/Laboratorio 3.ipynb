{
 "cells": [
  {
   "cell_type": "code",
   "execution_count": 1,
   "metadata": {},
   "outputs": [],
   "source": [
    "%display latex"
   ]
  },
  {
   "cell_type": "markdown",
   "metadata": {},
   "source": [
    "# Problema 1\n",
    "\n",
    "**a)** Una partícula de masa $m$ se mueve sobre el eje $X$ y es atraída hacia el origen $O$ con una fuerza igual a $kx$, $k > 0$. Tambien actúa una fuerza amortiguadora igual a $β\\frac{dX}{dt}$ , $β > 0$. Discutir el movimiento; considerar todos los casos, suponiendo que $X(0) = X_0$, $X′(0) = V_0$. Grafique todos sus resultados.\n",
    "\n"
   ]
  },
  {
   "cell_type": "code",
   "execution_count": 4,
   "metadata": {},
   "outputs": [],
   "source": [
    "#Definimos las variables\n",
    "t = var(\"t\")\n",
    "x = function(\"x\")(t)\n",
    "\n",
    "#Definimos las contantes\n",
    "beta = var(\"beta\")\n",
    "k = var(\"k\")"
   ]
  },
  {
   "cell_type": "markdown",
   "metadata": {},
   "source": [
    "Escribimos la ecuación diferencial"
   ]
  },
  {
   "cell_type": "code",
   "execution_count": 5,
   "metadata": {},
   "outputs": [
    {
     "data": {
      "text/html": [
       "<html><script type=\"math/tex; mode=display\">\\newcommand{\\Bold}[1]{\\mathbf{#1}}{{{\\it \\partial}^2}\\over{{\\it \\partial}\\,t^2}}\\,x\\left(t\\right)+  \\beta\\,\\left({{{\\it \\partial}}\\over{{\\it \\partial}\\,t}}\\,x\\left(t  \\right)\\right)+k\\,x\\left(t\\right)</script></html>"
      ],
      "text/plain": [
       "'diff(x(t),t,2)+beta*'diff(x(t),t,1)+k*x(t)"
      ]
     },
     "execution_count": 5,
     "metadata": {},
     "output_type": "execute_result"
    }
   ],
   "source": [
    "p, t = var(\"p t\")\n",
    "de = maxima(\"diff(x(t),t, 2) + beta*diff(x(t),t) + k*x(t)\")\n",
    "de"
   ]
  },
  {
   "cell_type": "markdown",
   "metadata": {},
   "source": [
    "Mostramos la transformada de Laprace de la ecuacion"
   ]
  },
  {
   "cell_type": "code",
   "execution_count": 6,
   "metadata": {},
   "outputs": [
    {
     "data": {
      "text/html": [
       "<html><script type=\"math/tex; mode=display\">\\newcommand{\\Bold}[1]{\\mathbf{#1}}-\\left.{{{\\it \\partial}}\\over{{\\it \\partial}\\,t}}\\,x\\left(t\\right)  \\right|_{t=0}+\\beta\\,\\left(p\\,\\mathcal{L}\\left(x\\left(t\\right) , t   , p\\right)-x\\left(0\\right)\\right)+p^2\\,\\mathcal{L}\\left(x\\left(t  \\right) , t , p\\right)+k\\,\\mathcal{L}\\left(x\\left(t\\right) , t , p  \\right)-x\\left(0\\right)\\,p</script></html>"
      ],
      "text/plain": [
       "(-%at('diff(x(t),t,1),t=0))+beta*(p*'laplace(x(t),t,p)-x(0))+p^2*'laplace(x(t),t,p)+k*'laplace(x(t),t,p)-x(0)*p"
      ]
     },
     "execution_count": 6,
     "metadata": {},
     "output_type": "execute_result"
    }
   ],
   "source": [
    "lde = de.laplace(\"t\",\"p\")\n",
    "lde"
   ]
  },
  {
   "cell_type": "markdown",
   "metadata": {},
   "source": [
    "Lo que dice es:\n",
    "$$-x'(0)+\\beta(pX(p)-x(0))+p^2X(p)+\\frac{kX}{p}-x(0)p=0$$\n",
    "$$(p^2+\\beta p +k)X(p)-(p+\\beta)x(0)+x'(0)=0$$"
   ]
  },
  {
   "cell_type": "markdown",
   "metadata": {},
   "source": [
    "Definimos las variables de la transformada de laplace ademas de las condiciones iniciales"
   ]
  },
  {
   "cell_type": "code",
   "execution_count": 9,
   "metadata": {},
   "outputs": [
    {
     "data": {
      "text/html": [
       "<html><script type=\"math/tex; mode=display\">\\newcommand{\\Bold}[1]{\\mathbf{#1}}\\left(p, X, x_{0}, v_{0}\\right)</script></html>"
      ],
      "text/plain": [
       "(p, X, x_0, v_0)"
      ]
     },
     "execution_count": 9,
     "metadata": {},
     "output_type": "execute_result"
    }
   ],
   "source": [
    "var('p X x_0 v_0')"
   ]
  },
  {
   "cell_type": "markdown",
   "metadata": {},
   "source": [
    "Mostramos la expresion despejada de X "
   ]
  },
  {
   "cell_type": "code",
   "execution_count": 14,
   "metadata": {},
   "outputs": [
    {
     "data": {
      "text/html": [
       "<html><script type=\"math/tex; mode=display\">\\newcommand{\\Bold}[1]{\\mathbf{#1}}\\left[X = \\frac{{\\left(\\beta + p\\right)} x_{0} - v_{0}}{\\beta p + p^{2} + k}\\right]</script></html>"
      ],
      "text/plain": [
       "[X == ((beta + p)*x_0 - v_0)/(beta*p + p^2 + k)]"
      ]
     },
     "execution_count": 14,
     "metadata": {},
     "output_type": "execute_result"
    }
   ],
   "source": [
    "eq = (p^2+beta*p+k)*X - (p + beta)*x_0 + v_0 \n",
    "solve(eq,X)"
   ]
  },
  {
   "cell_type": "markdown",
   "metadata": {},
   "source": [
    "En este punto solo quedaria realizar la transformada inversa con la funcion **inverse_laplace** en para los siguientes casos:"
   ]
  },
  {
   "cell_type": "markdown",
   "metadata": {},
   "source": [
    "Sea  $4k-\\beta^2>0$:"
   ]
  },
  {
   "cell_type": "code",
   "execution_count": 19,
   "metadata": {},
   "outputs": [
    {
     "data": {
      "text/html": [
       "<html><script type=\"math/tex; mode=display\">\\newcommand{\\Bold}[1]{\\mathbf{#1}}{\\left(x_{0} \\cos\\left(\\frac{1}{2} \\, \\sqrt{-\\beta^{2} + 4 \\, k} t\\right) + \\frac{{\\left(\\beta x_{0} - 2 \\, v_{0}\\right)} \\sin\\left(\\frac{1}{2} \\, \\sqrt{-\\beta^{2} + 4 \\, k} t\\right)}{\\sqrt{-\\beta^{2} + 4 \\, k}}\\right)} e^{\\left(-\\frac{1}{2} \\, \\beta t\\right)}</script></html>"
      ],
      "text/plain": [
       "(x_0*cos(1/2*sqrt(-beta^2 + 4*k)*t) + (beta*x_0 - 2*v_0)*sin(1/2*sqrt(-beta^2 + 4*k)*t)/sqrt(-beta^2 + 4*k))*e^(-1/2*beta*t)"
      ]
     },
     "execution_count": 19,
     "metadata": {},
     "output_type": "execute_result"
    }
   ],
   "source": [
    "#Realizamos la asuncion\n",
    "assume(4*k-beta^2>0)\n",
    "#Realizamos la transformaca\n",
    "inverse_laplace(((beta+p)*x_0-v_0)/(p^2+beta*p+k),p,t)"
   ]
  },
  {
   "cell_type": "markdown",
   "metadata": {},
   "source": [
    "Graficamos remplazando valores de $\\beta$, $k$ , $x_0$ y $v_0$"
   ]
  },
  {
   "cell_type": "code",
   "execution_count": 23,
   "metadata": {},
   "outputs": [
    {
     "data": {
      "image/png": "[encoded data removed]",
      "text/plain": [
       "Graphics object consisting of 1 graphics primitive"
      ]
     },
     "execution_count": 23,
     "metadata": {},
     "output_type": "execute_result"
    }
   ],
   "source": [
    "beta = 1\n",
    "x_0 = 5 \n",
    "v_0 = 3\n",
    "k  = 2\n",
    "#Definimos g como la transfomada inversa con la variable t\n",
    "g(t) = inverse_laplace(((beta+p)*x_0-v_0)/(p^2+beta*p+k),p,t)\n",
    "plot(g,(t,0,10))"
   ]
  },
  {
   "cell_type": "markdown",
   "metadata": {},
   "source": [
    "Sea  $4k-\\beta^2=0$, reemplazamos $k = \\beta^2/4$"
   ]
  },
  {
   "cell_type": "code",
   "execution_count": 35,
   "metadata": {},
   "outputs": [
    {
     "data": {
      "text/html": [
       "<html><script type=\"math/tex; mode=display\">\\newcommand{\\Bold}[1]{\\mathbf{#1}}\\frac{1}{2} \\, {\\left(\\beta t x_{0} - 2 \\, t v_{0} + 2 \\, x_{0}\\right)} e^{\\left(-\\frac{1}{2} \\, \\beta t\\right)}</script></html>"
      ],
      "text/plain": [
       "1/2*(beta*t*x_0 - 2*t*v_0 + 2*x_0)*e^(-1/2*beta*t)"
      ]
     },
     "execution_count": 35,
     "metadata": {},
     "output_type": "execute_result"
    }
   ],
   "source": [
    "var(\"x_0 v_0\")\n",
    "inverse_laplace(((beta+p)*x_0-v_0)/(p^2+beta*p+beta^2/4),p,t).factor()"
   ]
  },
  {
   "cell_type": "markdown",
   "metadata": {},
   "source": [
    "Graficamos remplazando valores de $\\beta$ , $x_0$ y $v_0$"
   ]
  },
  {
   "cell_type": "code",
   "execution_count": 62,
   "metadata": {},
   "outputs": [
    {
     "data": {
      "text/html": [
       "<html><script type=\"math/tex; mode=display\">\\newcommand{\\Bold}[1]{\\mathbf{#1}}t \\ {\\mapsto}\\ -5 \\, {\\left(t - 1\\right)} e^{\\left(-t\\right)}</script></html>"
      ],
      "text/plain": [
       "t |--> -5*(t - 1)*e^(-t)"
      ]
     },
     "metadata": {},
     "output_type": "display_data"
    },
    {
     "data": {
      "image/png": "[encoded data removed]",
      "text/plain": [
       "Graphics object consisting of 1 graphics primitive"
      ]
     },
     "execution_count": 62,
     "metadata": {},
     "output_type": "execute_result"
    }
   ],
   "source": [
    "beta = 2\n",
    "x_0 = 5 \n",
    "v_0 = 10\n",
    "g(t) = inverse_laplace(((beta+p)*x_0-v_0)/(p^2+beta*p+beta^2/4),p,t).factor()\n",
    "show(g)\n",
    "plot(g,(t,0,10))"
   ]
  },
  {
   "cell_type": "markdown",
   "metadata": {},
   "source": [
    "Sea  $4k-\\beta^2<0$:"
   ]
  },
  {
   "cell_type": "code",
   "execution_count": 39,
   "metadata": {},
   "outputs": [],
   "source": [
    "forget()\n",
    "var(\"k beta x_0 v_0\")\n",
    "assume(4*k<beta^2)"
   ]
  },
  {
   "cell_type": "code",
   "execution_count": 41,
   "metadata": {},
   "outputs": [
    {
     "data": {
      "text/html": [
       "<html><script type=\"math/tex; mode=display\">\\newcommand{\\Bold}[1]{\\mathbf{#1}}{\\left(x_{0} \\cosh\\left(\\frac{1}{2} \\, \\sqrt{\\beta^{2} - 4 \\, k} t\\right) + \\frac{{\\left(\\beta x_{0} - 2 \\, v_{0}\\right)} \\sinh\\left(\\frac{1}{2} \\, \\sqrt{\\beta^{2} - 4 \\, k} t\\right)}{\\sqrt{\\beta^{2} - 4 \\, k}}\\right)} e^{\\left(-\\frac{1}{2} \\, \\beta t\\right)}</script></html>"
      ],
      "text/plain": [
       "(x_0*cosh(1/2*sqrt(beta^2 - 4*k)*t) + (beta*x_0 - 2*v_0)*sinh(1/2*sqrt(beta^2 - 4*k)*t)/sqrt(beta^2 - 4*k))*e^(-1/2*beta*t)"
      ]
     },
     "execution_count": 41,
     "metadata": {},
     "output_type": "execute_result"
    }
   ],
   "source": [
    "inverse_laplace(((beta+p)*x_0-v_0)/(p^2+beta*p+k),p,t)"
   ]
  },
  {
   "cell_type": "markdown",
   "metadata": {},
   "source": [
    "Graficamos reemplazando valores :"
   ]
  },
  {
   "cell_type": "code",
   "execution_count": 60,
   "metadata": {},
   "outputs": [
    {
     "data": {
      "text/html": [
       "<html><script type=\"math/tex; mode=display\">\\newcommand{\\Bold}[1]{\\mathbf{#1}}t \\ {\\mapsto}\\ \\frac{5}{2} \\, e^{\\left(-t\\right)} + \\frac{5}{2} \\, e^{\\left(-3 \\, t\\right)}</script></html>"
      ],
      "text/plain": [
       "t |--> 5/2*e^(-t) + 5/2*e^(-3*t)"
      ]
     },
     "metadata": {},
     "output_type": "display_data"
    },
    {
     "data": {
      "image/png": "[encoded data removed]",
      "text/plain": [
       "Graphics object consisting of 1 graphics primitive"
      ]
     },
     "execution_count": 60,
     "metadata": {},
     "output_type": "execute_result"
    }
   ],
   "source": [
    "beta = 4\n",
    "x_0 = 5\n",
    "v_0 = 10\n",
    "k = 3\n",
    "g(t) = inverse_laplace(((beta+p)*x_0-v_0)/(p^2+beta*p+k),p,t)\n",
    "#Mostramos la funcion \n",
    "show(g)\n",
    "#Graficamos\n",
    "plot(g,(t,0,10))"
   ]
  },
  {
   "cell_type": "markdown",
   "metadata": {},
   "source": [
    "**b)** Una partícula $P$ de 2 gramos de masa se mueve sobre el eje $x$ y es atraída hacia el origen con una fuerza igual a $8x$. Si esta incialmente en reposo en $x=10$, actua con una fuerza $F(t)$ y que no hay una fuerza amortiguadora:\n",
    "\n",
    "**i)** ) Hallar la posición de la partícula en cualquier tiempo si $f(t)=F_0 \\cos(ωt)$\n",
    "La ecuación diferencial a resolver el la siguiente:\n",
    "$$F=m*a=-kx$$\n",
    "$$0.002\\frac{d^2x}{dt^2}=-8x$$"
   ]
  },
  {
   "cell_type": "code",
   "execution_count": 79,
   "metadata": {},
   "outputs": [
    {
     "data": {
      "text/html": [
       "<html><script type=\"math/tex; mode=display\">\\newcommand{\\Bold}[1]{\\mathbf{#1}}0.002\\,\\left({{{\\it \\partial}^2}\\over{{\\it \\partial}\\,t^2}}\\,x  \\left(t\\right)\\right)+8\\,x\\left(t\\right)</script></html>"
      ],
      "text/plain": [
       "0.002*'diff(x(t),t,2)+8*x(t)"
      ]
     },
     "execution_count": 79,
     "metadata": {},
     "output_type": "execute_result"
    }
   ],
   "source": [
    "#Definimos las variables\n",
    "p, t = var(\"p t\")\n",
    "\n",
    "#Definimos la ecuacion diferencial\n",
    "de = maxima(\"0.002*diff(x(t),t, 2) + 8*x(t)\")\n",
    "de"
   ]
  },
  {
   "cell_type": "code",
   "execution_count": 80,
   "metadata": {},
   "outputs": [
    {
     "data": {
      "text/html": [
       "<html><script type=\"math/tex; mode=display\">\\newcommand{\\Bold}[1]{\\mathbf{#1}}0.002\\,\\left(-\\left.{{{\\it \\partial}}\\over{{\\it \\partial}\\,t}}\\,x  \\left(t\\right)\\right|_{t=0}+p^2\\,\\mathcal{L}\\left(x\\left(t\\right) ,   t , p\\right)-x\\left(0\\right)\\,p\\right)+8\\,\\mathcal{L}\\left(x\\left(t  \\right) , t , p\\right)</script></html>"
      ],
      "text/plain": [
       "0.002*((-%at('diff(x(t),t,1),t=0))+p^2*'laplace(x(t),t,p)-x(0)*p)+8*'laplace(x(t),t,p)"
      ]
     },
     "execution_count": 80,
     "metadata": {},
     "output_type": "execute_result"
    }
   ],
   "source": [
    "# Mostramos la transformada de laplace de la ecuacion\n",
    "lde = de.laplace(\"t\",\"p\")\n",
    "lde"
   ]
  },
  {
   "cell_type": "markdown",
   "metadata": {},
   "source": [
    "Lo que dice es:\n",
    "$$-x'(0)+p^2X+8X-px(0)=0$$\n",
    "$$X=\\frac{px(0)+x'(0)}{0.002p^2+8}$$"
   ]
  },
  {
   "cell_type": "markdown",
   "metadata": {},
   "source": [
    "Reemplazando $x(0) = 10$ y $x'(0)=0$:\n",
    "$$X=\\frac{10p}{0.002p^2+8}$$"
   ]
  },
  {
   "cell_type": "code",
   "execution_count": 81,
   "metadata": {},
   "outputs": [
    {
     "data": {
      "text/html": [
       "<html><script type=\"math/tex; mode=display\">\\newcommand{\\Bold}[1]{\\mathbf{#1}}5000 \\, \\cos\\left(20 \\, \\sqrt{10} t\\right)</script></html>"
      ],
      "text/plain": [
       "5000*cos(20*sqrt(10)*t)"
      ]
     },
     "execution_count": 81,
     "metadata": {},
     "output_type": "execute_result"
    }
   ],
   "source": [
    "#Aplicamos transformada inversa\n",
    "inverse_laplace(10*p/(0.002*p^2+8),p,t)"
   ]
  },
  {
   "cell_type": "markdown",
   "metadata": {},
   "source": [
    "**ii)**  Discutir el significado físico de los resultados."
   ]
  },
  {
   "cell_type": "code",
   "execution_count": 75,
   "metadata": {},
   "outputs": [],
   "source": [
    "#Definimos la función solución hallada en el aparatado anterior\n",
    "var('t')\n",
    "f = 5000*cos(20*sqrt(10)*t)"
   ]
  },
  {
   "cell_type": "code",
   "execution_count": 76,
   "metadata": {},
   "outputs": [
    {
     "data": {
      "image/png": "[encoded data removed]",
      "text/plain": [
       "Graphics object consisting of 1 graphics primitive"
      ]
     },
     "execution_count": 76,
     "metadata": {},
     "output_type": "execute_result"
    }
   ],
   "source": [
    "#Graficamos\n",
    "plot(f(t),(t,-0.4,0.4))"
   ]
  },
  {
   "cell_type": "code",
   "execution_count": 77,
   "metadata": {},
   "outputs": [],
   "source": [
    "#Amplitud\n",
    "A = 5000"
   ]
  },
  {
   "cell_type": "code",
   "execution_count": 78,
   "metadata": {},
   "outputs": [
    {
     "data": {
      "text/html": [
       "<html><script type=\"math/tex; mode=display\">\\newcommand{\\Bold}[1]{\\mathbf{#1}}0.0993458826579610</script></html>"
      ],
      "text/plain": [
       "0.0993458826579610"
      ]
     },
     "execution_count": 78,
     "metadata": {},
     "output_type": "execute_result"
    }
   ],
   "source": [
    "#Calculamos el periodo \n",
    "T = 2*pi/(20*sqrt(10))\n",
    "N(T)"
   ]
  },
  {
   "cell_type": "markdown",
   "metadata": {},
   "source": [
    "La particula oscila sin amortiguamientos en el eje X con una amplitud de 5000m y un periodo de 0.0993s. "
   ]
  },
  {
   "cell_type": "markdown",
   "metadata": {},
   "source": [
    "# Problema 2\n",
    "Dada la malla electrica de la Fig. 1, determinar las corrientes de las diferentes ramas, si las corrientes iniciales valen cero.:"
   ]
  },
  {
   "cell_type": "markdown",
   "metadata": {},
   "source": [
    "\n",
    "![Esta es una imagen de ejemplo](https://i.ibb.co/kKdjNV0/Captura.png)"
   ]
  },
  {
   "cell_type": "markdown",
   "metadata": {},
   "source": [
    "Analizamos de  kirchhoff las mallar $PJKN$ y $KLMN$"
   ]
  },
  {
   "cell_type": "markdown",
   "metadata": {},
   "source": [
    "$$110=2\\frac{dI_1}{dt}+80I+10I_1$$\n",
    "$$110=4\\frac{dI_2}{dt}+80I+20I_2$$\n",
    "\n",
    "Como $I= I_1+I_2$\n",
    "$$110=4\\frac{dI}{dt}-4\\frac{dI_1}{dt}+100I-20I_1$$"
   ]
  },
  {
   "cell_type": "markdown",
   "metadata": {},
   "source": [
    "Para la resolución usaremos $x=I$ y $y=I_1$"
   ]
  },
  {
   "cell_type": "code",
   "execution_count": 82,
   "metadata": {},
   "outputs": [
    {
     "data": {
      "text/html": [
       "<html><script type=\"math/tex; mode=display\">\\newcommand{\\Bold}[1]{\\mathbf{#1}}2\\,\\left({{{\\it \\partial}}\\over{{\\it \\partial}\\,t}}\\,y\\left(t  \\right)\\right)+10\\,y\\left(t\\right)+80\\,x\\left(t\\right)-110</script></html>"
      ],
      "text/plain": [
       "2*'diff(y(t),t,1)+10*y(t)+80*x(t)-110"
      ]
     },
     "execution_count": 82,
     "metadata": {},
     "output_type": "execute_result"
    }
   ],
   "source": [
    "#Definimos la primera ecuación diferencial\n",
    "de1 = maxima(\"2*diff(y(t),t) + 80*x(t) + 10*y(t) - 110\")\n",
    "de1"
   ]
  },
  {
   "cell_type": "code",
   "execution_count": 84,
   "metadata": {},
   "outputs": [
    {
     "data": {
      "text/html": [
       "<html><script type=\"math/tex; mode=display\">\\newcommand{\\Bold}[1]{\\mathbf{#1}}2\\,\\left(p\\,\\mathcal{L}\\left(y\\left(t\\right) , t , p\\right)-y\\left(  0\\right)\\right)+10\\,\\mathcal{L}\\left(y\\left(t\\right) , t , p\\right)+  80\\,\\mathcal{L}\\left(x\\left(t\\right) , t , p\\right)-{{110}\\over{p}}</script></html>"
      ],
      "text/plain": [
       "2*(p*'laplace(y(t),t,p)-y(0))+10*'laplace(y(t),t,p)+80*'laplace(x(t),t,p)-110/p"
      ]
     },
     "execution_count": 84,
     "metadata": {},
     "output_type": "execute_result"
    }
   ],
   "source": [
    "#Aplicamos la transfrmacion de laplace\n",
    "lde1 = de1.laplace(\"t\",\"p\")\n",
    "lde1"
   ]
  },
  {
   "cell_type": "markdown",
   "metadata": {},
   "source": [
    "$$2(pY-y(0)) + 10Y + 80X - \\frac{110}{p}$$"
   ]
  },
  {
   "cell_type": "code",
   "execution_count": 85,
   "metadata": {},
   "outputs": [
    {
     "data": {
      "text/html": [
       "<html><script type=\"math/tex; mode=display\">\\newcommand{\\Bold}[1]{\\mathbf{#1}}-4\\,\\left({{{\\it \\partial}}\\over{{\\it \\partial}\\,t}}\\,y\\left(t  \\right)\\right)+4\\,\\left({{{\\it \\partial}}\\over{{\\it \\partial}\\,t}}\\,  x\\left(t\\right)\\right)-20\\,y\\left(t\\right)+100\\,x\\left(t\\right)-110</script></html>"
      ],
      "text/plain": [
       "(-4*'diff(y(t),t,1))+4*'diff(x(t),t,1)-20*y(t)+100*x(t)-110"
      ]
     },
     "execution_count": 85,
     "metadata": {},
     "output_type": "execute_result"
    }
   ],
   "source": [
    "#Definimos la primera ecuación diferencial\n",
    "de2 = maxima(\"4*diff(x(t),t) - 4*diff(y(t),t) + 100*x(t) - 20*y(t) - 110\")\n",
    "de2"
   ]
  },
  {
   "cell_type": "code",
   "execution_count": 86,
   "metadata": {},
   "outputs": [
    {
     "data": {
      "text/html": [
       "<html><script type=\"math/tex; mode=display\">\\newcommand{\\Bold}[1]{\\mathbf{#1}}-4\\,\\left(p\\,\\mathcal{L}\\left(y\\left(t\\right) , t , p\\right)-y  \\left(0\\right)\\right)-20\\,\\mathcal{L}\\left(y\\left(t\\right) , t , p  \\right)+4\\,\\left(p\\,\\mathcal{L}\\left(x\\left(t\\right) , t , p\\right)-  x\\left(0\\right)\\right)+100\\,\\mathcal{L}\\left(x\\left(t\\right) , t , p  \\right)-{{110}\\over{p}}</script></html>"
      ],
      "text/plain": [
       "(-4*(p*'laplace(y(t),t,p)-y(0)))-20*'laplace(y(t),t,p)+4*(p*'laplace(x(t),t,p)-x(0))+100*'laplace(x(t),t,p)-110/p"
      ]
     },
     "execution_count": 86,
     "metadata": {},
     "output_type": "execute_result"
    }
   ],
   "source": [
    "#Aplicamos la transfrmacion de laplace\n",
    "lde2 = de2.laplace(\"t\",\"p\")\n",
    "lde2"
   ]
  },
  {
   "cell_type": "markdown",
   "metadata": {},
   "source": [
    "$$-4(pY-y(0)) - 20Y + 4(pX-x(0)) + 100X - \\frac{100}{p}$$"
   ]
  },
  {
   "cell_type": "code",
   "execution_count": 90,
   "metadata": {},
   "outputs": [],
   "source": [
    "#Reemplazamos x(0)=0  y(0)=0\n",
    "var(\"p X Y\")\n",
    "\n",
    "#Definimos el sistema de ecuacion de variables X Y\n",
    "eq1 = 2*p*Y + 10*Y +80*X - 110/p == 0\n",
    "eq2 = -4*p*Y - 20*Y + 4*p*X + 100*X - 100/p == 0"
   ]
  },
  {
   "cell_type": "code",
   "execution_count": 91,
   "metadata": {},
   "outputs": [
    {
     "data": {
      "text/html": [
       "<html><script type=\"math/tex; mode=display\">\\newcommand{\\Bold}[1]{\\mathbf{#1}}\\left[\\left[X = \\frac{80}{p^{2} + 65 \\, p}, Y = \\frac{5 \\, {\\left(11 \\, p + 75\\right)}}{p^{3} + 70 \\, p^{2} + 325 \\, p}\\right]\\right]</script></html>"
      ],
      "text/plain": [
       "[[X == 80/(p^2 + 65*p), Y == 5*(11*p + 75)/(p^3 + 70*p^2 + 325*p)]]"
      ]
     },
     "execution_count": 91,
     "metadata": {},
     "output_type": "execute_result"
    }
   ],
   "source": [
    "#Resolvelos el sistema despejando X e Y con la variable p\n",
    "solve([eq1,eq2], X, Y)"
   ]
  },
  {
   "cell_type": "code",
   "execution_count": 92,
   "metadata": {},
   "outputs": [],
   "source": [
    "#Aplicamos la transformada inversa \n",
    "I = inverse_laplace(80/(p^2+65*p),p,t)\n",
    "I_1 = inverse_laplace(5*(11*p+75)/(p^3+70*p^2+325*p),p,t)\n",
    "I_2 = I - I_1 "
   ]
  },
  {
   "cell_type": "markdown",
   "metadata": {},
   "source": [
    "Mostramos las ecpresiones de $I$, $I_1$ e $I_2$"
   ]
  },
  {
   "cell_type": "code",
   "execution_count": 96,
   "metadata": {},
   "outputs": [
    {
     "data": {
      "text/html": [
       "<html><script type=\"math/tex; mode=display\">\\newcommand{\\Bold}[1]{\\mathbf{#1}}-\\frac{16}{13} \\, e^{\\left(-65 \\, t\\right)} + \\frac{16}{13}</script></html>"
      ],
      "text/plain": [
       "-16/13*e^(-65*t) + 16/13"
      ]
     },
     "execution_count": 96,
     "metadata": {},
     "output_type": "execute_result"
    }
   ],
   "source": [
    "I"
   ]
  },
  {
   "cell_type": "code",
   "execution_count": 97,
   "metadata": {},
   "outputs": [
    {
     "data": {
      "text/html": [
       "<html><script type=\"math/tex; mode=display\">\\newcommand{\\Bold}[1]{\\mathbf{#1}}-\\frac{1}{3} \\, e^{\\left(-5 \\, t\\right)} - \\frac{32}{39} \\, e^{\\left(-65 \\, t\\right)} + \\frac{15}{13}</script></html>"
      ],
      "text/plain": [
       "-1/3*e^(-5*t) - 32/39*e^(-65*t) + 15/13"
      ]
     },
     "execution_count": 97,
     "metadata": {},
     "output_type": "execute_result"
    }
   ],
   "source": [
    "I_1"
   ]
  },
  {
   "cell_type": "code",
   "execution_count": 98,
   "metadata": {},
   "outputs": [
    {
     "data": {
      "text/html": [
       "<html><script type=\"math/tex; mode=display\">\\newcommand{\\Bold}[1]{\\mathbf{#1}}\\frac{1}{3} \\, e^{\\left(-5 \\, t\\right)} - \\frac{16}{39} \\, e^{\\left(-65 \\, t\\right)} + \\frac{1}{13}</script></html>"
      ],
      "text/plain": [
       "1/3*e^(-5*t) - 16/39*e^(-65*t) + 1/13"
      ]
     },
     "execution_count": 98,
     "metadata": {},
     "output_type": "execute_result"
    }
   ],
   "source": [
    "I_2"
   ]
  },
  {
   "cell_type": "markdown",
   "metadata": {},
   "source": [
    "Graficamos"
   ]
  },
  {
   "cell_type": "code",
   "execution_count": 110,
   "metadata": {},
   "outputs": [
    {
     "data": {
      "image/png": "[encoded data removed]",
      "text/plain": [
       "Graphics object consisting of 3 graphics primitives"
      ]
     },
     "execution_count": 110,
     "metadata": {},
     "output_type": "execute_result"
    }
   ],
   "source": [
    "#Guardamos las graficas en las variables G1 G2 G3\n",
    "G1 = plot(I,(t,0,0.5), color=\"blue\",legend_label=\"Corriente \"+r'$I$')\n",
    "G2 = plot(I_1,(t,0,0.5), color=\"red\",legend_label=\"Corriente \"+r'$I_1$')\n",
    "G3 = plot(I_2,(t,0,0.5), color=\"green\",legend_label=\"Corriente \"+r'$I_2$')\n",
    "#Mostramos las graficas\n",
    "G1+G2+G3"
   ]
  },
  {
   "cell_type": "markdown",
   "metadata": {},
   "source": [
    "# Problema 3\n",
    "Resolver\n",
    "$$ y'''-3y''+3y'= t^2e^t$$\n",
    "$y(0)=1$  $y'(0)=0$  $y''(0)=-2$"
   ]
  },
  {
   "cell_type": "markdown",
   "metadata": {},
   "source": [
    "Definimos y mostramos la ecuación diferencial"
   ]
  },
  {
   "cell_type": "code",
   "execution_count": 118,
   "metadata": {},
   "outputs": [
    {
     "data": {
      "text/html": [
       "<html><script type=\"math/tex; mode=display\">\\newcommand{\\Bold}[1]{\\mathbf{#1}}-t^{2} e^{t} + 3 \\, \\frac{\\partial}{\\partial t}y\\left(t\\right) - 3 \\, \\frac{\\partial^{2}}{(\\partial t)^{2}}y\\left(t\\right) + \\frac{\\partial^{3}}{(\\partial t)^{3}}y\\left(t\\right)</script></html>"
      ],
      "text/plain": [
       "-t^2*e^t + 3*diff(y(t), t) - 3*diff(y(t), t, t) + diff(y(t), t, t, t)"
      ]
     },
     "execution_count": 118,
     "metadata": {},
     "output_type": "execute_result"
    }
   ],
   "source": [
    "var('t')\n",
    "y = function('y')(t)\n",
    "de = diff(y,t,3) - 3*diff(y,t,2) + 3*diff(y,t) - t^2*exp(t)\n",
    "de"
   ]
  },
  {
   "cell_type": "markdown",
   "metadata": {},
   "source": [
    "Aplicamos la transformada de Laplace"
   ]
  },
  {
   "cell_type": "code",
   "execution_count": 123,
   "metadata": {},
   "outputs": [
    {
     "data": {
      "text/html": [
       "<html><script type=\"math/tex; mode=display\">\\newcommand{\\Bold}[1]{\\mathbf{#1}}p^{3} \\mathcal{L}\\left(y\\left(t\\right), t, p\\right) - 3 \\, p^{2} \\mathcal{L}\\left(y\\left(t\\right), t, p\\right) - p^{2} y\\left(0\\right) + 3 \\, p \\mathcal{L}\\left(y\\left(t\\right), t, p\\right) + 3 \\, p y\\left(0\\right) - p \\mathrm{D}_{0}\\left(y\\right)\\left(0\\right) - \\frac{2}{{\\left(p - 1\\right)}^{3}} - 3 \\, y\\left(0\\right) + 3 \\, \\mathrm{D}_{0}\\left(y\\right)\\left(0\\right) - \\mathrm{D}_{0, 0}\\left(y\\right)\\left(0\\right)</script></html>"
      ],
      "text/plain": [
       "p^3*laplace(y(t), t, p) - 3*p^2*laplace(y(t), t, p) - p^2*y(0) + 3*p*laplace(y(t), t, p) + 3*p*y(0) - p*D[0](y)(0) - 2/(p - 1)^3 - 3*y(0) + 3*D[0](y)(0) - D[0, 0](y)(0)"
      ]
     },
     "execution_count": 123,
     "metadata": {},
     "output_type": "execute_result"
    }
   ],
   "source": [
    "lde = de.laplace(\"t\",\"p\")\n",
    "lde"
   ]
  },
  {
   "cell_type": "markdown",
   "metadata": {},
   "source": [
    "$$p^3Y-3p^2Y-p^2y(0)+3pY+3py(0)-py'(0)+\\frac{2}{(p-1)^3}-3y(0)+3y'(0)-y''(0)$$"
   ]
  },
  {
   "cell_type": "markdown",
   "metadata": {},
   "source": [
    "#Reemplazando $y(0) = 1$,  $y'(0)=0$,  $y''(0)=-2$"
   ]
  },
  {
   "cell_type": "code",
   "execution_count": 126,
   "metadata": {},
   "outputs": [
    {
     "data": {
      "text/html": [
       "<html><script type=\"math/tex; mode=display\">\\newcommand{\\Bold}[1]{\\mathbf{#1}}Y p^{3} - 3 \\, Y p^{2} + 3 \\, Y p - p^{2} + 3 \\, p - \\frac{2}{{\\left(p - 1\\right)}^{3}} - 1</script></html>"
      ],
      "text/plain": [
       "Y*p^3 - 3*Y*p^2 + 3*Y*p - p^2 + 3*p - 2/(p - 1)^3 - 1"
      ]
     },
     "execution_count": 126,
     "metadata": {},
     "output_type": "execute_result"
    }
   ],
   "source": [
    "p, Y =var('p Y')\n",
    "eq = p^3*Y - 3*p^2*Y - p^2 + 3*p*Y + 3*p - 2/(p-1)^3 - 3 + 2\n",
    "eq"
   ]
  },
  {
   "cell_type": "code",
   "execution_count": 128,
   "metadata": {},
   "outputs": [
    {
     "data": {
      "text/html": [
       "<html><script type=\"math/tex; mode=display\">\\newcommand{\\Bold}[1]{\\mathbf{#1}}\\left[Y = \\frac{p^{5} - 6 \\, p^{4} + 13 \\, p^{3} - 13 \\, p^{2} + 6 \\, p + 1}{p^{6} - 6 \\, p^{5} + 15 \\, p^{4} - 19 \\, p^{3} + 12 \\, p^{2} - 3 \\, p}\\right]</script></html>"
      ],
      "text/plain": [
       "[Y == (p^5 - 6*p^4 + 13*p^3 - 13*p^2 + 6*p + 1)/(p^6 - 6*p^5 + 15*p^4 - 19*p^3 + 12*p^2 - 3*p)]"
      ]
     },
     "execution_count": 128,
     "metadata": {},
     "output_type": "execute_result"
    }
   ],
   "source": [
    "#Despejamos Y\n",
    "solve(eq,Y)"
   ]
  },
  {
   "cell_type": "code",
   "execution_count": 129,
   "metadata": {},
   "outputs": [
    {
     "data": {
      "text/html": [
       "<html><script type=\"math/tex; mode=display\">\\newcommand{\\Bold}[1]{\\mathbf{#1}}t^{2} e^{t} - \\frac{4}{3} \\, {\\left(\\sqrt{3} \\sin\\left(\\frac{1}{2} \\, \\sqrt{3} t\\right) - \\cos\\left(\\frac{1}{2} \\, \\sqrt{3} t\\right)\\right)} e^{\\left(\\frac{3}{2} \\, t\\right)} - \\frac{1}{3}</script></html>"
      ],
      "text/plain": [
       "t^2*e^t - 4/3*(sqrt(3)*sin(1/2*sqrt(3)*t) - cos(1/2*sqrt(3)*t))*e^(3/2*t) - 1/3"
      ]
     },
     "execution_count": 129,
     "metadata": {},
     "output_type": "execute_result"
    }
   ],
   "source": [
    "#Aplicamos la transformada inversa\n",
    "inverse_laplace((p^5-6*p^4+13*p^3-13*p^2+6*p+1)/(p^6-6*p^5+15*p^4-19*p^3+12*p^2-3*p),p,t)"
   ]
  },
  {
   "cell_type": "markdown",
   "metadata": {},
   "source": [
    "Comprobamos el resultado"
   ]
  },
  {
   "cell_type": "code",
   "execution_count": 130,
   "metadata": {},
   "outputs": [
    {
     "data": {
      "text/html": [
       "<html><script type=\"math/tex; mode=display\">\\newcommand{\\Bold}[1]{\\mathbf{#1}}t^{2} e^{t}</script></html>"
      ],
      "text/plain": [
       "t^2*e^t"
      ]
     },
     "execution_count": 130,
     "metadata": {},
     "output_type": "execute_result"
    }
   ],
   "source": [
    "f = t^2*exp(t)-4/3*(sqrt(3)*sin(1/2*sqrt(3)*t)-cos(1/2*sqrt(3)*t))*exp(3/2*t) - 1/3\n",
    "diff(f,t,3)-3*diff(f,t,2)+3*diff(f,t)"
   ]
  },
  {
   "cell_type": "markdown",
   "metadata": {},
   "source": [
    "**b)** Hallar la solucion general de la ecuación diferencial de a) "
   ]
  },
  {
   "cell_type": "markdown",
   "metadata": {},
   "source": [
    "Reemplazando $y(0) = C_1$,  $y'(0)=C_2$,  $y''(0)=C_3$"
   ]
  },
  {
   "cell_type": "code",
   "execution_count": 131,
   "metadata": {},
   "outputs": [
    {
     "data": {
      "text/html": [
       "<html><script type=\"math/tex; mode=display\">\\newcommand{\\Bold}[1]{\\mathbf{#1}}Y p^{3} - C_{1} p^{2} - 3 \\, Y p^{2} + 3 \\, C_{1} p - C_{2} p + 3 \\, Y p - 3 \\, C_{1} + 3 \\, C_{2} - C_{3} - \\frac{2}{{\\left(p - 1\\right)}^{3}}</script></html>"
      ],
      "text/plain": [
       "Y*p^3 - C_1*p^2 - 3*Y*p^2 + 3*C_1*p - C_2*p + 3*Y*p - 3*C_1 + 3*C_2 - C_3 - 2/(p - 1)^3"
      ]
     },
     "execution_count": 131,
     "metadata": {},
     "output_type": "execute_result"
    }
   ],
   "source": [
    "C_1, C_2, C_3 = var('C_1, C_2, C_3')\n",
    "p, Y =var('p Y')\n",
    "eq = p^3*Y - 3*p^2*Y - C_1*p^2 + 3*p*Y + 3*C_1*p - C_2*p - 2/(p-1)^3 - 3*C_1 + 3*C_2 - C_3  \n",
    "eq"
   ]
  },
  {
   "cell_type": "code",
   "execution_count": 133,
   "metadata": {},
   "outputs": [
    {
     "data": {
      "text/html": [
       "<html><script type=\"math/tex; mode=display\">\\newcommand{\\Bold}[1]{\\mathbf{#1}}\\left[Y = \\frac{C_{1} p^{5} - {\\left(6 \\, C_{1} - C_{2}\\right)} p^{4} + {\\left(15 \\, C_{1} - 6 \\, C_{2} + C_{3}\\right)} p^{3} - {\\left(19 \\, C_{1} - 12 \\, C_{2} + 3 \\, C_{3}\\right)} p^{2} + {\\left(12 \\, C_{1} - 10 \\, C_{2} + 3 \\, C_{3}\\right)} p - 3 \\, C_{1} + 3 \\, C_{2} - C_{3} + 2}{p^{6} - 6 \\, p^{5} + 15 \\, p^{4} - 19 \\, p^{3} + 12 \\, p^{2} - 3 \\, p}\\right]</script></html>"
      ],
      "text/plain": [
       "[Y == (C_1*p^5 - (6*C_1 - C_2)*p^4 + (15*C_1 - 6*C_2 + C_3)*p^3 - (19*C_1 - 12*C_2 + 3*C_3)*p^2 + (12*C_1 - 10*C_2 + 3*C_3)*p - 3*C_1 + 3*C_2 - C_3 + 2)/(p^6 - 6*p^5 + 15*p^4 - 19*p^3 + 12*p^2 - 3*p)]"
      ]
     },
     "execution_count": 133,
     "metadata": {},
     "output_type": "execute_result"
    }
   ],
   "source": [
    "#Despejamos Y\n",
    "solve(eq,Y)"
   ]
  },
  {
   "cell_type": "code",
   "execution_count": 134,
   "metadata": {},
   "outputs": [
    {
     "data": {
      "text/html": [
       "<html><script type=\"math/tex; mode=display\">\\newcommand{\\Bold}[1]{\\mathbf{#1}}t^{2} e^{t} - \\frac{1}{3} \\, {\\left(\\sqrt{3} {\\left(C_{2} - C_{3} + 2\\right)} \\sin\\left(\\frac{1}{2} \\, \\sqrt{3} t\\right) - {\\left(3 \\, C_{2} - C_{3} + 2\\right)} \\cos\\left(\\frac{1}{2} \\, \\sqrt{3} t\\right)\\right)} e^{\\left(\\frac{3}{2} \\, t\\right)} + C_{1} - C_{2} + \\frac{1}{3} \\, C_{3} - \\frac{2}{3}</script></html>"
      ],
      "text/plain": [
       "t^2*e^t - 1/3*(sqrt(3)*(C_2 - C_3 + 2)*sin(1/2*sqrt(3)*t) - (3*C_2 - C_3 + 2)*cos(1/2*sqrt(3)*t))*e^(3/2*t) + C_1 - C_2 + 1/3*C_3 - 2/3"
      ]
     },
     "execution_count": 134,
     "metadata": {},
     "output_type": "execute_result"
    }
   ],
   "source": [
    "#Aplicamos la transformada inversa\n",
    "inverse_laplace((C_1*p^5-(6*C_1-C_2)*p^4+(15*C_1-6*C_2+C_3)*p^3-(19*C_1-12*C_2+3*C_3)*p^2+(12*C_1-10*C_2+3*C_3)*p-3*C_1+3*C_2-C_3+2)/(p^6-6*p^5+15*p^4-19*p^3+12*p^2-3*p),p,t)"
   ]
  },
  {
   "cell_type": "markdown",
   "metadata": {},
   "source": [
    "Comprobamos el resultado"
   ]
  },
  {
   "cell_type": "code",
   "execution_count": 135,
   "metadata": {},
   "outputs": [
    {
     "data": {
      "text/html": [
       "<html><script type=\"math/tex; mode=display\">\\newcommand{\\Bold}[1]{\\mathbf{#1}}t^{2} e^{t}</script></html>"
      ],
      "text/plain": [
       "t^2*e^t"
      ]
     },
     "execution_count": 135,
     "metadata": {},
     "output_type": "execute_result"
    }
   ],
   "source": [
    "f = t^2*exp(t) - 1/3*(sqrt(3)*(C_2-C_3+2)*sin(1/2*sqrt(3)*t)-(3*C_2-C_3+2)*cos(1/2*sqrt(3)*t))*exp(3/2*t)+C_1-C_2+1/3*C_3-2/3\n",
    "diff(f,t,3)-3*diff(f,t,2)+3*diff(f,t)"
   ]
  }
 ],
 "metadata": {
  "kernelspec": {
   "display_name": "SageMath 9.1",
   "language": "sage",
   "name": "sagemath"
  },
  "language_info": {
   "codemirror_mode": {
    "name": "ipython",
    "version": 3
   },
   "file_extension": ".py",
   "mimetype": "text/x-python",
   "name": "python",
   "nbconvert_exporter": "python",
   "pygments_lexer": "ipython3",
   "version": "3.7.3"
  }
 },
 "nbformat": 4,
 "nbformat_minor": 2
}
