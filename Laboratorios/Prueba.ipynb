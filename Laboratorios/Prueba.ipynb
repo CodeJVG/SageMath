{
 "cells": [
  {
   "cell_type": "code",
<<<<<<< HEAD
   "execution_count": 3,
   "metadata": {},
   "outputs": [],
   "source": [
    "% display latex"
=======
   "execution_count": 26,
   "metadata": {},
   "outputs": [],
   "source": [
    "#Definimos las contantes\n",
    "c_d = 0.225\n",
    "m = 90\n",
    "g = 9.81\n",
    "\n",
    "#Definimos las variables\n",
    "x = var('x')\n",
    "t = var(\"t\")\n",
    "\n",
    "#Definimos la funcione derivada\n",
    "f(y) = g-c_d/m*y**2\n",
    "\n",
    "#Obtenemos las aproximaciones sucesivas\n",
    "\n",
    "y_0x = 0 #Funcion inicial\n",
    "y_1 = y_0 + integrate(f(y_0),t)(x) - integrate(f(y_0),t)(0)\n",
    "y_2 = y_0 + integrate(f(y_1(t)),t)(x) - integrate(f(y_1(t)),t)(0)\n",
    "y_3 = y_0 + integrate(f(y_2(t)),t)(x) - integrate(f(y_2(t)),t)(0)\n",
    "y_4 = y_0 + integrate(f(y_3(t)),t)(x) - integrate(f(y_3(t)),t)(0)\n",
    "y_5 = y_0 + integrate(f(y_4(t)),t)(x) - integrate(f(y_4(t)),t)(0)\n",
    "y_6 = y_0 + integrate(f(y_5(t)),t)(x) - integrate(f(y_5(t)),t)(0)"
>>>>>>> 273a0845a3294b3294762f7cdc285869d2dffc46
   ]
  },
  {
   "cell_type": "code",
   "execution_count": 27,
   "metadata": {},
   "outputs": [],
   "source": [
<<<<<<< HEAD
    "E_I, E_R, E_T = var('E_I, E_R, E_T')\n",
    "alpha, beta =var('alpha, beta') "
=======
    "y_7 = y_0 + integrate(f(y_6(t)),t)(x) - integrate(f(y_6(t)),t)(0)\n",
    "y_8 = y_0 + integrate(f(y_7(t)),t)(x) - integrate(f(y_7(t)),t)(0)\n",
    "y_9 = y_0 + integrate(f(y_8(t)),t)(x) - integrate(f(y_8(t)),t)(0)"
>>>>>>> 273a0845a3294b3294762f7cdc285869d2dffc46
   ]
  },
  {
   "cell_type": "code",
<<<<<<< HEAD
   "execution_count": 28,
   "metadata": {},
   "outputs": [],
   "source": [
    "eq1 = E_I + E_R == E_T\n",
    "eq2 = E_I - E_R == alpha*beta*E_T"
   ]
  },
  {
   "cell_type": "code",
   "execution_count": 29,
=======
   "execution_count": 31,
>>>>>>> 273a0845a3294b3294762f7cdc285869d2dffc46
   "metadata": {},
   "outputs": [
    {
     "data": {
<<<<<<< HEAD
      "text/html": [
       "<html><script type=\"math/tex; mode=display\">\\newcommand{\\Bold}[1]{\\mathbf{#1}}E_{R} = -\\frac{{\\left(\\alpha \\beta - 1\\right)} E_{I}}{\\alpha \\beta + 1}</script></html>"
      ],
      "text/plain": [
       "E_R == -(alpha*beta - 1)*E_I/(alpha*beta + 1)"
      ]
     },
     "execution_count": 29,
=======
      "image/png": "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\n",
      "text/plain": [
       "Graphics object consisting of 1 graphics primitive"
      ]
     },
     "execution_count": 31,
>>>>>>> 273a0845a3294b3294762f7cdc285869d2dffc46
     "metadata": {},
     "output_type": "execute_result"
    }
   ],
   "source": [
<<<<<<< HEAD
    "solve([eq1,eq2],E_R,E_T)[0][0].factor()"
=======
    "#G1 = plot(y_1,(0,25),ymin=-1,ymax=1,color=\"red\",legend_label=\"1° aprox. sucesiva\")\n",
    "#G2 = plot(y_2,(0,25),ymin=-1,ymax=1,color=\"orange\",legend_label=\"2° aprox. sucesiva\")\n",
    "#G3 = plot(y_3,(0,25),ymin=-1,ymax=1,color=\"green\",legend_label=\"3° aprox. sucesiva\")\n",
    "#G4 = plot(y_4,(0,25),ymin=-1,ymax=1,color=\"cyan\",legend_label=\"4° aprox. sucesiva\")\n",
    "#G5 = plot(y_5,(0,25),ymin=-1,ymax=1,color=\"blue\",legend_label=\"5° aprox. sucesiva\")\n",
    "#G6 = plot(y_6,(0,25),ymin=-1,ymax=1,color=\"purple\",legend_label=\"6° aprox. sucesiva\")\n",
    "\n",
    "\n",
    "#G1+G2+G3+G4+G5+G6\n",
    "plot(y_9,(0,25),ymin=-1,ymax=100,color=\"purple\",legend_label=\"6° aprox. sucesiva\")"
>>>>>>> 273a0845a3294b3294762f7cdc285869d2dffc46
   ]
  },
  {
   "cell_type": "code",
<<<<<<< HEAD
   "execution_count": 30,
=======
   "execution_count": 1,
>>>>>>> 273a0845a3294b3294762f7cdc285869d2dffc46
   "metadata": {},
   "outputs": [
    {
     "data": {
<<<<<<< HEAD
      "text/html": [
       "<html><script type=\"math/tex; mode=display\">\\newcommand{\\Bold}[1]{\\mathbf{#1}}E_{T} = \\frac{2 \\, E_{I}}{\\alpha \\beta + 1}</script></html>"
      ],
      "text/plain": [
       "E_T == 2*E_I/(alpha*beta + 1)"
      ]
     },
     "execution_count": 30,
=======
      "text/plain": [
       "log(x)"
      ]
     },
     "execution_count": 1,
>>>>>>> 273a0845a3294b3294762f7cdc285869d2dffc46
     "metadata": {},
     "output_type": "execute_result"
    }
   ],
   "source": [
<<<<<<< HEAD
    "solve([eq1,eq2],E_R,E_T)[0][1].factor()"
=======
    "ln(x)"
>>>>>>> 273a0845a3294b3294762f7cdc285869d2dffc46
   ]
  },
  {
   "cell_type": "code",
   "execution_count": null,
   "metadata": {},
   "outputs": [],
   "source": [
<<<<<<< HEAD
    "sqrt((alpha-beta)/(alpha+beta)+())"
=======
    "#Definimos la función derivada de la altura\n",
    "f(x,y) = -y_6(x)\n",
    "#Obtenamos las aproximaciones sucesivas\n",
    "y_0 = 1000\n",
    "y_1 = y_0 + integrate(f(t,y_0),t)(x)    - integrate(f(t,y_0),t)(0)\n",
    "y_2 = y_0 + integrate(f(t,y_1(t)),t)(x) - integrate(f(t,y_1(t)),t)(0)\n",
    "y_3 = y_0 + integrate(f(t,y_2(t)),t)(x) - integrate(f(t,y_2(t)),t)(0)\n",
    "y_4 = y_0 + integrate(f(t,y_3(t)),t)(x) - integrate(f(t,y_3(t)),t)(0)\n",
    "y_5 = y_0 + integrate(f(t,y_4(t)),t)(x) - integrate(f(t,y_4(t)),t)(0)\n",
    "y_6 = y_0 + integrate(f(t,y_5(t)),t)(x) - integrate(f(t,y_5(t)),t)(0)\n",
    "show(\"Sexta aproximación sucesiva:\\n\", y_6(t))"
>>>>>>> 273a0845a3294b3294762f7cdc285869d2dffc46
   ]
  }
 ],
 "metadata": {
  "kernelspec": {
   "display_name": "SageMath 9.1",
   "language": "sage",
   "name": "sagemath"
  },
  "language_info": {
   "codemirror_mode": {
    "name": "ipython",
    "version": 3
   },
   "file_extension": ".py",
   "mimetype": "text/x-python",
   "name": "python",
   "nbconvert_exporter": "python",
   "pygments_lexer": "ipython3",
   "version": "3.7.3"
  }
 },
 "nbformat": 4,
 "nbformat_minor": 4
}
