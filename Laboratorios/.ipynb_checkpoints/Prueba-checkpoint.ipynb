{
 "cells": [
  {
   "cell_type": "code",
   "execution_count": 1,
   "metadata": {},
   "outputs": [],
   "source": [
    "%display latex"
   ]
  },
  {
   "cell_type": "markdown",
   "metadata": {},
   "source": [
    "# Transformaciones de Laplace\n"
   ]
  },
  {
   "cell_type": "code",
   "execution_count": 2,
   "metadata": {},
   "outputs": [
    {
     "data": {
      "text/html": [
       "<html><script type=\"math/tex; mode=display\">\\newcommand{\\Bold}[1]{\\mathbf{#1}}-\\frac{1}{p^{2} + 1} + \\frac{2}{{\\left(p - 1\\right)}^{3}}</script></html>"
      ],
      "text/plain": [
       "-1/(p^2 + 1) + 2/(p - 1)^3"
      ]
     },
     "execution_count": 2,
     "metadata": {},
     "output_type": "execute_result"
    }
   ],
   "source": [
    "p = var(\"p\")\n",
    "t = var(\"t\")\n",
    "f = t^2*exp(t) - sin(t)\n",
    "f.laplace(t,p)"
   ]
  },
  {
   "cell_type": "code",
   "execution_count": 7,
   "metadata": {},
   "outputs": [
    {
     "data": {
      "text/html": [
       "<html><script type=\"math/tex; mode=display\">\\newcommand{\\Bold}[1]{\\mathbf{#1}}7.04860821845858 \\times 10^{-7}</script></html>"
      ],
      "text/plain": [
       "7.04860821845858e-7"
      ]
     },
     "execution_count": 7,
     "metadata": {},
     "output_type": "execute_result"
    }
   ],
   "source": [
    "d=26.3*10^(-2)\n",
    "y=1.68*10^(-3)\n",
    "n=1.5231\n",
    "theta=0.5*pi/180\n",
    "D=546*10^(-2)\n",
    "m=1\n",
    "\n",
    "N(2*d*y*theta*(n-1)/(m*(D+d)))"
   ]
  },
  {
   "cell_type": "code",
   "execution_count": 10,
   "metadata": {},
   "outputs": [
    {
     "data": {
      "text/html": [
       "<html><script type=\"math/tex; mode=display\">\\newcommand{\\Bold}[1]{\\mathbf{#1}}0.00215566333333333</script></html>"
      ],
      "text/plain": [
       "0.00215566333333333"
      ]
     },
     "execution_count": 10,
     "metadata": {},
     "output_type": "execute_result"
    }
   ],
   "source": [
    "(D+d)/y*(632.8*10^(-9))\n"
   ]
  },
  {
   "cell_type": "code",
   "execution_count": 11,
   "metadata": {},
   "outputs": [
    {
     "data": {
      "text/html": [
       "<html><script type=\"math/tex; mode=display\">\\newcommand{\\Bold}[1]{\\mathbf{#1}}0.00209001006993007</script></html>"
      ],
      "text/plain": [
       "0.00209001006993007"
      ]
     },
     "execution_count": 11,
     "metadata": {},
     "output_type": "execute_result"
    }
   ],
   "source": [
    "d=26.3*10^(-2)\n",
    "y=1.43*10^(-3)\n",
    "n=1.5231\n",
    "theta=0.5*pi/180\n",
    "D=446*10^(-2)\n",
    "m=1\n",
    "(D+d)/y*(632.8*10^-9)\n"
   ]
  },
  {
   "cell_type": "code",
   "execution_count": 14,
   "metadata": {},
   "outputs": [],
   "source": [
    "D ,d ,y ,ld= var('D d y ld')"
   ]
  },
  {
   "cell_type": "code",
   "execution_count": 28,
   "metadata": {},
   "outputs": [
    {
     "data": {
      "text/html": [
       "<html><script type=\"math/tex; mode=display\">\\newcommand{\\Bold}[1]{\\mathbf{#1}}\\left( D, d, y, \\mathit{ld} \\right) \\ {\\mapsto} \\ \\sqrt{\\frac{\\left(9.00000000000000 \\times 10^{-10}\\right) \\, {\\left(D + d\\right)}^{2} \\mathit{ld}^{2}}{y^{4}} + \\frac{\\left(2.00000000000000 \\times 10^{-6}\\right) \\, \\mathit{ld}^{2}}{y^{2}}}</script></html>"
      ],
      "text/plain": [
       "(D, d, y, ld) |--> sqrt((9.00000000000000e-10)*(D + d)^2*ld^2/y^4 + (2.00000000000000e-6)*ld^2/y^2)"
      ]
     },
     "execution_count": 28,
     "metadata": {},
     "output_type": "execute_result"
    }
   ],
   "source": [
    "a(D ,d ,y ,ld) = (D+d)/y*ld\n",
    "da = sqrt(diff(a,D)^2*(0.001)^2+diff(a,d)^2*(0.001)^2+diff(a,y)^2*(0.03*10^-3)^2)\n",
    "da"
   ]
  },
  {
   "cell_type": "code",
   "execution_count": 31,
   "metadata": {},
   "outputs": [
    {
     "data": {
      "text/html": [
       "<html><script type=\"math/tex; mode=display\">\\newcommand{\\Bold}[1]{\\mathbf{#1}}0.0438508309639370</script></html>"
      ],
      "text/plain": [
       "0.0438508309639370"
      ]
     },
     "execution_count": 31,
     "metadata": {},
     "output_type": "execute_result"
    }
   ],
   "source": [
    "da(D=446*10^(-2),d=26.3*10^(-2),y=1.43*10^(-3),ld=632.8*10^(-9))*1000"
   ]
  },
  {
   "cell_type": "code",
   "execution_count": null,
   "metadata": {},
   "outputs": [],
   "source": []
  }
 ],
 "metadata": {
  "kernelspec": {
   "display_name": "SageMath 9.1",
   "language": "sage",
   "name": "sagemath"
  },
  "language_info": {
   "codemirror_mode": {
    "name": "ipython",
    "version": 3
   },
   "file_extension": ".py",
   "mimetype": "text/x-python",
   "name": "python",
   "nbconvert_exporter": "python",
   "pygments_lexer": "ipython3",
   "version": "3.7.3"
  }
 },
 "nbformat": 4,
 "nbformat_minor": 2
}
