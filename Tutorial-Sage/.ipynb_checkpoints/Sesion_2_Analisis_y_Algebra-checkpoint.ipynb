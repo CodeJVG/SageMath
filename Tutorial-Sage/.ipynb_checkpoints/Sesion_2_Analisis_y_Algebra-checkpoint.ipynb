{
 "cells": [
  {
   "cell_type": "code",
   "execution_count": 19,
   "metadata": {},
   "outputs": [],
   "source": [
    "%display latex"
   ]
  },
  {
   "cell_type": "markdown",
   "metadata": {},
   "source": [
    "# Análisis y Álgebra\n",
    "## Expresiones simbólicas\n"
   ]
  },
  {
   "cell_type": "code",
   "execution_count": 20,
   "metadata": {},
   "outputs": [
    {
     "data": {
      "text/html": [
       "<html><script type=\"math/tex; mode=display\">\\newcommand{\\Bold}[1]{\\mathbf{#1}}\\mathrm{False}</script></html>"
      ],
      "text/latex": [
       "$$\\newcommand{\\Bold}[1]{\\mathbf{#1}}\\mathrm{False}$$"
      ],
      "text/plain": [
       "False"
      ]
     },
     "execution_count": 20,
     "metadata": {},
     "output_type": "execute_result"
    }
   ],
   "source": [
    "bool(arctan(1+abs(x))==pi/2-arctan(1/(1+abs(x))))"
   ]
  },
  {
   "cell_type": "code",
   "execution_count": 21,
   "metadata": {},
   "outputs": [
    {
     "data": {
      "text/html": [
       "<html><script type=\"math/tex; mode=display\">\\newcommand{\\Bold}[1]{\\mathbf{#1}}{\\left(x + 1\\right)} \\cos\\left(a + x\\right)</script></html>"
      ],
      "text/latex": [
       "$$\\newcommand{\\Bold}[1]{\\mathbf{#1}}{\\left(x + 1\\right)} \\cos\\left(a + x\\right)$$"
      ],
      "text/plain": [
       "(x + 1)*cos(a + x)"
      ]
     },
     "execution_count": 21,
     "metadata": {},
     "output_type": "execute_result"
    }
   ],
   "source": [
    "#Definimos la expresion simbolica y con las variables a y x\n",
    "a, y = var(\"a, x\"); y =cos(x+a) * (x+1); y "
   ]
  },
  {
   "cell_type": "code",
   "execution_count": 22,
   "metadata": {},
   "outputs": [
    {
     "data": {
      "text/html": [
       "<html><script type=\"math/tex; mode=display\">\\newcommand{\\Bold}[1]{\\mathbf{#1}}x + 1</script></html>"
      ],
      "text/latex": [
       "$$\\newcommand{\\Bold}[1]{\\mathbf{#1}}x + 1$$"
      ],
      "text/plain": [
       "x + 1"
      ]
     },
     "execution_count": 22,
     "metadata": {},
     "output_type": "execute_result"
    }
   ],
   "source": [
    "#Sustituimos la variable a con -x\n",
    "y.subs(a=-x)"
   ]
  },
  {
   "cell_type": "code",
   "execution_count": 23,
   "metadata": {},
   "outputs": [
    {
     "data": {
      "text/html": [
       "<html><script type=\"math/tex; mode=display\">\\newcommand{\\Bold}[1]{\\mathbf{#1}}-\\frac{1}{4} \\, \\sqrt{3} {\\left(\\pi + 2\\right)}</script></html>"
      ],
      "text/latex": [
       "$$\\newcommand{\\Bold}[1]{\\mathbf{#1}}-\\frac{1}{4} \\, \\sqrt{3} {\\left(\\pi + 2\\right)}$$"
      ],
      "text/plain": [
       "-1/4*sqrt(3)*(pi + 2)"
      ]
     },
     "execution_count": 23,
     "metadata": {},
     "output_type": "execute_result"
    }
   ],
   "source": [
    "#Evaluamos las expresiones\n",
    "y(x=pi/2, a=pi/3)"
   ]
  },
  {
   "cell_type": "code",
   "execution_count": 24,
   "metadata": {},
   "outputs": [
    {
     "data": {
      "text/html": [
       "<html><script type=\"math/tex; mode=display\">\\newcommand{\\Bold}[1]{\\mathbf{#1}}-1.41333351100299</script></html>"
      ],
      "text/latex": [
       "$$\\newcommand{\\Bold}[1]{\\mathbf{#1}}-1.41333351100299$$"
      ],
      "text/plain": [
       "-1.41333351100299"
      ]
     },
     "execution_count": 24,
     "metadata": {},
     "output_type": "execute_result"
    }
   ],
   "source": [
    "y(x=0.5, a=2.3)"
   ]
  },
  {
   "cell_type": "code",
   "execution_count": 25,
   "metadata": {},
   "outputs": [
    {
     "data": {
      "text/html": [
       "<html><script type=\"math/tex; mode=display\">\\newcommand{\\Bold}[1]{\\mathbf{#1}}2 \\, y^{2} + 1</script></html>"
      ],
      "text/latex": [
       "$$\\newcommand{\\Bold}[1]{\\mathbf{#1}}2 \\, y^{2} + 1$$"
      ],
      "text/plain": [
       "2*y^2 + 1"
      ]
     },
     "execution_count": 25,
     "metadata": {},
     "output_type": "execute_result"
    }
   ],
   "source": [
    "#Para reemplazar mas expresiones que una sola variable,el metodo substitute esta disonible:\n",
    "y, z = var(\"y, z\")\n",
    "f = x^3 + y^2 + z\n",
    "f.substitute(x^3==y^2, z==1)"
   ]
  },
  {
   "cell_type": "markdown",
   "metadata": {},
   "source": [
    "## Transformando Expresiones"
   ]
  },
  {
   "cell_type": "markdown",
   "metadata": {},
   "source": [
    "### Ejemplo con Polinomios"
   ]
  },
  {
   "cell_type": "code",
   "execution_count": 34,
   "metadata": {},
   "outputs": [
    {
     "data": {
      "text/html": [
       "<html><script type=\"math/tex; mode=display\">\\newcommand{\\Bold}[1]{\\mathbf{#1}}x^{2} z + y^{2} z - {\\left(a x - 2 \\, b y\\right)} {\\left(x^{2} + y^{2}\\right)} + x^{2} + y^{2}</script></html>"
      ],
      "text/latex": [
       "$$\\newcommand{\\Bold}[1]{\\mathbf{#1}}x^{2} z + y^{2} z - {\\left(a x - 2 \\, b y\\right)} {\\left(x^{2} + y^{2}\\right)} + x^{2} + y^{2}$$"
      ],
      "text/plain": [
       "x^2*z + y^2*z - (a*x - 2*b*y)*(x^2 + y^2) + x^2 + y^2"
      ]
     },
     "execution_count": 34,
     "metadata": {},
     "output_type": "execute_result"
    }
   ],
   "source": [
    "#Definimos un polinomio\n",
    "y, z, a, b = var(\"y, z, a, b\")\n",
    "p = z*x^2 + x^2 - (x^2 + y^2)*(a*x - 2*b*y) + z*y^2 + y^2\n",
    "p"
   ]
  },
  {
   "cell_type": "code",
   "execution_count": 35,
   "metadata": {},
   "outputs": [
    {
     "data": {
      "text/html": [
       "<html><script type=\"math/tex; mode=display\">\\newcommand{\\Bold}[1]{\\mathbf{#1}}-a x^{3} + 2 \\, b x^{2} y - a x y^{2} + 2 \\, b y^{3} + x^{2} z + y^{2} z + x^{2} + y^{2}</script></html>"
      ],
      "text/latex": [
       "$$\\newcommand{\\Bold}[1]{\\mathbf{#1}}-a x^{3} + 2 \\, b x^{2} y - a x y^{2} + 2 \\, b y^{3} + x^{2} z + y^{2} z + x^{2} + y^{2}$$"
      ],
      "text/plain": [
       "-a*x^3 + 2*b*x^2*y - a*x*y^2 + 2*b*y^3 + x^2*z + y^2*z + x^2 + y^2"
      ]
     },
     "execution_count": 35,
     "metadata": {},
     "output_type": "execute_result"
    }
   ],
   "source": [
    "p.expand()"
   ]
  },
  {
   "cell_type": "code",
   "execution_count": 36,
   "metadata": {},
   "outputs": [
    {
     "data": {
      "text/html": [
       "<html><script type=\"math/tex; mode=display\">\\newcommand{\\Bold}[1]{\\mathbf{#1}}-a x^{3} - a x y^{2} + 2 \\, b y^{3} + {\\left(2 \\, b y + z + 1\\right)} x^{2} + y^{2} z + y^{2}</script></html>"
      ],
      "text/latex": [
       "$$\\newcommand{\\Bold}[1]{\\mathbf{#1}}-a x^{3} - a x y^{2} + 2 \\, b y^{3} + {\\left(2 \\, b y + z + 1\\right)} x^{2} + y^{2} z + y^{2}$$"
      ],
      "text/plain": [
       "-a*x^3 - a*x*y^2 + 2*b*y^3 + (2*b*y + z + 1)*x^2 + y^2*z + y^2"
      ]
     },
     "execution_count": 36,
     "metadata": {},
     "output_type": "execute_result"
    }
   ],
   "source": [
    "#Agrupar de acuerdo a una variable\n",
    "p.expand().collect(x)"
   ]
  },
  {
   "cell_type": "code",
   "execution_count": 37,
   "metadata": {},
   "outputs": [
    {
     "data": {
      "text/html": [
       "<html><script type=\"math/tex; mode=display\">\\newcommand{\\Bold}[1]{\\mathbf{#1}}-a x^{3} + 2 \\, b x^{2} y + 2 \\, b y^{3} - {\\left(a x - z - 1\\right)} y^{2} + x^{2} z + x^{2}</script></html>"
      ],
      "text/latex": [
       "$$\\newcommand{\\Bold}[1]{\\mathbf{#1}}-a x^{3} + 2 \\, b x^{2} y + 2 \\, b y^{3} - {\\left(a x - z - 1\\right)} y^{2} + x^{2} z + x^{2}$$"
      ],
      "text/plain": [
       "-a*x^3 + 2*b*x^2*y + 2*b*y^3 - (a*x - z - 1)*y^2 + x^2*z + x^2"
      ]
     },
     "execution_count": 37,
     "metadata": {},
     "output_type": "execute_result"
    }
   ],
   "source": [
    "p.collect(x).collect(y)"
   ]
  },
  {
   "cell_type": "code",
   "execution_count": 38,
   "metadata": {},
   "outputs": [
    {
     "data": {
      "text/html": [
       "<html><script type=\"math/tex; mode=display\">\\newcommand{\\Bold}[1]{\\mathbf{#1}}-{\\left(a x - 2 \\, b y - z - 1\\right)} {\\left(x^{2} + y^{2}\\right)}</script></html>"
      ],
      "text/latex": [
       "$$\\newcommand{\\Bold}[1]{\\mathbf{#1}}-{\\left(a x - 2 \\, b y - z - 1\\right)} {\\left(x^{2} + y^{2}\\right)}$$"
      ],
      "text/plain": [
       "-(a*x - 2*b*y - z - 1)*(x^2 + y^2)"
      ]
     },
     "execution_count": 38,
     "metadata": {},
     "output_type": "execute_result"
    }
   ],
   "source": [
    "#Factorizar\n",
    "p.factor()"
   ]
  },
  {
   "cell_type": "code",
   "execution_count": 39,
   "metadata": {},
   "outputs": [
    {
     "data": {
      "text/html": [
       "<html><script type=\"math/tex; mode=display\">\\newcommand{\\Bold}[1]{\\mathbf{#1}}\\left[\\left(a x - 2 \\, b y - z - 1, 1\\right), \\left(x^{2} + y^{2}, 1\\right), \\left(-1, 1\\right)\\right]</script></html>"
      ],
      "text/latex": [
       "$$\\newcommand{\\Bold}[1]{\\mathbf{#1}}\\left[\\left(a x - 2 \\, b y - z - 1, 1\\right), \\left(x^{2} + y^{2}, 1\\right), \\left(-1, 1\\right)\\right]$$"
      ],
      "text/plain": [
       "[(a*x - 2*b*y - z - 1, 1), (x^2 + y^2, 1), (-1, 1)]"
      ]
     },
     "execution_count": 39,
     "metadata": {},
     "output_type": "execute_result"
    }
   ],
   "source": [
    "p.factor_list()"
   ]
  },
  {
   "cell_type": "markdown",
   "metadata": {},
   "source": [
    "### Ejemplo con Fracciones"
   ]
  },
  {
   "cell_type": "code",
   "execution_count": 41,
   "metadata": {},
   "outputs": [
    {
     "data": {
      "text/html": [
       "<html><script type=\"math/tex; mode=display\">\\newcommand{\\Bold}[1]{\\mathbf{#1}}\\frac{x^{3} + x^{2} y + 3 \\, x^{2} + 3 \\, x y + 2 \\, x + 2 \\, y}{x^{3} + 2 \\, x^{2} + x y + 2 \\, y}</script></html>"
      ],
      "text/latex": [
       "$$\\newcommand{\\Bold}[1]{\\mathbf{#1}}\\frac{x^{3} + x^{2} y + 3 \\, x^{2} + 3 \\, x y + 2 \\, x + 2 \\, y}{x^{3} + 2 \\, x^{2} + x y + 2 \\, y}$$"
      ],
      "text/plain": [
       "(x^3 + x^2*y + 3*x^2 + 3*x*y + 2*x + 2*y)/(x^3 + 2*x^2 + x*y + 2*y)"
      ]
     },
     "execution_count": 41,
     "metadata": {},
     "output_type": "execute_result"
    }
   ],
   "source": [
    "#Definimos una fraccion\n",
    "r = (x^3 + x^2*y + 3*x^2 + 3*x*y + 2*x + 2*y)/(x^3 + 2*x^2 + x*y + 2*y)\n",
    "r"
   ]
  },
  {
   "cell_type": "code",
   "execution_count": 42,
   "metadata": {},
   "outputs": [
    {
     "data": {
      "text/html": [
       "<html><script type=\"math/tex; mode=display\">\\newcommand{\\Bold}[1]{\\mathbf{#1}}\\frac{x^{2} + {\\left(x + 1\\right)} y + x}{x^{2} + y}</script></html>"
      ],
      "text/latex": [
       "$$\\newcommand{\\Bold}[1]{\\mathbf{#1}}\\frac{x^{2} + {\\left(x + 1\\right)} y + x}{x^{2} + y}$$"
      ],
      "text/plain": [
       "(x^2 + (x + 1)*y + x)/(x^2 + y)"
      ]
     },
     "execution_count": 42,
     "metadata": {},
     "output_type": "execute_result"
    }
   ],
   "source": [
    "r.simplify_rational()"
   ]
  },
  {
   "cell_type": "code",
   "execution_count": 43,
   "metadata": {},
   "outputs": [
    {
     "data": {
      "text/html": [
       "<html><script type=\"math/tex; mode=display\">\\newcommand{\\Bold}[1]{\\mathbf{#1}}\\frac{{\\left(x + y\\right)} {\\left(x + 1\\right)}}{x^{2} + y}</script></html>"
      ],
      "text/latex": [
       "$$\\newcommand{\\Bold}[1]{\\mathbf{#1}}\\frac{{\\left(x + y\\right)} {\\left(x + 1\\right)}}{x^{2} + y}$$"
      ],
      "text/plain": [
       "(x + y)*(x + 1)/(x^2 + y)"
      ]
     },
     "execution_count": 43,
     "metadata": {},
     "output_type": "execute_result"
    }
   ],
   "source": [
    "r.factor()"
   ]
  },
  {
   "cell_type": "code",
   "execution_count": 46,
   "metadata": {},
   "outputs": [
    {
     "data": {
      "text/html": [
       "<html><script type=\"math/tex; mode=display\">\\newcommand{\\Bold}[1]{\\mathbf{#1}}\\frac{x^{2}}{x^{2} + y} + \\frac{x y}{x^{2} + y} + \\frac{x}{x^{2} + y} + \\frac{y}{x^{2} + y}</script></html>"
      ],
      "text/latex": [
       "$$\\newcommand{\\Bold}[1]{\\mathbf{#1}}\\frac{x^{2}}{x^{2} + y} + \\frac{x y}{x^{2} + y} + \\frac{x}{x^{2} + y} + \\frac{y}{x^{2} + y}$$"
      ],
      "text/plain": [
       "x^2/(x^2 + y) + x*y/(x^2 + y) + x/(x^2 + y) + y/(x^2 + y)"
      ]
     },
     "execution_count": 46,
     "metadata": {},
     "output_type": "execute_result"
    }
   ],
   "source": [
    "r.factor().expand()"
   ]
  },
  {
   "cell_type": "code",
   "execution_count": 50,
   "metadata": {},
   "outputs": [
    {
     "data": {
      "text/html": [
       "<html><script type=\"math/tex; mode=display\">\\newcommand{\\Bold}[1]{\\mathbf{#1}}\\frac{{\\left(x - 1\\right)} x}{x^{2} - 7} + \\frac{y^{2}}{x^{2} - 7} + \\frac{b}{a} + \\frac{c}{a} + \\frac{1}{x + 1}</script></html>"
      ],
      "text/latex": [
       "$$\\newcommand{\\Bold}[1]{\\mathbf{#1}}\\frac{{\\left(x - 1\\right)} x}{x^{2} - 7} + \\frac{y^{2}}{x^{2} - 7} + \\frac{b}{a} + \\frac{c}{a} + \\frac{1}{x + 1}$$"
      ],
      "text/plain": [
       "(x - 1)*x/(x^2 - 7) + y^2/(x^2 - 7) + b/a + c/a + 1/(x + 1)"
      ]
     },
     "execution_count": 50,
     "metadata": {},
     "output_type": "execute_result"
    }
   ],
   "source": [
    "#Definimos otra funcion\n",
    "y, a, b, c = var(\"y, a, b, c\")\n",
    "r = (x-1)*x/(x^2-7) + y^2/(x^2-7) + b/a + c/a + 1/(x+1)\n",
    "r"
   ]
  },
  {
   "cell_type": "code",
   "execution_count": 51,
   "metadata": {},
   "outputs": [
    {
     "data": {
      "text/html": [
       "<html><script type=\"math/tex; mode=display\">\\newcommand{\\Bold}[1]{\\mathbf{#1}}\\frac{{\\left(x - 1\\right)} x + y^{2}}{x^{2} - 7} + \\frac{b + c}{a} + \\frac{1}{x + 1}</script></html>"
      ],
      "text/latex": [
       "$$\\newcommand{\\Bold}[1]{\\mathbf{#1}}\\frac{{\\left(x - 1\\right)} x + y^{2}}{x^{2} - 7} + \\frac{b + c}{a} + \\frac{1}{x + 1}$$"
      ],
      "text/plain": [
       "((x - 1)*x + y^2)/(x^2 - 7) + (b + c)/a + 1/(x + 1)"
      ]
     },
     "execution_count": 51,
     "metadata": {},
     "output_type": "execute_result"
    }
   ],
   "source": [
    "r.combine()"
   ]
  },
  {
   "cell_type": "code",
   "execution_count": 53,
   "metadata": {},
   "outputs": [
    {
     "data": {
      "text/html": [
       "<html><script type=\"math/tex; mode=display\">\\newcommand{\\Bold}[1]{\\mathbf{#1}}\\frac{1}{{\\left(x^{3} + 1\\right)} y^{2}}</script></html>"
      ],
      "text/latex": [
       "$$\\newcommand{\\Bold}[1]{\\mathbf{#1}}\\frac{1}{{\\left(x^{3} + 1\\right)} y^{2}}$$"
      ],
      "text/plain": [
       "1/((x^3 + 1)*y^2)"
      ]
     },
     "execution_count": 53,
     "metadata": {},
     "output_type": "execute_result"
    }
   ],
   "source": [
    "#Otro ejemplo mas\n",
    "r = 1/((x^3 + 1)*y^2)\n",
    "r"
   ]
  },
  {
   "cell_type": "code",
   "execution_count": 54,
   "metadata": {},
   "outputs": [
    {
     "data": {
      "text/html": [
       "<html><script type=\"math/tex; mode=display\">\\newcommand{\\Bold}[1]{\\mathbf{#1}}-\\frac{x - 2}{3 \\, {\\left(x^{2} - x + 1\\right)} y^{2}} + \\frac{1}{3 \\, {\\left(x + 1\\right)} y^{2}}</script></html>"
      ],
      "text/latex": [
       "$$\\newcommand{\\Bold}[1]{\\mathbf{#1}}-\\frac{x - 2}{3 \\, {\\left(x^{2} - x + 1\\right)} y^{2}} + \\frac{1}{3 \\, {\\left(x + 1\\right)} y^{2}}$$"
      ],
      "text/plain": [
       "-1/3*(x - 2)/((x^2 - x + 1)*y^2) + 1/3/((x + 1)*y^2)"
      ]
     },
     "execution_count": 54,
     "metadata": {},
     "output_type": "execute_result"
    }
   ],
   "source": [
    "r.partial_fraction(x)"
   ]
  },
  {
   "cell_type": "markdown",
   "metadata": {},
   "source": [
    "## Funciones Matematicas Usuales"
   ]
  },
  {
   "cell_type": "markdown",
   "metadata": {},
   "source": [
    "Para simplificar una expresion o funcion simbolica , el metodo **simplify()** esta disponible:"
   ]
  },
  {
   "cell_type": "code",
   "execution_count": 56,
   "metadata": {},
   "outputs": [
    {
     "data": {
      "text/html": [
       "<html><script type=\"math/tex; mode=display\">\\newcommand{\\Bold}[1]{\\mathbf{#1}}x^{x - 1}</script></html>"
      ],
      "text/latex": [
       "$$\\newcommand{\\Bold}[1]{\\mathbf{#1}}x^{x - 1}$$"
      ],
      "text/plain": [
       "x^(x - 1)"
      ]
     },
     "execution_count": 56,
     "metadata": {},
     "output_type": "execute_result"
    }
   ],
   "source": [
    "(x^x/x).simplify()"
   ]
  },
  {
   "cell_type": "markdown",
   "metadata": {},
   "source": [
    "Sin embargo, para simplificaciones más sutiles, el tipo deseado de simplificación debe ser explícito:"
   ]
  },
  {
   "cell_type": "code",
   "execution_count": 57,
   "metadata": {},
   "outputs": [
    {
     "data": {
      "text/html": [
       "<html><script type=\"math/tex; mode=display\">\\newcommand{\\Bold}[1]{\\mathbf{#1}}e^{\\left(\\frac{1}{2} \\, x\\right)} - 1</script></html>"
      ],
      "text/latex": [
       "$$\\newcommand{\\Bold}[1]{\\mathbf{#1}}e^{\\left(\\frac{1}{2} \\, x\\right)} - 1$$"
      ],
      "text/plain": [
       "e^(1/2*x) - 1"
      ]
     },
     "execution_count": 57,
     "metadata": {},
     "output_type": "execute_result"
    }
   ],
   "source": [
    "f = (e^x-1) / (1+e^(x/2))\n",
    "f.canonicalize_radical()"
   ]
  },
  {
   "cell_type": "code",
   "execution_count": 61,
   "metadata": {},
   "outputs": [
    {
     "data": {
      "text/html": [
       "<html><script type=\"math/tex; mode=display\">\\newcommand{\\Bold}[1]{\\mathbf{#1}}1</script></html>"
      ],
      "text/latex": [
       "$$\\newcommand{\\Bold}[1]{\\mathbf{#1}}1$$"
      ],
      "text/plain": [
       "1"
      ]
     },
     "execution_count": 61,
     "metadata": {},
     "output_type": "execute_result"
    }
   ],
   "source": [
    "#Para expresiones trigonometricas\n",
    "f = cos(x)^6 + sin(x)^6 + 3 * sin(x)^2 * cos(x)^2\n",
    "f.simplify_trig()"
   ]
  },
  {
   "cell_type": "code",
   "execution_count": 63,
   "metadata": {},
   "outputs": [
    {
     "data": {
      "text/html": [
       "<html><script type=\"math/tex; mode=display\">\\newcommand{\\Bold}[1]{\\mathbf{#1}}\\frac{1}{32} \\, \\cos\\left(6 \\, x\\right) + \\frac{3}{16} \\, \\cos\\left(4 \\, x\\right) + \\frac{15}{32} \\, \\cos\\left(2 \\, x\\right) + \\frac{5}{16}</script></html>"
      ],
      "text/latex": [
       "$$\\newcommand{\\Bold}[1]{\\mathbf{#1}}\\frac{1}{32} \\, \\cos\\left(6 \\, x\\right) + \\frac{3}{16} \\, \\cos\\left(4 \\, x\\right) + \\frac{15}{32} \\, \\cos\\left(2 \\, x\\right) + \\frac{5}{16}$$"
      ],
      "text/plain": [
       "1/32*cos(6*x) + 3/16*cos(4*x) + 15/32*cos(2*x) + 5/16"
      ]
     },
     "execution_count": 63,
     "metadata": {},
     "output_type": "execute_result"
    }
   ],
   "source": [
    "#Para linealizar (anti-linealizar) una expresion trigonometrica usamos reduce_trig (expand_trig)\n",
    "f = cos(x)^6\n",
    "f.reduce_trig()"
   ]
  },
  {
   "cell_type": "code",
   "execution_count": 64,
   "metadata": {},
   "outputs": [
    {
     "data": {
      "text/html": [
       "<html><script type=\"math/tex; mode=display\">\\newcommand{\\Bold}[1]{\\mathbf{#1}}5 \\, \\cos\\left(x\\right)^{4} \\sin\\left(x\\right) - 10 \\, \\cos\\left(x\\right)^{2} \\sin\\left(x\\right)^{3} + \\sin\\left(x\\right)^{5}</script></html>"
      ],
      "text/latex": [
       "$$\\newcommand{\\Bold}[1]{\\mathbf{#1}}5 \\, \\cos\\left(x\\right)^{4} \\sin\\left(x\\right) - 10 \\, \\cos\\left(x\\right)^{2} \\sin\\left(x\\right)^{3} + \\sin\\left(x\\right)^{5}$$"
      ],
      "text/plain": [
       "5*cos(x)^4*sin(x) - 10*cos(x)^2*sin(x)^3 + sin(x)^5"
      ]
     },
     "execution_count": 64,
     "metadata": {},
     "output_type": "execute_result"
    }
   ],
   "source": [
    "f = sin(5*x)\n",
    "f.expand_trig()"
   ]
  },
  {
   "cell_type": "code",
   "execution_count": 67,
   "metadata": {},
   "outputs": [
    {
     "data": {
      "text/html": [
       "<html><script type=\"math/tex; mode=display\">\\newcommand{\\Bold}[1]{\\mathbf{#1}}n + 1</script></html>"
      ],
      "text/latex": [
       "$$\\newcommand{\\Bold}[1]{\\mathbf{#1}}n + 1$$"
      ],
      "text/plain": [
       "n + 1"
      ]
     },
     "execution_count": 67,
     "metadata": {},
     "output_type": "execute_result"
    }
   ],
   "source": [
    "#Expresiones que contengan factoriales tambien pueden ser simplificados:\n",
    "n = var(\"n\")\n",
    "f = factorial(n+1)/factorial(n)\n",
    "f.simplify_factorial()"
   ]
  },
  {
   "cell_type": "code",
   "execution_count": 68,
   "metadata": {},
   "outputs": [
    {
     "data": {
      "text/html": [
       "<html><script type=\"math/tex; mode=display\">\\newcommand{\\Bold}[1]{\\mathbf{#1}}{\\left| x \\right|}</script></html>"
      ],
      "text/latex": [
       "$$\\newcommand{\\Bold}[1]{\\mathbf{#1}}{\\left| x \\right|}$$"
      ],
      "text/plain": [
       "abs(x)"
      ]
     },
     "execution_count": 68,
     "metadata": {},
     "output_type": "execute_result"
    }
   ],
   "source": [
    "#Para simplificar una fraccion es recomendado usar el metodo simplify_rational()\n",
    "f = sqrt(abs(x)^2)\n",
    "f.canonicalize_radical()"
   ]
  },
  {
   "cell_type": "code",
   "execution_count": 69,
   "metadata": {},
   "outputs": [
    {
     "data": {
      "text/html": [
       "<html><script type=\"math/tex; mode=display\">\\newcommand{\\Bold}[1]{\\mathbf{#1}}\\log\\left(x\\right) + \\log\\left(y\\right)</script></html>"
      ],
      "text/latex": [
       "$$\\newcommand{\\Bold}[1]{\\mathbf{#1}}\\log\\left(x\\right) + \\log\\left(y\\right)$$"
      ],
      "text/plain": [
       "log(x) + log(y)"
      ]
     },
     "execution_count": 69,
     "metadata": {},
     "output_type": "execute_result"
    }
   ],
   "source": [
    "f = log(x*y)\n",
    "f.canonicalize_radical()"
   ]
  },
  {
   "cell_type": "markdown",
   "metadata": {},
   "source": [
    "## Asunciones"
   ]
  },
  {
   "cell_type": "code",
   "execution_count": 72,
   "metadata": {},
   "outputs": [
    {
     "data": {
      "text/html": [
       "<html><script type=\"math/tex; mode=display\">\\newcommand{\\Bold}[1]{\\mathbf{#1}}\\mathrm{True}</script></html>"
      ],
      "text/latex": [
       "$$\\newcommand{\\Bold}[1]{\\mathbf{#1}}\\mathrm{True}$$"
      ],
      "text/plain": [
       "True"
      ]
     },
     "execution_count": 72,
     "metadata": {},
     "output_type": "execute_result"
    }
   ],
   "source": [
    "assume(x > 0)\n",
    "bool(sqrt(x^2) == x)"
   ]
  },
  {
   "cell_type": "code",
   "execution_count": 73,
   "metadata": {},
   "outputs": [
    {
     "data": {
      "text/html": [
       "<html><script type=\"math/tex; mode=display\">\\newcommand{\\Bold}[1]{\\mathbf{#1}}\\mathrm{False}</script></html>"
      ],
      "text/latex": [
       "$$\\newcommand{\\Bold}[1]{\\mathbf{#1}}\\mathrm{False}$$"
      ],
      "text/plain": [
       "False"
      ]
     },
     "execution_count": 73,
     "metadata": {},
     "output_type": "execute_result"
    }
   ],
   "source": [
    "forget(x > 0)\n",
    "bool(sqrt(x^2) == x)"
   ]
  },
  {
   "cell_type": "code",
   "execution_count": 82,
   "metadata": {},
   "outputs": [
    {
     "data": {
      "text/html": [
       "<html><script type=\"math/tex; mode=display\">\\newcommand{\\Bold}[1]{\\mathbf{#1}}0</script></html>"
      ],
      "text/latex": [
       "$$\\newcommand{\\Bold}[1]{\\mathbf{#1}}0$$"
      ],
      "text/plain": [
       "0"
      ]
     },
     "execution_count": 82,
     "metadata": {},
     "output_type": "execute_result"
    }
   ],
   "source": [
    "n = var(\"n\")\n",
    "assume(n, \"integer\")\n",
    "sin(n*pi)"
   ]
  },
  {
   "cell_type": "markdown",
   "metadata": {},
   "source": [
    "# Ecuaciones\n",
    "## Resolucion explicita\n"
   ]
  },
  {
   "cell_type": "code",
   "execution_count": 85,
   "metadata": {},
   "outputs": [
    {
     "data": {
      "text/html": [
       "<html><script type=\"math/tex; mode=display\">\\newcommand{\\Bold}[1]{\\mathbf{#1}}z^{2} - \\frac{2 \\, z}{\\cos\\left(\\phi\\right)} + \\frac{5}{\\cos\\left(\\phi\\right)^{2}} - 4 = 0</script></html>"
      ],
      "text/latex": [
       "$$\\newcommand{\\Bold}[1]{\\mathbf{#1}}z^{2} - \\frac{2 \\, z}{\\cos\\left(\\phi\\right)} + \\frac{5}{\\cos\\left(\\phi\\right)^{2}} - 4 = 0$$"
      ],
      "text/plain": [
       "z^2 - 2*z/cos(phi) + 5/cos(phi)^2 - 4 == 0"
      ]
     },
     "execution_count": 85,
     "metadata": {},
     "output_type": "execute_result"
    }
   ],
   "source": [
    "#Definimos la  ecuacion\n",
    "z, phi = var(\"z, phi\")\n",
    "eq = z^2 - 2/cos(phi)*z + 5/cos(phi)^2 - 4 == 0\n",
    "eq"
   ]
  },
  {
   "cell_type": "code",
   "execution_count": 86,
   "metadata": {},
   "outputs": [
    {
     "data": {
      "text/html": [
       "<html><script type=\"math/tex; mode=display\">\\newcommand{\\Bold}[1]{\\mathbf{#1}}z^{2} - \\frac{2 \\, z}{\\cos\\left(\\phi\\right)} + \\frac{5}{\\cos\\left(\\phi\\right)^{2}} - 4</script></html>"
      ],
      "text/latex": [
       "$$\\newcommand{\\Bold}[1]{\\mathbf{#1}}z^{2} - \\frac{2 \\, z}{\\cos\\left(\\phi\\right)} + \\frac{5}{\\cos\\left(\\phi\\right)^{2}} - 4$$"
      ],
      "text/plain": [
       "z^2 - 2*z/cos(phi) + 5/cos(phi)^2 - 4"
      ]
     },
     "execution_count": 86,
     "metadata": {},
     "output_type": "execute_result"
    }
   ],
   "source": [
    "eq.lhs()"
   ]
  },
  {
   "cell_type": "code",
   "execution_count": 87,
   "metadata": {},
   "outputs": [
    {
     "data": {
      "text/html": [
       "<html><script type=\"math/tex; mode=display\">\\newcommand{\\Bold}[1]{\\mathbf{#1}}0</script></html>"
      ],
      "text/latex": [
       "$$\\newcommand{\\Bold}[1]{\\mathbf{#1}}0$$"
      ],
      "text/plain": [
       "0"
      ]
     },
     "execution_count": 87,
     "metadata": {},
     "output_type": "execute_result"
    }
   ],
   "source": [
    "eq.rhs()"
   ]
  },
  {
   "cell_type": "code",
   "execution_count": 88,
   "metadata": {},
   "outputs": [
    {
     "data": {
      "text/html": [
       "<html><script type=\"math/tex; mode=display\">\\newcommand{\\Bold}[1]{\\mathbf{#1}}\\left[z = -\\frac{2 \\, \\sqrt{\\cos\\left(\\phi\\right)^{2} - 1} - 1}{\\cos\\left(\\phi\\right)}, z = \\frac{2 \\, \\sqrt{\\cos\\left(\\phi\\right)^{2} - 1} + 1}{\\cos\\left(\\phi\\right)}\\right]</script></html>"
      ],
      "text/latex": [
       "$$\\newcommand{\\Bold}[1]{\\mathbf{#1}}\\left[z = -\\frac{2 \\, \\sqrt{\\cos\\left(\\phi\\right)^{2} - 1} - 1}{\\cos\\left(\\phi\\right)}, z = \\frac{2 \\, \\sqrt{\\cos\\left(\\phi\\right)^{2} - 1} + 1}{\\cos\\left(\\phi\\right)}\\right]$$"
      ],
      "text/plain": [
       "[z == -(2*sqrt(cos(phi)^2 - 1) - 1)/cos(phi), z == (2*sqrt(cos(phi)^2 - 1) + 1)/cos(phi)]"
      ]
     },
     "execution_count": 88,
     "metadata": {},
     "output_type": "execute_result"
    }
   ],
   "source": [
    "solve(eq, z)"
   ]
  },
  {
   "cell_type": "code",
   "execution_count": 89,
   "metadata": {},
   "outputs": [
    {
     "data": {
      "text/html": [
       "<html><script type=\"math/tex; mode=display\">\\newcommand{\\Bold}[1]{\\mathbf{#1}}\\left[y = \\frac{1}{2} i \\, \\sqrt{3} + \\frac{1}{2}, y = \\frac{1}{2} i \\, \\sqrt{3} - \\frac{1}{2}, y = \\left(-1\\right), y = -\\frac{1}{2} i \\, \\sqrt{3} - \\frac{1}{2}, y = -\\frac{1}{2} i \\, \\sqrt{3} + \\frac{1}{2}, y = 1, y = 0\\right]</script></html>"
      ],
      "text/latex": [
       "$$\\newcommand{\\Bold}[1]{\\mathbf{#1}}\\left[y = \\frac{1}{2} i \\, \\sqrt{3} + \\frac{1}{2}, y = \\frac{1}{2} i \\, \\sqrt{3} - \\frac{1}{2}, y = \\left(-1\\right), y = -\\frac{1}{2} i \\, \\sqrt{3} - \\frac{1}{2}, y = -\\frac{1}{2} i \\, \\sqrt{3} + \\frac{1}{2}, y = 1, y = 0\\right]$$"
      ],
      "text/plain": [
       "[y == 1/2*I*sqrt(3) + 1/2, y == 1/2*I*sqrt(3) - 1/2, y == -1, y == -1/2*I*sqrt(3) - 1/2, y == -1/2*I*sqrt(3) + 1/2, y == 1, y == 0]"
      ]
     },
     "execution_count": 89,
     "metadata": {},
     "output_type": "execute_result"
    }
   ],
   "source": [
    "#Definimos la ecuacion\n",
    "y = var(\"y\")\n",
    "solve(y^7==y, y)"
   ]
  },
  {
   "cell_type": "markdown",
   "metadata": {},
   "source": [
    "Las raices de una ecuacion pueden volverse como un objeto diccionario"
   ]
  },
  {
   "cell_type": "code",
   "execution_count": 100,
   "metadata": {},
   "outputs": [
    {
     "data": {
      "text/html": [
       "<html><script type=\"math/tex; mode=display\">\\newcommand{\\Bold}[1]{\\mathbf{#1}}\\left\\{x : -1\\right\\}</script></html>"
      ],
      "text/latex": [
       "$$\\newcommand{\\Bold}[1]{\\mathbf{#1}}\\left\\{x : -1\\right\\}$$"
      ],
      "text/plain": [
       "{x: -1}"
      ]
     },
     "execution_count": 100,
     "metadata": {},
     "output_type": "execute_result"
    }
   ],
   "source": [
    "solve(x^2-1, x, solution_dict=True)[0]"
   ]
  },
  {
   "cell_type": "markdown",
   "metadata": {},
   "source": [
    "Tambien se puede resolver sistemas de ecuaciones"
   ]
  },
  {
   "cell_type": "code",
   "execution_count": 111,
   "metadata": {},
   "outputs": [
    {
     "data": {
      "text/html": [
       "<html><script type=\"math/tex; mode=display\">\\newcommand{\\Bold}[1]{\\mathbf{#1}}\\left[\\left[x = -r_{7} + 3, y = r_{7}\\right]\\right]</script></html>"
      ],
      "text/latex": [
       "$$\\newcommand{\\Bold}[1]{\\mathbf{#1}}\\left[\\left[x = -r_{7} + 3, y = r_{7}\\right]\\right]$$"
      ],
      "text/plain": [
       "[[x == -r7 + 3, y == r7]]"
      ]
     },
     "execution_count": 111,
     "metadata": {},
     "output_type": "execute_result"
    }
   ],
   "source": [
    "solve([x+y == 3, 2*x+2*y == 6], x, y)\n",
    "#  r indica un numero real"
   ]
  },
  {
   "cell_type": "code",
   "execution_count": 112,
   "metadata": {},
   "outputs": [
    {
     "data": {
      "text/html": [
       "<html><script type=\"math/tex; mode=display\">\\newcommand{\\Bold}[1]{\\mathbf{#1}}\\left[\\left[x = \\frac{1}{4} \\, \\pi + \\pi z_{2990}, y = -\\frac{1}{4} \\, \\pi - \\pi z_{2990}\\right]\\right]</script></html>"
      ],
      "text/latex": [
       "$$\\newcommand{\\Bold}[1]{\\mathbf{#1}}\\left[\\left[x = \\frac{1}{4} \\, \\pi + \\pi z_{2990}, y = -\\frac{1}{4} \\, \\pi - \\pi z_{2990}\\right]\\right]$$"
      ],
      "text/plain": [
       "[[x == 1/4*pi + pi*z2990, y == -1/4*pi - pi*z2990]]"
      ]
     },
     "execution_count": 112,
     "metadata": {},
     "output_type": "execute_result"
    }
   ],
   "source": [
    "solve([cos(x)*sin(x) == 1/2, x+y == 0], x, y)\n",
    "# z indica un numero entero"
   ]
  },
  {
   "cell_type": "code",
   "execution_count": 113,
   "metadata": {},
   "outputs": [
    {
     "data": {
      "text/html": [
       "<html><script type=\"math/tex; mode=display\">\\newcommand{\\Bold}[1]{\\mathbf{#1}}\\left[\\left[x < -\\frac{1}{2} \\, \\sqrt{5} - \\frac{1}{2}\\right], \\left[x > \\frac{1}{2} \\, \\sqrt{5} - \\frac{1}{2}\\right]\\right]</script></html>"
      ],
      "text/latex": [
       "$$\\newcommand{\\Bold}[1]{\\mathbf{#1}}\\left[\\left[x < -\\frac{1}{2} \\, \\sqrt{5} - \\frac{1}{2}\\right], \\left[x > \\frac{1}{2} \\, \\sqrt{5} - \\frac{1}{2}\\right]\\right]$$"
      ],
      "text/plain": [
       "[[x < -1/2*sqrt(5) - 1/2], [x > 1/2*sqrt(5) - 1/2]]"
      ]
     },
     "execution_count": 113,
     "metadata": {},
     "output_type": "execute_result"
    }
   ],
   "source": [
    "solve(x^2+x-1>0,x)"
   ]
  },
  {
   "cell_type": "code",
   "execution_count": 118,
   "metadata": {},
   "outputs": [
    {
     "data": {
      "text/html": [
       "<html><script type=\"math/tex; mode=display\">\\newcommand{\\Bold}[1]{\\mathbf{#1}}\\left[\\left[x = 3, y = 2, z = 1\\right], \\left[x = \\left(1.337215067329613 - 2.685489874065195i\\right), y = \\left(-1.700434271459228 + 1.052864325754712i\\right), z = \\left(0.9324722294043555 - 0.3612416661871523i\\right)\\right], \\left[x = \\left(1.337215067329613 + 2.685489874065194i\\right), y = \\left(-1.700434271459228 - 1.052864325754712i\\right), z = \\left(0.9324722294043555 + 0.3612416661871523i\\right)\\right], \\left[x = \\left(-2.550651407188846 - 1.579296488632072i\\right), y = \\left(-0.5473259801441661 + 1.923651286345638i\\right), z = \\left(-0.9829730996839015 - 0.1837495178165701i\\right)\\right], \\left[x = \\left(-2.550651407188845 + 1.57929648863207i\\right), y = \\left(-0.5473259801441662 - 1.923651286345638i\\right), z = \\left(-0.9829730996839015 + 0.1837495178165701i\\right)\\right], \\left[x = \\left(0.2768050783899189 - 2.987202528885064i\\right), y = \\left(1.478017834441328 - 1.347391287293138i\\right), z = \\left(-0.8502171357296144 - 0.526432162877356i\\right)\\right], \\left[x = \\left(0.2768050783899063 + 2.9872025288851i\\right), y = \\left(1.478017834441318 + 1.347391287293114i\\right), z = \\left(-0.8502171357296144 + 0.526432162877356i\\right)\\right], \\left[x = \\left(-0.8209889702162458 + 2.885476929518458i\\right), y = \\left(-1.205269272758512 - 1.59603445456048i\\right), z = \\left(0.09226835946330206 - 0.9957341762950345i\\right)\\right], \\left[x = \\left(-0.8209889702162483 - 2.885476929518458i\\right), y = \\left(-1.205269272758513 + 1.596034454560479i\\right), z = \\left(0.09226835946330206 + 0.9957341762950345i\\right)\\right], \\left[x = \\left(-1.807903909137758 - 2.394051681840712i\\right), y = \\left(0.8914767115530776 - 1.790326582710134i\\right), z = \\left(0.7390089172206591 - 0.6736956436465571i\\right)\\right], \\left[x = \\left(-1.80790390913777 + 2.394051681840719i\\right), y = \\left(0.8914767115530766 + 1.790326582710125i\\right), z = \\left(0.7390089172206591 + 0.6736956436465571i\\right)\\right], \\left[x = \\left(2.217026751661979 + 2.021086930939673i\\right), y = \\left(1.864944458808712 + 0.722483332374306i\\right), z = \\left(-0.2736629900720828 - 0.9618256431728189i\\right)\\right], \\left[x = \\left(2.217026751662001 - 2.021086930939692i\\right), y = \\left(1.864944458808694 - 0.7224833323742995i\\right), z = \\left(-0.2736629900720828 + 0.9618256431728189i\\right)\\right], \\left[x = \\left(2.797416688213066 - 1.08372499856146i\\right), y = \\left(-1.965946199367804 + 0.3674990356331407i\\right), z = \\left(-0.6026346363792563 - 0.7980172272802396i\\right)\\right], \\left[x = \\left(2.797416688213066 + 1.08372499856146i\\right), y = \\left(-1.965946199367804 - 0.3674990356331408i\\right), z = \\left(-0.6026346363792563 + 0.7980172272802396i\\right)\\right], \\left[x = \\left(-2.948919299051704 + 0.5512485534497115i\\right), y = \\left(0.184536718926604 + 1.991468352590069i\\right), z = \\left(0.4457383557765383 - 0.8951632913550623i\\right)\\right], \\left[x = \\left(-2.948919299051704 - 0.5512485534497117i\\right), y = \\left(0.184536718926604 - 1.991468352590069i\\right), z = \\left(0.4457383557765383 + 0.8951632913550623i\\right)\\right]\\right]</script></html>"
      ],
      "text/latex": [
       "$$\\newcommand{\\Bold}[1]{\\mathbf{#1}}\\left[\\left[x = 3, y = 2, z = 1\\right], \\left[x = \\left(1.337215067329613 - 2.685489874065195i\\right), y = \\left(-1.700434271459228 + 1.052864325754712i\\right), z = \\left(0.9324722294043555 - 0.3612416661871523i\\right)\\right], \\left[x = \\left(1.337215067329613 + 2.685489874065194i\\right), y = \\left(-1.700434271459228 - 1.052864325754712i\\right), z = \\left(0.9324722294043555 + 0.3612416661871523i\\right)\\right], \\left[x = \\left(-2.550651407188846 - 1.579296488632072i\\right), y = \\left(-0.5473259801441661 + 1.923651286345638i\\right), z = \\left(-0.9829730996839015 - 0.1837495178165701i\\right)\\right], \\left[x = \\left(-2.550651407188845 + 1.57929648863207i\\right), y = \\left(-0.5473259801441662 - 1.923651286345638i\\right), z = \\left(-0.9829730996839015 + 0.1837495178165701i\\right)\\right], \\left[x = \\left(0.2768050783899189 - 2.987202528885064i\\right), y = \\left(1.478017834441328 - 1.347391287293138i\\right), z = \\left(-0.8502171357296144 - 0.526432162877356i\\right)\\right], \\left[x = \\left(0.2768050783899063 + 2.9872025288851i\\right), y = \\left(1.478017834441318 + 1.347391287293114i\\right), z = \\left(-0.8502171357296144 + 0.526432162877356i\\right)\\right], \\left[x = \\left(-0.8209889702162458 + 2.885476929518458i\\right), y = \\left(-1.205269272758512 - 1.59603445456048i\\right), z = \\left(0.09226835946330206 - 0.9957341762950345i\\right)\\right], \\left[x = \\left(-0.8209889702162483 - 2.885476929518458i\\right), y = \\left(-1.205269272758513 + 1.596034454560479i\\right), z = \\left(0.09226835946330206 + 0.9957341762950345i\\right)\\right], \\left[x = \\left(-1.807903909137758 - 2.394051681840712i\\right), y = \\left(0.8914767115530776 - 1.790326582710134i\\right), z = \\left(0.7390089172206591 - 0.6736956436465571i\\right)\\right], \\left[x = \\left(-1.80790390913777 + 2.394051681840719i\\right), y = \\left(0.8914767115530766 + 1.790326582710125i\\right), z = \\left(0.7390089172206591 + 0.6736956436465571i\\right)\\right], \\left[x = \\left(2.217026751661979 + 2.021086930939673i\\right), y = \\left(1.864944458808712 + 0.722483332374306i\\right), z = \\left(-0.2736629900720828 - 0.9618256431728189i\\right)\\right], \\left[x = \\left(2.217026751662001 - 2.021086930939692i\\right), y = \\left(1.864944458808694 - 0.7224833323742995i\\right), z = \\left(-0.2736629900720828 + 0.9618256431728189i\\right)\\right], \\left[x = \\left(2.797416688213066 - 1.08372499856146i\\right), y = \\left(-1.965946199367804 + 0.3674990356331407i\\right), z = \\left(-0.6026346363792563 - 0.7980172272802396i\\right)\\right], \\left[x = \\left(2.797416688213066 + 1.08372499856146i\\right), y = \\left(-1.965946199367804 - 0.3674990356331408i\\right), z = \\left(-0.6026346363792563 + 0.7980172272802396i\\right)\\right], \\left[x = \\left(-2.948919299051704 + 0.5512485534497115i\\right), y = \\left(0.184536718926604 + 1.991468352590069i\\right), z = \\left(0.4457383557765383 - 0.8951632913550623i\\right)\\right], \\left[x = \\left(-2.948919299051704 - 0.5512485534497117i\\right), y = \\left(0.184536718926604 - 1.991468352590069i\\right), z = \\left(0.4457383557765383 + 0.8951632913550623i\\right)\\right]\\right]$$"
      ],
      "text/plain": [
       "[[x == 3, y == 2, z == 1], [x == (1.337215067329613 - 2.685489874065195*I), y == (-1.700434271459228 + 1.052864325754712*I), z == (0.9324722294043555 - 0.3612416661871523*I)], [x == (1.337215067329613 + 2.685489874065194*I), y == (-1.700434271459228 - 1.052864325754712*I), z == (0.9324722294043555 + 0.3612416661871523*I)], [x == (-2.550651407188846 - 1.579296488632072*I), y == (-0.5473259801441661 + 1.923651286345638*I), z == (-0.9829730996839015 - 0.1837495178165701*I)], [x == (-2.550651407188845 + 1.57929648863207*I), y == (-0.5473259801441662 - 1.923651286345638*I), z == (-0.9829730996839015 + 0.1837495178165701*I)], [x == (0.2768050783899189 - 2.987202528885064*I), y == (1.478017834441328 - 1.347391287293138*I), z == (-0.8502171357296144 - 0.526432162877356*I)], [x == (0.2768050783899063 + 2.9872025288851*I), y == (1.478017834441318 + 1.347391287293114*I), z == (-0.8502171357296144 + 0.526432162877356*I)], [x == (-0.8209889702162458 + 2.885476929518458*I), y == (-1.205269272758512 - 1.59603445456048*I), z == (0.09226835946330206 - 0.9957341762950345*I)], [x == (-0.8209889702162483 - 2.885476929518458*I), y == (-1.205269272758513 + 1.596034454560479*I), z == (0.09226835946330206 + 0.9957341762950345*I)], [x == (-1.807903909137758 - 2.394051681840712*I), y == (0.8914767115530776 - 1.790326582710134*I), z == (0.7390089172206591 - 0.6736956436465571*I)], [x == (-1.80790390913777 + 2.394051681840719*I), y == (0.8914767115530766 + 1.790326582710125*I), z == (0.7390089172206591 + 0.6736956436465571*I)], [x == (2.217026751661979 + 2.021086930939673*I), y == (1.864944458808712 + 0.722483332374306*I), z == (-0.2736629900720828 - 0.9618256431728189*I)], [x == (2.217026751662001 - 2.021086930939692*I), y == (1.864944458808694 - 0.7224833323742995*I), z == (-0.2736629900720828 + 0.9618256431728189*I)], [x == (2.797416688213066 - 1.08372499856146*I), y == (-1.965946199367804 + 0.3674990356331407*I), z == (-0.6026346363792563 - 0.7980172272802396*I)], [x == (2.797416688213066 + 1.08372499856146*I), y == (-1.965946199367804 - 0.3674990356331408*I), z == (-0.6026346363792563 + 0.7980172272802396*I)], [x == (-2.948919299051704 + 0.5512485534497115*I), y == (0.184536718926604 + 1.991468352590069*I), z == (0.4457383557765383 - 0.8951632913550623*I)], [x == (-2.948919299051704 - 0.5512485534497117*I), y == (0.184536718926604 - 1.991468352590069*I), z == (0.4457383557765383 + 0.8951632913550623*I)]]"
      ]
     },
     "execution_count": 118,
     "metadata": {},
     "output_type": "execute_result"
    }
   ],
   "source": [
    "x, y, z = var(\"x, y, z\")\n",
    "solve([x^2 * y * z == 18, x * y^3 * z == 24,x * y * z^4 == 6], x, y, z)\n"
   ]
  },
  {
   "cell_type": "code",
   "execution_count": null,
   "metadata": {},
   "outputs": [],
   "source": []
  }
 ],
 "metadata": {
  "kernelspec": {
   "display_name": "SageMath 9.3",
   "language": "sage",
   "name": "sagemath"
  },
  "language_info": {
   "codemirror_mode": {
    "name": "ipython",
    "version": 3
   },
   "file_extension": ".py",
   "mimetype": "text/x-python",
   "name": "python",
   "nbconvert_exporter": "python",
   "pygments_lexer": "ipython3",
   "version": "3.7.10"
  }
 },
 "nbformat": 4,
 "nbformat_minor": 4
}
