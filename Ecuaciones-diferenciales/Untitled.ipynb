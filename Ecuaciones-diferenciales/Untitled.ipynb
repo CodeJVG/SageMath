{
 "cells": [
  {
   "cell_type": "code",
   "execution_count": 5,
   "metadata": {},
   "outputs": [],
   "source": [
    "%display latex"
   ]
  },
  {
   "cell_type": "code",
   "execution_count": 8,
   "metadata": {},
   "outputs": [],
   "source": [
    "x = var(\"x\")\n",
    "y = function('y')(x)"
   ]
  },
  {
   "cell_type": "code",
   "execution_count": 10,
   "metadata": {},
   "outputs": [
    {
     "data": {
      "text/html": [
       "<html><script type=\"math/tex; mode=display\">\\newcommand{\\Bold}[1]{\\mathbf{#1}}-\\frac{1}{4} \\, {\\left({\\left(2 \\, x + 1\\right)} e^{\\left(-2 \\, x\\right)} - 4 \\, C\\right)} e^{\\left(2 \\, x\\right)}</script></html>"
      ],
      "text/latex": [
       "$$\\newcommand{\\Bold}[1]{\\mathbf{#1}}-\\frac{1}{4} \\, {\\left({\\left(2 \\, x + 1\\right)} e^{\\left(-2 \\, x\\right)} - 4 \\, C\\right)} e^{\\left(2 \\, x\\right)}$$"
      ],
      "text/plain": [
       "-1/4*((2*x + 1)*e^(-2*x) - 4*_C)*e^(2*x)"
      ]
     },
     "execution_count": 10,
     "metadata": {},
     "output_type": "execute_result"
    }
   ],
   "source": [
    "desolve(diff(y,x) == 2*y+x,y)"
   ]
  },
  {
   "cell_type": "code",
   "execution_count": 12,
   "metadata": {},
   "outputs": [
    {
     "data": {
      "text/html": [
       "<html><script type=\"math/tex; mode=display\">\\newcommand{\\Bold}[1]{\\mathbf{#1}}\\left[\\frac{1}{4} \\, {\\left(4 \\, C + e^{\\left(4 \\, x\\right)}\\right)} e^{\\left(-3 \\, x\\right)}, \\verb|linear|\\right]</script></html>"
      ],
      "text/latex": [
       "$$\\newcommand{\\Bold}[1]{\\mathbf{#1}}\\left[\\frac{1}{4} \\, {\\left(4 \\, C + e^{\\left(4 \\, x\\right)}\\right)} e^{\\left(-3 \\, x\\right)}, \\verb|linear|\\right]$$"
      ],
      "text/plain": [
       "[1/4*(4*_C + e^(4*x))*e^(-3*x), 'linear']"
      ]
     },
     "execution_count": 12,
     "metadata": {},
     "output_type": "execute_result"
    }
   ],
   "source": [
    "desolve(diff(y,x)+3*y == exp(x),y,show_method=True)"
   ]
  },
  {
   "cell_type": "code",
   "execution_count": null,
   "metadata": {},
   "outputs": [],
   "source": []
  }
 ],
 "metadata": {
  "kernelspec": {
   "display_name": "SageMath 9.3",
   "language": "sage",
   "name": "sagemath"
  },
  "language_info": {
   "codemirror_mode": {
    "name": "ipython",
    "version": 3
   },
   "file_extension": ".py",
   "mimetype": "text/x-python",
   "name": "python",
   "nbconvert_exporter": "python",
   "pygments_lexer": "ipython3",
   "version": "3.7.10"
  }
 },
 "nbformat": 4,
 "nbformat_minor": 4
}
