{
 "cells": [
  {
   "cell_type": "code",
   "execution_count": 1,
   "metadata": {},
   "outputs": [],
   "source": [
    "%display latex"
   ]
  },
  {
   "cell_type": "markdown",
   "metadata": {},
   "source": [
    "# Transformaciones de Laplace\n",
    "## Resolviendo ecuaciones diferenciales ordinarias\n",
    "Podemos resolver ecuaciones diferenciales ordinarias usando el comando **desolve()**. Por ejemplo para resolver la ecuación $x'+2x-3=0$, podemos utilizar las siguientes ordenes:"
   ]
  },
  {
   "cell_type": "code",
   "execution_count": 6,
   "metadata": {},
   "outputs": [
    {
     "data": {
      "text/html": [
       "<html><script type=\"math/tex; mode=display\">\\newcommand{\\Bold}[1]{\\mathbf{#1}}C e^{\\left(-2 \\, t\\right)} + \\frac{3}{2}</script></html>"
      ],
      "text/plain": [
       "_C*e^(-2*t) + 3/2"
      ]
     },
     "execution_count": 6,
     "metadata": {},
     "output_type": "execute_result"
    }
   ],
   "source": [
    "t = var(\"t\")\n",
    "x = function(\"x\")(t)\n",
    "DE = diff(x,t)+2*x-3\n",
    "desolve(DE,[x,t]).expand()"
   ]
  },
  {
   "cell_type": "markdown",
   "metadata": {},
   "source": [
    "Tambien se pueden calcular trasformadas de Laplace, la transformadada de $t^3e^{2t}-\\sin{t^2}$ se calcula de la siguiente manera:"
   ]
  },
  {
   "cell_type": "code",
   "execution_count": 14,
   "metadata": {},
   "outputs": [
    {
     "data": {
      "text/html": [
       "<html><script type=\"math/tex; mode=display\">\\newcommand{\\Bold}[1]{\\mathbf{#1}}-\\frac{3}{p^{2} + 9} + \\frac{6}{{\\left(p - 2\\right)}^{4}}</script></html>"
      ],
      "text/plain": [
       "-3/(p^2 + 9) + 6/(p - 2)^4"
      ]
     },
     "execution_count": 14,
     "metadata": {},
     "output_type": "execute_result"
    }
   ],
   "source": [
    "p, t = var(\"p, t\")\n",
    "g = t^3*exp(2*t)-sin(3*t)\n",
    "g.laplace(t,p)"
   ]
  },
  {
   "cell_type": "markdown",
   "metadata": {},
   "source": [
    "Sea el siguiente sistema de ecuaciones diferenciales:\n",
    "$$2x''_1+6x'_1-2x_2=0$$\n",
    "$$x''_2+2(x_2-x_1)=0$$"
   ]
  },
  {
   "cell_type": "code",
   "execution_count": 16,
   "metadata": {},
   "outputs": [
    {
     "data": {
      "text/html": [
       "<html><script type=\"math/tex; mode=display\">\\newcommand{\\Bold}[1]{\\mathbf{#1}}2\\,\\left({{{\\it \\partial}^2}\\over{{\\it \\partial}\\,t^2}}\\,x\\left(t  \\right)\\right)-2\\,y\\left(t\\right)+6\\,x\\left(t\\right)</script></html>"
      ],
      "text/plain": [
       "2*'diff(x(t),t,2)-2*y(t)+6*x(t)"
      ]
     },
     "execution_count": 16,
     "metadata": {},
     "output_type": "execute_result"
    }
   ],
   "source": [
    "de1 = maxima(\"2*diff(x(t),t,2)+6*x(t)-2*y(t)\") #Escibimos la primera ecuaciones diferencial\n",
    "de1"
   ]
  },
  {
   "cell_type": "code",
   "execution_count": 17,
   "metadata": {},
   "outputs": [
    {
     "data": {
      "text/html": [
       "<html><script type=\"math/tex; mode=display\">\\newcommand{\\Bold}[1]{\\mathbf{#1}}2\\,\\left(-\\left.{{{\\it \\partial}}\\over{{\\it \\partial}\\,t}}\\,x\\left(  t\\right)\\right|_{t=0}+s^2\\,\\mathcal{L}\\left(x\\left(t\\right) , t , s  \\right)-x\\left(0\\right)\\,s\\right)-2\\,\\mathcal{L}\\left(y\\left(t  \\right) , t , s\\right)+6\\,\\mathcal{L}\\left(x\\left(t\\right) , t , s  \\right)</script></html>"
      ],
      "text/plain": [
       "2*((-%at('diff(x(t),t,1),t=0))+s^2*'laplace(x(t),t,s)-x(0)*s)-2*'laplace(y(t),t,s)+6*'laplace(x(t),t,s)"
      ]
     },
     "execution_count": 17,
     "metadata": {},
     "output_type": "execute_result"
    }
   ],
   "source": [
    "lde1 = de1.laplace(\"t\",\"s\") #Transdormacionas \n",
    "lde1"
   ]
  },
  {
   "cell_type": "code",
   "execution_count": 18,
   "metadata": {},
   "outputs": [
    {
     "data": {
      "text/html": [
       "<html><script type=\"math/tex; mode=display\">\\newcommand{\\Bold}[1]{\\mathbf{#1}}{{{\\it \\partial}^2}\\over{{\\it \\partial}\\,t^2}}\\,y\\left(t\\right)+2\\,  y\\left(t\\right)-2\\,x\\left(t\\right)</script></html>"
      ],
      "text/plain": [
       "'diff(y(t),t,2)+2*y(t)-2*x(t)"
      ]
     },
     "execution_count": 18,
     "metadata": {},
     "output_type": "execute_result"
    }
   ],
   "source": [
    "de2 = maxima(\"diff(y(t),t, 2) + 2*y(t) - 2*x(t)\")  #Escribimis la segunda ecuacion difernecial\n",
    "de2"
   ]
  },
  {
   "cell_type": "code",
   "execution_count": 19,
   "metadata": {},
   "outputs": [
    {
     "data": {
      "text/html": [
       "<html><script type=\"math/tex; mode=display\">\\newcommand{\\Bold}[1]{\\mathbf{#1}}-\\left.{{{\\it \\partial}}\\over{{\\it \\partial}\\,t}}\\,y\\left(t\\right)  \\right|_{t=0}+s^2\\,\\mathcal{L}\\left(y\\left(t\\right) , t , s\\right)+2  \\,\\mathcal{L}\\left(y\\left(t\\right) , t , s\\right)-2\\,\\mathcal{L}  \\left(x\\left(t\\right) , t , s\\right)-y\\left(0\\right)\\,s</script></html>"
      ],
      "text/plain": [
       "(-%at('diff(y(t),t,1),t=0))+s^2*'laplace(y(t),t,s)+2*'laplace(y(t),t,s)-2*'laplace(x(t),t,s)-y(0)*s"
      ]
     },
     "execution_count": 19,
     "metadata": {},
     "output_type": "execute_result"
    }
   ],
   "source": [
    "lde2 = de2.laplace(\"t\",\"s\"); lde2  #Tomamos la transformada de Laplace"
   ]
  },
  {
   "cell_type": "code",
   "execution_count": 22,
   "metadata": {},
   "outputs": [
    {
     "data": {
      "text/html": [
       "<html><script type=\"math/tex; mode=display\">\\newcommand{\\Bold}[1]{\\mathbf{#1}}\\left[2 \\, {\\left(p^{2} + 3\\right)} X - 2 \\, Y = 6 \\, p, {\\left(p^{2} + 2\\right)} Y - 2 \\, X = 3 \\, p\\right]</script></html>"
      ],
      "text/plain": [
       "[2*(p^2 + 3)*X - 2*Y == 6*p, (p^2 + 2)*Y - 2*X == 3*p]"
      ]
     },
     "execution_count": 22,
     "metadata": {},
     "output_type": "execute_result"
    }
   ],
   "source": [
    "#Remmplazando x(0)=3 x'(0)=0 y(0)=3 y'(0)=0\n",
    "var('p X Y')\n",
    "eqns = [(2*p^2+6)*X-2*Y == 6*p, -2*X +(p^2+2)*Y == 3*p]\n",
    "eqns"
   ]
  },
  {
   "cell_type": "code",
   "execution_count": 23,
   "metadata": {},
   "outputs": [
    {
     "data": {
      "text/html": [
       "<html><script type=\"math/tex; mode=display\">\\newcommand{\\Bold}[1]{\\mathbf{#1}}\\left[\\left[X = \\frac{3 \\, {\\left(p^{3} + 3 \\, p\\right)}}{p^{4} + 5 \\, p^{2} + 4}, Y = \\frac{3 \\, {\\left(p^{3} + 5 \\, p\\right)}}{p^{4} + 5 \\, p^{2} + 4}\\right]\\right]</script></html>"
      ],
      "text/plain": [
       "[[X == 3*(p^3 + 3*p)/(p^4 + 5*p^2 + 4), Y == 3*(p^3 + 5*p)/(p^4 + 5*p^2 + 4)]]"
      ]
     },
     "execution_count": 23,
     "metadata": {},
     "output_type": "execute_result"
    }
   ],
   "source": [
    "#Resolvemos la el sistema lineal de ecuaciones\n",
    "solve(eqns, X, Y)"
   ]
  },
  {
   "cell_type": "code",
   "execution_count": 24,
   "metadata": {},
   "outputs": [
    {
     "data": {
      "text/html": [
       "<html><script type=\"math/tex; mode=display\">\\newcommand{\\Bold}[1]{\\mathbf{#1}}\\left(p, t\\right)</script></html>"
      ],
      "text/plain": [
       "(p, t)"
      ]
     },
     "execution_count": 24,
     "metadata": {},
     "output_type": "execute_result"
    }
   ],
   "source": [
    "var(\"p t\") "
   ]
  },
  {
   "cell_type": "code",
   "execution_count": 25,
   "metadata": {},
   "outputs": [
    {
     "data": {
      "text/html": [
       "<html><script type=\"math/tex; mode=display\">\\newcommand{\\Bold}[1]{\\mathbf{#1}}\\cos\\left(2 \\, t\\right) + 2 \\, \\cos\\left(t\\right)</script></html>"
      ],
      "text/plain": [
       "cos(2*t) + 2*cos(t)"
      ]
     },
     "execution_count": 25,
     "metadata": {},
     "output_type": "execute_result"
    }
   ],
   "source": [
    "#Realizamos la transformada inversa de las imagenes\n",
    "inverse_laplace(3*(p^3+3*p)/(p^4+5*p^2+4),p,t)"
   ]
  },
  {
   "cell_type": "code",
   "execution_count": 26,
   "metadata": {},
   "outputs": [
    {
     "data": {
      "text/html": [
       "<html><script type=\"math/tex; mode=display\">\\newcommand{\\Bold}[1]{\\mathbf{#1}}-\\cos\\left(2 \\, t\\right) + 4 \\, \\cos\\left(t\\right)</script></html>"
      ],
      "text/plain": [
       "-cos(2*t) + 4*cos(t)"
      ]
     },
     "execution_count": 26,
     "metadata": {},
     "output_type": "execute_result"
    }
   ],
   "source": [
    "inverse_laplace(3*(p^3+5*p)/(p^4+5*p^2+4),p,t)"
   ]
  },
  {
   "cell_type": "markdown",
   "metadata": {},
   "source": [
    "Por tanto la solucion resulta\n",
    "$$x(t)=\\cos(2t)+2\\cos(t) \\hspace{1cm} y(t)=-\\cos(2t)+4\\cos(t)$$"
   ]
  },
  {
   "cell_type": "code",
   "execution_count": 27,
   "metadata": {},
   "outputs": [
    {
     "data": {
      "image/png": "[encoded data removed]",
      "text/plain": [
       "Graphics object consisting of 2 graphics primitives"
      ]
     },
     "metadata": {},
     "output_type": "display_data"
    }
   ],
   "source": [
    "t = var('t')\n",
    "p1 = plot(cos(2*t) + 2*cos(t), (t,0, 2*pi), rgbcolor=hue(0.3))\n",
    "p2 = plot(4*cos(t) - cos(2*t), (t,0, 2*pi), rgbcolor=hue(0.6))\n",
    "show(p1+p2)"
   ]
  },
  {
   "cell_type": "code",
   "execution_count": 31,
   "metadata": {},
   "outputs": [
    {
     "data": {
      "text/html": [
       "<html><script type=\"math/tex; mode=display\">\\newcommand{\\Bold}[1]{\\mathbf{#1}}\\frac{3}{p^{2} - 4 \\, p + 13}</script></html>"
      ],
      "text/plain": [
       "3/(p^2 - 4*p + 13)"
      ]
     },
     "execution_count": 31,
     "metadata": {},
     "output_type": "execute_result"
    }
   ],
   "source": [
    "var(\"p t\")\n",
    "laplace(e^(2*t)*sin(3*t),t,p)"
   ]
  },
  {
   "cell_type": "code",
   "execution_count": 34,
   "metadata": {},
   "outputs": [
    {
     "data": {
      "text/html": [
       "<html><script type=\"math/tex; mode=display\">\\newcommand{\\Bold}[1]{\\mathbf{#1}}\\frac{24 \\, {\\left(p + 1\\right)}^{3}}{{\\left(p^{2} + 2 \\, p + 2\\right)}^{3}} - \\frac{18 \\, {\\left(p + 1\\right)}}{{\\left(p^{2} + 2 \\, p + 2\\right)}^{2}}</script></html>"
      ],
      "text/plain": [
       "24*(p + 1)^3/(p^2 + 2*p + 2)^3 - 18*(p + 1)/(p^2 + 2*p + 2)^2"
      ]
     },
     "execution_count": 34,
     "metadata": {},
     "output_type": "execute_result"
    }
   ],
   "source": [
    "laplace(3*t^2*exp(-t)*cos(t),t,p)"
   ]
  },
  {
   "cell_type": "code",
   "execution_count": 48,
   "metadata": {},
   "outputs": [
    {
     "data": {
      "text/html": [
       "<html><script type=\"math/tex; mode=display\">\\newcommand{\\Bold}[1]{\\mathbf{#1}}\\frac{8 \\, {\\left(t + 1\\right)}^{3}}{{\\left({\\left(t + 1\\right)}^{2} + 1\\right)}^{3}} - \\frac{6 \\, {\\left(t + 1\\right)}}{{\\left({\\left(t + 1\\right)}^{2} + 1\\right)}^{2}}</script></html>"
      ],
      "text/plain": [
       "8*(t + 1)^3/((t + 1)^2 + 1)^3 - 6*(t + 1)/((t + 1)^2 + 1)^2"
      ]
     },
     "execution_count": 48,
     "metadata": {},
     "output_type": "execute_result"
    }
   ],
   "source": [
    "f(t)=(t+1)/((t+1)^2+1) \n",
    "diff(f(t),t,2)"
   ]
  },
  {
   "cell_type": "code",
   "execution_count": 43,
   "metadata": {},
   "outputs": [
    {
     "data": {
      "text/html": [
       "<html><script type=\"math/tex; mode=display\">\\newcommand{\\Bold}[1]{\\mathbf{#1}}\\frac{t}{{\\left(t + 1\\right)}^{2} + 1}</script></html>"
      ],
      "text/plain": [
       "t/((t + 1)^2 + 1)"
      ]
     },
     "execution_count": 43,
     "metadata": {},
     "output_type": "execute_result"
    }
   ],
   "source": [
    "f(t)"
   ]
  },
  {
   "cell_type": "code",
   "execution_count": 44,
   "metadata": {},
   "outputs": [
    {
     "data": {
      "text/html": [
       "<html><script type=\"math/tex; mode=display\">\\newcommand{\\Bold}[1]{\\mathbf{#1}}3 \\, t^{2} \\cos\\left(t\\right) e^{\\left(-t\\right)}</script></html>"
      ],
      "text/plain": [
       "3*t^2*cos(t)*e^(-t)"
      ]
     },
     "execution_count": 44,
     "metadata": {},
     "output_type": "execute_result"
    }
   ],
   "source": [
    "3*t^2*exp(-t)*cos(t)"
   ]
  },
  {
   "cell_type": "code",
   "execution_count": null,
   "metadata": {},
   "outputs": [],
   "source": []
  }
 ],
 "metadata": {
  "kernelspec": {
   "display_name": "SageMath 9.1",
   "language": "sage",
   "name": "sagemath"
  },
  "language_info": {
   "codemirror_mode": {
    "name": "ipython",
    "version": 3
   },
   "file_extension": ".py",
   "mimetype": "text/x-python",
   "name": "python",
   "nbconvert_exporter": "python",
   "pygments_lexer": "ipython3",
   "version": "3.7.3"
  }
 },
 "nbformat": 4,
 "nbformat_minor": 2
}
