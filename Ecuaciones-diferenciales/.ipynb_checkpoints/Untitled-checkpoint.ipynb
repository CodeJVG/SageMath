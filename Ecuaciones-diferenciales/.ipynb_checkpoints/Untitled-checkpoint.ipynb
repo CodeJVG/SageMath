{
 "cells": [
  {
   "cell_type": "code",
   "execution_count": 1,
   "metadata": {},
   "outputs": [],
   "source": [
    "%display latex"
   ]
  },
  {
   "cell_type": "code",
   "execution_count": 24,
   "metadata": {},
   "outputs": [],
   "source": [
    "x = var(\"x\")\n",
    "y = function('y')(x)"
   ]
  },
  {
   "cell_type": "code",
   "execution_count": 27,
   "metadata": {},
   "outputs": [
    {
     "data": {
      "text/html": [
       "<html><script type=\"math/tex; mode=display\">\\newcommand{\\Bold}[1]{\\mathbf{#1}}A x \\cos\\left(2 \\, x\\right) e^{x} + B x \\cos\\left(2 \\, x\\right) e^{x} + C e^{x}</script></html>"
      ],
      "text/plain": [
       "A*x*cos(2*x)*e^x + B*x*cos(2*x)*e^x + C*e^x"
      ]
     },
     "execution_count": 27,
     "metadata": {},
     "output_type": "execute_result"
    }
   ],
   "source": [
    "A = var('A')\n",
    "B = var('B')\n",
    "C = var('C') \n",
    "y = A*x*e^x*cos(2*x)+B*x*e^x*cos(2*x)+C*e^x \n",
    "y"
   ]
  },
  {
   "cell_type": "code",
   "execution_count": 30,
   "metadata": {},
   "outputs": [
    {
     "data": {
      "text/html": [
       "<html><script type=\"math/tex; mode=display\">\\newcommand{\\Bold}[1]{\\mathbf{#1}}-8 \\, A \\cos\\left(2 \\, x\\right) e^{x} - 8 \\, B \\cos\\left(2 \\, x\\right) e^{x} - 4 \\, A e^{x} \\sin\\left(2 \\, x\\right) - 4 \\, B e^{x} \\sin\\left(2 \\, x\\right) + 4 \\, C e^{x}</script></html>"
      ],
      "text/plain": [
       "-8*A*cos(2*x)*e^x - 8*B*cos(2*x)*e^x - 4*A*e^x*sin(2*x) - 4*B*e^x*sin(2*x) + 4*C*e^x"
      ]
     },
     "execution_count": 30,
     "metadata": {},
     "output_type": "execute_result"
    }
   ],
   "source": [
    "derivative(y,x,3)-2*derivative(y,x,2)+5*derivative(y,x,1)"
   ]
  },
  {
   "cell_type": "code",
   "execution_count": 21,
   "metadata": {},
   "outputs": [
    {
     "data": {
      "text/html": [
       "<html><script type=\"math/tex; mode=display\">\\newcommand{\\Bold}[1]{\\mathbf{#1}}A x \\cos\\left(2 \\, x\\right) e^{x} + B x \\cos\\left(2 \\, x\\right) e^{x}</script></html>"
      ],
      "text/plain": [
       "A*x*cos(2*x)*e^x + B*x*cos(2*x)*e^x"
      ]
     },
     "execution_count": 21,
     "metadata": {},
     "output_type": "execute_result"
    }
   ],
   "source": [
    "A = var('A')\n",
    "B = var('B')\n",
    "y = A*x*e^x*cos(2*x)+B*x*e^x*cos(2*x) \n",
    "y"
   ]
  },
  {
   "cell_type": "code",
   "execution_count": 22,
   "metadata": {},
   "outputs": [
    {
     "data": {
      "text/html": [
       "<html><script type=\"math/tex; mode=display\">\\newcommand{\\Bold}[1]{\\mathbf{#1}}-4 \\, A e^{x} \\sin\\left(2 \\, x\\right) - 4 \\, B e^{x} \\sin\\left(2 \\, x\\right)</script></html>"
      ],
      "text/plain": [
       "-4*A*e^x*sin(2*x) - 4*B*e^x*sin(2*x)"
      ]
     },
     "execution_count": 22,
     "metadata": {},
     "output_type": "execute_result"
    }
   ],
   "source": [
    "derivative(y,x,2)-2*derivative(y,x,1)+5*y"
   ]
  },
  {
   "cell_type": "code",
   "execution_count": null,
   "metadata": {},
   "outputs": [],
   "source": []
  }
 ],
 "metadata": {
  "kernelspec": {
   "display_name": "SageMath 9.1",
   "language": "sage",
   "name": "sagemath"
  },
  "language_info": {
   "codemirror_mode": {
    "name": "ipython",
    "version": 3
   },
   "file_extension": ".py",
   "mimetype": "text/x-python",
   "name": "python",
   "nbconvert_exporter": "python",
   "pygments_lexer": "ipython3",
   "version": "3.7.3"
  }
 },
 "nbformat": 4,
 "nbformat_minor": 4
}
