{
 "cells": [
  {
   "cell_type": "code",
   "execution_count": 2,
   "metadata": {},
   "outputs": [],
   "source": [
    "%display latex"
   ]
  },
  {
   "cell_type": "code",
   "execution_count": 12,
   "metadata": {},
   "outputs": [],
   "source": [
    "#Definimos las matrices de Pauli\n",
    "\n",
    "sigma_1 = Matrix([[0, 1],\n",
    "                  [1, 0]])\n",
    " \n",
    "sigma_2 = Matrix([[0, -I],\n",
    "                  [I, 0]])\n",
    " \n",
    "sigma_3 = Matrix([[1, 0],\n",
    "                  [0, -1]])"
   ]
  },
  {
   "cell_type": "code",
   "execution_count": 13,
   "metadata": {},
   "outputs": [
    {
     "data": {
      "text/html": [
       "<html><script type=\"math/tex; mode=display\">\\newcommand{\\Bold}[1]{\\mathbf{#1}}\\left(\\left(\\begin{array}{rr}\n",
       "0 & 1 \\\\\n",
       "1 & 0\n",
       "\\end{array}\\right), \\left(\\begin{array}{rr}\n",
       "0 & -i \\\\\n",
       "i & 0\n",
       "\\end{array}\\right), \\left(\\begin{array}{rr}\n",
       "1 & 0 \\\\\n",
       "0 & -1\n",
       "\\end{array}\\right)\\right)</script></html>"
      ],
      "text/plain": [
       "(\n",
       "[0 1]  [ 0 -I]  [ 1  0]\n",
       "[1 0], [ I  0], [ 0 -1]\n",
       ")"
      ]
     },
     "execution_count": 13,
     "metadata": {},
     "output_type": "execute_result"
    }
   ],
   "source": [
    "sigma = sigma_1,sigma_2,sigma_3\n",
    "sigma"
   ]
  },
  {
   "cell_type": "code",
   "execution_count": 18,
   "metadata": {},
   "outputs": [
    {
     "data": {
      "text/html": [
       "<html><script type=\"math/tex; mode=display\">\\newcommand{\\Bold}[1]{\\mathbf{#1}}\\left(i \\, \\cos\\left(\\phi\\right) \\sin\\left(\\theta\\right) + \\cos\\left(\\theta\\right), \\cos\\left(\\alpha\\right) \\sin\\left(\\phi\\right) \\sin\\left(\\theta\\right) + i \\, \\sin\\left(\\alpha\\right) \\sin\\left(\\phi\\right) \\sin\\left(\\theta\\right)\\right)</script></html>"
      ],
      "text/plain": [
       "(I*cos(phi)*sin(theta) + cos(theta),\n",
       " cos(alpha)*sin(phi)*sin(theta) + I*sin(alpha)*sin(phi)*sin(theta))"
      ]
     },
     "execution_count": 18,
     "metadata": {},
     "output_type": "execute_result"
    }
   ],
   "source": [
    "#Definimos las matriz Unitaria\n",
    "theta, phi, alpha = var(\"theta, phi, alpha\")\n",
    "a_1 = cos(theta)\n",
    "a_2 = sin(theta)*cos(phi)\n",
    "b_1 = sin(theta)*sin(phi)*cos(alpha)\n",
    "b_2 = sin(theta)*sin(phi)*sin(alpha)\n",
    "\n",
    "a = a_1 + I*a_2\n",
    "b = b_1 + I*b_2\n",
    "a, b"
   ]
  },
  {
   "cell_type": "code",
   "execution_count": 31,
   "metadata": {},
   "outputs": [],
   "source": [
    "U = Matrix([[a_1 + I*a_2, b_1 + I*b_2],[-(b_1 - I*b_2), a_1 - I*a_2]])"
   ]
  },
  {
   "cell_type": "code",
   "execution_count": 32,
   "metadata": {},
   "outputs": [
    {
     "data": {
      "text/html": [
       "<html><script type=\"math/tex; mode=display\">\\newcommand{\\Bold}[1]{\\mathbf{#1}}\\left(\\begin{array}{rr}\n",
       "i \\, \\cos\\left(\\phi\\right) \\sin\\left(\\theta\\right) + \\cos\\left(\\theta\\right) & \\cos\\left(\\alpha\\right) \\sin\\left(\\phi\\right) \\sin\\left(\\theta\\right) + i \\, \\sin\\left(\\alpha\\right) \\sin\\left(\\phi\\right) \\sin\\left(\\theta\\right) \\\\\n",
       "-\\cos\\left(\\alpha\\right) \\sin\\left(\\phi\\right) \\sin\\left(\\theta\\right) + i \\, \\sin\\left(\\alpha\\right) \\sin\\left(\\phi\\right) \\sin\\left(\\theta\\right) & -i \\, \\cos\\left(\\phi\\right) \\sin\\left(\\theta\\right) + \\cos\\left(\\theta\\right)\n",
       "\\end{array}\\right)</script></html>"
      ],
      "text/plain": [
       "[                                I*cos(phi)*sin(theta) + cos(theta)  cos(alpha)*sin(phi)*sin(theta) + I*sin(alpha)*sin(phi)*sin(theta)]\n",
       "[-cos(alpha)*sin(phi)*sin(theta) + I*sin(alpha)*sin(phi)*sin(theta)                                -I*cos(phi)*sin(theta) + cos(theta)]"
      ]
     },
     "execution_count": 32,
     "metadata": {},
     "output_type": "execute_result"
    }
   ],
   "source": [
    "U"
   ]
  },
  {
   "cell_type": "code",
   "execution_count": 34,
   "metadata": {},
   "outputs": [
    {
     "data": {
      "text/html": [
       "<html><script type=\"math/tex; mode=display\">\\newcommand{\\Bold}[1]{\\mathbf{#1}}\\left(\\begin{array}{rr}\n",
       "-i \\, \\cos\\left(\\phi\\right) \\sin\\left(\\theta\\right) + \\cos\\left(\\theta\\right) & -\\cos\\left(\\alpha\\right) \\sin\\left(\\phi\\right) \\sin\\left(\\theta\\right) - i \\, \\sin\\left(\\alpha\\right) \\sin\\left(\\phi\\right) \\sin\\left(\\theta\\right) \\\\\n",
       "\\cos\\left(\\alpha\\right) \\sin\\left(\\phi\\right) \\sin\\left(\\theta\\right) - i \\, \\sin\\left(\\alpha\\right) \\sin\\left(\\phi\\right) \\sin\\left(\\theta\\right) & i \\, \\cos\\left(\\phi\\right) \\sin\\left(\\theta\\right) + \\cos\\left(\\theta\\right)\n",
       "\\end{array}\\right)</script></html>"
      ],
      "text/plain": [
       "[                               -I*cos(phi)*sin(theta) + cos(theta) -cos(alpha)*sin(phi)*sin(theta) - I*sin(alpha)*sin(phi)*sin(theta)]\n",
       "[ cos(alpha)*sin(phi)*sin(theta) - I*sin(alpha)*sin(phi)*sin(theta)                                 I*cos(phi)*sin(theta) + cos(theta)]"
      ]
     },
     "execution_count": 34,
     "metadata": {},
     "output_type": "execute_result"
    }
   ],
   "source": [
    "U.adjugate()"
   ]
  },
  {
   "cell_type": "code",
   "execution_count": 48,
   "metadata": {},
   "outputs": [],
   "source": [
    "def Ro(i,j):\n",
    "    return (sigma[i]*U*sigma[j]*U.adjugate()).trace()*1/2"
   ]
  },
  {
   "cell_type": "code",
   "execution_count": 52,
   "metadata": {},
   "outputs": [],
   "source": [
    "R = Matrix([[Ro(0,0),Ro(0,1),Ro(0,2)],\n",
    "           [Ro(1,0),Ro(1,1),Ro(1,2)],\n",
    "           [Ro(2,0),Ro(2,1),Ro(2,2)]])"
   ]
  },
  {
   "cell_type": "code",
   "execution_count": 64,
   "metadata": {},
   "outputs": [
    {
     "data": {
      "text/html": [
       "<html><script type=\"math/tex; mode=display\">\\newcommand{\\Bold}[1]{\\mathbf{#1}}\\left(\\begin{array}{rrr}\n",
       "-\\cos\\left(\\alpha\\right)^{2} \\sin\\left(\\phi\\right)^{2} \\sin\\left(\\theta\\right)^{2} + \\sin\\left(\\alpha\\right)^{2} \\sin\\left(\\phi\\right)^{2} \\sin\\left(\\theta\\right)^{2} - \\cos\\left(\\phi\\right)^{2} \\sin\\left(\\theta\\right)^{2} + \\cos\\left(\\theta\\right)^{2} & 2 \\, \\cos\\left(\\alpha\\right) \\sin\\left(\\alpha\\right) \\sin\\left(\\phi\\right)^{2} \\sin\\left(\\theta\\right)^{2} + 2 \\, \\cos\\left(\\phi\\right) \\cos\\left(\\theta\\right) \\sin\\left(\\theta\\right) & 2 \\, \\cos\\left(\\phi\\right) \\sin\\left(\\alpha\\right) \\sin\\left(\\phi\\right) \\sin\\left(\\theta\\right)^{2} - 2 \\, \\cos\\left(\\alpha\\right) \\cos\\left(\\theta\\right) \\sin\\left(\\phi\\right) \\sin\\left(\\theta\\right) \\\\\n",
       "2 \\, \\cos\\left(\\alpha\\right) \\sin\\left(\\alpha\\right) \\sin\\left(\\phi\\right)^{2} \\sin\\left(\\theta\\right)^{2} - 2 \\, \\cos\\left(\\phi\\right) \\cos\\left(\\theta\\right) \\sin\\left(\\theta\\right) & \\cos\\left(\\alpha\\right)^{2} \\sin\\left(\\phi\\right)^{2} \\sin\\left(\\theta\\right)^{2} - \\sin\\left(\\alpha\\right)^{2} \\sin\\left(\\phi\\right)^{2} \\sin\\left(\\theta\\right)^{2} - \\cos\\left(\\phi\\right)^{2} \\sin\\left(\\theta\\right)^{2} + \\cos\\left(\\theta\\right)^{2} & 2 \\, \\cos\\left(\\alpha\\right) \\cos\\left(\\phi\\right) \\sin\\left(\\phi\\right) \\sin\\left(\\theta\\right)^{2} + 2 \\, \\cos\\left(\\theta\\right) \\sin\\left(\\alpha\\right) \\sin\\left(\\phi\\right) \\sin\\left(\\theta\\right) \\\\\n",
       "2 \\, \\cos\\left(\\phi\\right) \\sin\\left(\\alpha\\right) \\sin\\left(\\phi\\right) \\sin\\left(\\theta\\right)^{2} + 2 \\, \\cos\\left(\\alpha\\right) \\cos\\left(\\theta\\right) \\sin\\left(\\phi\\right) \\sin\\left(\\theta\\right) & 2 \\, \\cos\\left(\\alpha\\right) \\cos\\left(\\phi\\right) \\sin\\left(\\phi\\right) \\sin\\left(\\theta\\right)^{2} - 2 \\, \\cos\\left(\\theta\\right) \\sin\\left(\\alpha\\right) \\sin\\left(\\phi\\right) \\sin\\left(\\theta\\right) & -\\cos\\left(\\alpha\\right)^{2} \\sin\\left(\\phi\\right)^{2} \\sin\\left(\\theta\\right)^{2} - \\sin\\left(\\alpha\\right)^{2} \\sin\\left(\\phi\\right)^{2} \\sin\\left(\\theta\\right)^{2} + \\cos\\left(\\phi\\right)^{2} \\sin\\left(\\theta\\right)^{2} + \\cos\\left(\\theta\\right)^{2}\n",
       "\\end{array}\\right)</script></html>"
      ],
      "text/plain": [
       "[-cos(alpha)^2*sin(phi)^2*sin(theta)^2 + sin(alpha)^2*sin(phi)^2*sin(theta)^2 - cos(phi)^2*sin(theta)^2 + cos(theta)^2                                    2*cos(alpha)*sin(alpha)*sin(phi)^2*sin(theta)^2 + 2*cos(phi)*cos(theta)*sin(theta)                             2*cos(phi)*sin(alpha)*sin(phi)*sin(theta)^2 - 2*cos(alpha)*cos(theta)*sin(phi)*sin(theta)]\n",
       "[                                   2*cos(alpha)*sin(alpha)*sin(phi)^2*sin(theta)^2 - 2*cos(phi)*cos(theta)*sin(theta)  cos(alpha)^2*sin(phi)^2*sin(theta)^2 - sin(alpha)^2*sin(phi)^2*sin(theta)^2 - cos(phi)^2*sin(theta)^2 + cos(theta)^2                             2*cos(alpha)*cos(phi)*sin(phi)*sin(theta)^2 + 2*cos(theta)*sin(alpha)*sin(phi)*sin(theta)]\n",
       "[                            2*cos(phi)*sin(alpha)*sin(phi)*sin(theta)^2 + 2*cos(alpha)*cos(theta)*sin(phi)*sin(theta)                             2*cos(alpha)*cos(phi)*sin(phi)*sin(theta)^2 - 2*cos(theta)*sin(alpha)*sin(phi)*sin(theta) -cos(alpha)^2*sin(phi)^2*sin(theta)^2 - sin(alpha)^2*sin(phi)^2*sin(theta)^2 + cos(phi)^2*sin(theta)^2 + cos(theta)^2]"
      ]
     },
     "execution_count": 64,
     "metadata": {},
     "output_type": "execute_result"
    }
   ],
   "source": [
    "R.expand()"
   ]
  },
  {
   "cell_type": "code",
   "execution_count": null,
   "metadata": {},
   "outputs": [],
   "source": []
  }
 ],
 "metadata": {
  "kernelspec": {
   "display_name": "SageMath 9.1",
   "language": "sage",
   "name": "sagemath"
  },
  "language_info": {
   "codemirror_mode": {
    "name": "ipython",
    "version": 3
   },
   "file_extension": ".py",
   "mimetype": "text/x-python",
   "name": "python",
   "nbconvert_exporter": "python",
   "pygments_lexer": "ipython3",
   "version": "3.7.3"
  }
 },
 "nbformat": 4,
 "nbformat_minor": 2
}
