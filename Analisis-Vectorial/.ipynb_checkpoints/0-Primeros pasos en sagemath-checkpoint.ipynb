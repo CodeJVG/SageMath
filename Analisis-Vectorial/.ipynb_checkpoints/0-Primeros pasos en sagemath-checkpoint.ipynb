{
 "cells": [
  {
   "cell_type": "markdown",
   "metadata": {},
   "source": [
    "# Primeros pasos en Sagemath"
   ]
  },
  {
   "cell_type": "markdown",
   "metadata": {},
   "source": [
    "##  Sobre SageMath\n",
    "SageMath es un sistema de software matemático de código abierto con licencia GPL. Se basa en muchos paquetes de código abierto existentes: NumPy, SciPy, matplotlib, Sympy, Maxima, GAP, FLINT, R y muchos más. Accede a su poder combinado a través de un lenguaje común basado en Python o directamente a través de interfaces o envoltorios. La interacción con el usuario es posible desde la interfaz de Jupyter Notebook, la cual es una aplicación web de código abierto que permite crear y compartir documentos que contienen código en vivo, ecuaciones, visualizaciones y texto narrativo."
   ]
  },
  {
   "cell_type": "markdown",
   "metadata": {},
   "source": [
    "## Uso de SageMath en la enseñanza de la física\n",
    "SageMath es un sistema de software matemático de código abierto con licencia GPL. Se basa en muchos paquetes de código abierto existentes: NumPy, SciPy, matplotlib, Sympy, Maxima, GAP, FLINT, R y muchos más. Accede a su poder combinado a través de un lenguaje común basado en Python o directamente a través de interfaces o envoltorios. La interacción con el usuario es posible\n",
    "desde la interfaz de Jupyter Notebook, la cual es una aplicación web de código abierto que permite crear y compartir documentos que contienen código en vivo, ecuaciones, visualizaciones y texto narrativo.\n",
    "\n",
    "\n",
    "Es por lo expuesto que se hace necesario introducir el uso de las herramientas computacionales desde años tempranos en las carreras de física, sin embargo estas deben de mantener su condición de herramienta y no ser la parte fundamental del proceso de formación del físico, a menos que se trate de un curso especializado.\n",
    "\n",
    "Para cumplir este objetivo, SageMath permite introducir la lógica de la programación, sin necesidad de profundizar en el mundo mismo de la programación ni distraer del objetivo principal, el cual, en este caso es la formación de futuros físicos."
   ]
  },
  {
   "cell_type": "markdown",
   "metadata": {},
   "source": [
    "## SageMath como calculadora científica\n",
    "El primer uso que le vamos a dar a Sagemath es como una calculadora programable, con lo cual podremos sistematizar los cálculos que habitualmente se relizan en los cursos de física.\n",
    "\n",
    "### Operaciones básicas\n",
    "Las operaciones básicas tiene la forma habitual de cualquier lenguaje de programación"
   ]
  },
  {
   "cell_type": "code",
   "execution_count": 5,
   "metadata": {},
   "outputs": [
    {
     "data": {
      "text/html": [
       "SageMath version 9.3, Release Date: 2021-05-09"
      ],
      "text/plain": [
       "'SageMath version 9.3, Release Date: 2021-05-09'"
      ]
     },
     "execution_count": 5,
     "metadata": {},
     "output_type": "execute_result"
    }
   ],
   "source": [
    "%display latex # para que muestre las salidas en formato latex\n",
    "version() "
   ]
  },
  {
   "cell_type": "code",
   "execution_count": 6,
   "metadata": {},
   "outputs": [
    {
     "data": {
      "text/html": [
       "<html><script type=\"math/tex; mode=display\">\\newcommand{\\Bold}[1]{\\mathbf{#1}}8</script></html>"
      ],
      "text/latex": [
       "$$\\newcommand{\\Bold}[1]{\\mathbf{#1}}8$$"
      ],
      "text/plain": [
       "8"
      ]
     },
     "execution_count": 6,
     "metadata": {},
     "output_type": "execute_result"
    }
   ],
   "source": [
    "3+5 # La suma se realiza por medio del operador '+'"
   ]
  },
  {
   "cell_type": "code",
   "execution_count": 7,
   "metadata": {},
   "outputs": [
    {
     "data": {
      "text/html": [
       "<html><script type=\"math/tex; mode=display\">\\newcommand{\\Bold}[1]{\\mathbf{#1}}10764</script></html>"
      ],
      "text/latex": [
       "$$\\newcommand{\\Bold}[1]{\\mathbf{#1}}10764$$"
      ],
      "text/plain": [
       "10764"
      ]
     },
     "execution_count": 7,
     "metadata": {},
     "output_type": "execute_result"
    }
   ],
   "source": [
    "46*234 # El producto usa '*'"
   ]
  },
  {
   "cell_type": "code",
   "execution_count": 8,
   "metadata": {},
   "outputs": [
    {
     "data": {
      "text/html": [
       "<html><script type=\"math/tex; mode=display\">\\newcommand{\\Bold}[1]{\\mathbf{#1}}125</script></html>"
      ],
      "text/latex": [
       "$$\\newcommand{\\Bold}[1]{\\mathbf{#1}}125$$"
      ],
      "text/plain": [
       "125"
      ]
     },
     "execution_count": 8,
     "metadata": {},
     "output_type": "execute_result"
    }
   ],
   "source": [
    "5^3 # La potenciacion por medio del simbolo '^' o de '**'"
   ]
  },
  {
   "cell_type": "code",
   "execution_count": 9,
   "metadata": {},
   "outputs": [
    {
     "data": {
      "text/html": [
       "<html><script type=\"math/tex; mode=display\">\\newcommand{\\Bold}[1]{\\mathbf{#1}}125</script></html>"
      ],
      "text/latex": [
       "$$\\newcommand{\\Bold}[1]{\\mathbf{#1}}125$$"
      ],
      "text/plain": [
       "125"
      ]
     },
     "execution_count": 9,
     "metadata": {},
     "output_type": "execute_result"
    }
   ],
   "source": [
    "5**3"
   ]
  },
  {
   "cell_type": "code",
   "execution_count": 10,
   "metadata": {},
   "outputs": [
    {
     "data": {
      "text/html": [
       "<html><script type=\"math/tex; mode=display\">\\newcommand{\\Bold}[1]{\\mathbf{#1}}\\sqrt{78}</script></html>"
      ],
      "text/latex": [
       "$$\\newcommand{\\Bold}[1]{\\mathbf{#1}}\\sqrt{78}$$"
      ],
      "text/plain": [
       "sqrt(78)"
      ]
     },
     "execution_count": 10,
     "metadata": {},
     "output_type": "execute_result"
    }
   ],
   "source": [
    "sqrt(78)"
   ]
  },
  {
   "cell_type": "markdown",
   "metadata": {},
   "source": [
    "Como vemos, hemos obtenido la expresión matemática, mas no su valor numérico.En caso que necesitamos su valor numperico debemos a Sage que nos de una aproximación numérica."
   ]
  },
  {
   "cell_type": "code",
   "execution_count": 11,
   "metadata": {},
   "outputs": [
    {
     "data": {
      "text/html": [
       "<html><script type=\"math/tex; mode=display\">\\newcommand{\\Bold}[1]{\\mathbf{#1}}8.83176086632785</script></html>"
      ],
      "text/latex": [
       "$$\\newcommand{\\Bold}[1]{\\mathbf{#1}}8.83176086632785$$"
      ],
      "text/plain": [
       "8.83176086632785"
      ]
     },
     "execution_count": 11,
     "metadata": {},
     "output_type": "execute_result"
    }
   ],
   "source": [
    "sqrt(78).numerical_approx()"
   ]
  },
  {
   "cell_type": "code",
   "execution_count": 12,
   "metadata": {},
   "outputs": [
    {
     "data": {
      "text/html": [
       "<html><script type=\"math/tex; mode=display\">\\newcommand{\\Bold}[1]{\\mathbf{#1}}8.832</script></html>"
      ],
      "text/latex": [
       "$$\\newcommand{\\Bold}[1]{\\mathbf{#1}}8.832$$"
      ],
      "text/plain": [
       "8.832"
      ]
     },
     "execution_count": 12,
     "metadata": {},
     "output_type": "execute_result"
    }
   ],
   "source": [
    "sqrt(78).numerical_approx(digits=4)"
   ]
  },
  {
   "cell_type": "markdown",
   "metadata": {},
   "source": [
    "Sage sabe reconocer la prioridad de las operaciones aritméticas, por o que, para expresiones complejas en necesario utilizar paréntesis. Por ejemplo:\n",
    "$$ 25+\\frac{3*5+7*(4+2)}{2+6*(4-2)}$$"
   ]
  },
  {
   "cell_type": "code",
   "execution_count": 13,
   "metadata": {},
   "outputs": [
    {
     "data": {
      "text/html": [
       "<html><script type=\"math/tex; mode=display\">\\newcommand{\\Bold}[1]{\\mathbf{#1}}\\frac{407}{14}</script></html>"
      ],
      "text/latex": [
       "$$\\newcommand{\\Bold}[1]{\\mathbf{#1}}\\frac{407}{14}$$"
      ],
      "text/plain": [
       "407/14"
      ]
     },
     "execution_count": 13,
     "metadata": {},
     "output_type": "execute_result"
    }
   ],
   "source": [
    "25+(3*5+7*(4+2))/(2+6*(4-2))"
   ]
  },
  {
   "cell_type": "code",
   "execution_count": 14,
   "metadata": {},
   "outputs": [
    {
     "data": {
      "text/html": [
       "<html><script type=\"math/tex; mode=display\">\\newcommand{\\Bold}[1]{\\mathbf{#1}}29.0714285714286</script></html>"
      ],
      "text/latex": [
       "$$\\newcommand{\\Bold}[1]{\\mathbf{#1}}29.0714285714286$$"
      ],
      "text/plain": [
       "29.0714285714286"
      ]
     },
     "execution_count": 14,
     "metadata": {},
     "output_type": "execute_result"
    }
   ],
   "source": [
    "n(25+(3*5+7*(4+2))/(2+6*(4-2))) # Para obtener el valor decimal"
   ]
  },
  {
   "cell_type": "markdown",
   "metadata": {},
   "source": [
    "### Funciones\n",
    "En SageMath se pueen utiliza directamente las funciones comunmente utilizadas en el cálculo diferencial e integral"
   ]
  },
  {
   "cell_type": "code",
   "execution_count": 15,
   "metadata": {},
   "outputs": [
    {
     "data": {
      "text/html": [
       "<html><script type=\"math/tex; mode=display\">\\newcommand{\\Bold}[1]{\\mathbf{#1}}\\sin\\left(2\\right)</script></html>"
      ],
      "text/latex": [
       "$$\\newcommand{\\Bold}[1]{\\mathbf{#1}}\\sin\\left(2\\right)$$"
      ],
      "text/plain": [
       "sin(2)"
      ]
     },
     "execution_count": 15,
     "metadata": {},
     "output_type": "execute_result"
    }
   ],
   "source": [
    "sin(2)"
   ]
  },
  {
   "cell_type": "code",
   "execution_count": 16,
   "metadata": {},
   "outputs": [
    {
     "data": {
      "text/html": [
       "<html><script type=\"math/tex; mode=display\">\\newcommand{\\Bold}[1]{\\mathbf{#1}}0.909297426825682</script></html>"
      ],
      "text/latex": [
       "$$\\newcommand{\\Bold}[1]{\\mathbf{#1}}0.909297426825682$$"
      ],
      "text/plain": [
       "0.909297426825682"
      ]
     },
     "execution_count": 16,
     "metadata": {},
     "output_type": "execute_result"
    }
   ],
   "source": [
    "sin(2).numerical_approx() # Valor numérico"
   ]
  },
  {
   "cell_type": "code",
   "execution_count": 17,
   "metadata": {},
   "outputs": [
    {
     "data": {
      "text/html": [
       "<html><script type=\"math/tex; mode=display\">\\newcommand{\\Bold}[1]{\\mathbf{#1}}\\frac{1}{2} \\, \\sqrt{2}</script></html>"
      ],
      "text/latex": [
       "$$\\newcommand{\\Bold}[1]{\\mathbf{#1}}\\frac{1}{2} \\, \\sqrt{2}$$"
      ],
      "text/plain": [
       "1/2*sqrt(2)"
      ]
     },
     "execution_count": 17,
     "metadata": {},
     "output_type": "execute_result"
    }
   ],
   "source": [
    "cos(pi/4) # Sagemat reconoce el número _pi_"
   ]
  },
  {
   "cell_type": "code",
   "execution_count": 18,
   "metadata": {},
   "outputs": [
    {
     "data": {
      "text/html": [
       "<html><script type=\"math/tex; mode=display\">\\newcommand{\\Bold}[1]{\\mathbf{#1}}0.707106781186548</script></html>"
      ],
      "text/latex": [
       "$$\\newcommand{\\Bold}[1]{\\mathbf{#1}}0.707106781186548$$"
      ],
      "text/plain": [
       "0.707106781186548"
      ]
     },
     "execution_count": 18,
     "metadata": {},
     "output_type": "execute_result"
    }
   ],
   "source": [
    "cos(pi/4).numerical_approx()"
   ]
  },
  {
   "cell_type": "code",
   "execution_count": 19,
   "metadata": {},
   "outputs": [
    {
     "data": {
      "text/html": [
       "<html><script type=\"math/tex; mode=display\">\\newcommand{\\Bold}[1]{\\mathbf{#1}}e^{4}</script></html>"
      ],
      "text/latex": [
       "$$\\newcommand{\\Bold}[1]{\\mathbf{#1}}e^{4}$$"
      ],
      "text/plain": [
       "e^4"
      ]
     },
     "execution_count": 19,
     "metadata": {},
     "output_type": "execute_result"
    }
   ],
   "source": [
    "exp(4) #Expresión matemática"
   ]
  },
  {
   "cell_type": "code",
   "execution_count": 20,
   "metadata": {},
   "outputs": [
    {
     "data": {
      "text/html": [
       "<html><script type=\"math/tex; mode=display\">\\newcommand{\\Bold}[1]{\\mathbf{#1}}54.5981500331442</script></html>"
      ],
      "text/latex": [
       "$$\\newcommand{\\Bold}[1]{\\mathbf{#1}}54.5981500331442$$"
      ],
      "text/plain": [
       "54.5981500331442"
      ]
     },
     "execution_count": 20,
     "metadata": {},
     "output_type": "execute_result"
    }
   ],
   "source": [
    "exp(4).numerical_approx() # También se puede escribir n(exp(4))"
   ]
  },
  {
   "cell_type": "markdown",
   "metadata": {},
   "source": [
    "### Asignación y comparación de expresiones\n",
    "Sagemath utiliza el símbolo = para la asignación de valores y usa los siguientes símbolos ==, <=, >=, < y > para la comparación de valores y expresiones."
   ]
  },
  {
   "cell_type": "code",
   "execution_count": 21,
   "metadata": {},
   "outputs": [],
   "source": [
    "a = 2 # Le asignamos a la variable a el valor de 2\n",
    "b = 3 # Le asignamos a la variable b el valor de 3"
   ]
  },
  {
   "cell_type": "code",
   "execution_count": 22,
   "metadata": {},
   "outputs": [
    {
     "data": {
      "text/html": [
       "<html><script type=\"math/tex; mode=display\">\\newcommand{\\Bold}[1]{\\mathbf{#1}}\\mathrm{False}</script></html>"
      ],
      "text/latex": [
       "$$\\newcommand{\\Bold}[1]{\\mathbf{#1}}\\mathrm{False}$$"
      ],
      "text/plain": [
       "False"
      ]
     },
     "execution_count": 22,
     "metadata": {},
     "output_type": "execute_result"
    }
   ],
   "source": [
    "a == b # Le pedimos a Sage que compare los valores de a y b nos diga si son iguales"
   ]
  },
  {
   "cell_type": "code",
   "execution_count": 23,
   "metadata": {},
   "outputs": [
    {
     "data": {
      "text/html": [
       "<html><script type=\"math/tex; mode=display\">\\newcommand{\\Bold}[1]{\\mathbf{#1}}\\mathrm{True}</script></html>"
      ],
      "text/latex": [
       "$$\\newcommand{\\Bold}[1]{\\mathbf{#1}}\\mathrm{True}$$"
      ],
      "text/plain": [
       "True"
      ]
     },
     "execution_count": 23,
     "metadata": {},
     "output_type": "execute_result"
    }
   ],
   "source": [
    "a < b # Le pedimos a Sage que compare los valores de a y b nos diga si a es menor a b"
   ]
  },
  {
   "cell_type": "code",
   "execution_count": 24,
   "metadata": {},
   "outputs": [
    {
     "data": {
      "text/html": [
       "<html><script type=\"math/tex; mode=display\">\\newcommand{\\Bold}[1]{\\mathbf{#1}}5</script></html>"
      ],
      "text/latex": [
       "$$\\newcommand{\\Bold}[1]{\\mathbf{#1}}5$$"
      ],
      "text/plain": [
       "5"
      ]
     },
     "execution_count": 24,
     "metadata": {},
     "output_type": "execute_result"
    }
   ],
   "source": [
    "a + b # Sumamos los valores de las variables a y b y nos devuelve el valor de la suma"
   ]
  },
  {
   "cell_type": "markdown",
   "metadata": {},
   "source": [
    "### Expresiones algebraicas\n",
    "Una de las principales ventajas de Sagemath es la prosibilidad de utilizar expresiones algebraicas y trabajarlas de forma simbolica. Para poder hacerlo hay que, inicialmente, decirle a Sagemath cuales son las variables."
   ]
  },
  {
   "cell_type": "code",
   "execution_count": 25,
   "metadata": {},
   "outputs": [],
   "source": [
    "x = var('x') # Asignamos a x la calidad de variables"
   ]
  },
  {
   "cell_type": "code",
   "execution_count": 26,
   "metadata": {},
   "outputs": [
    {
     "data": {
      "text/html": [
       "<html><script type=\"math/tex; mode=display\">\\newcommand{\\Bold}[1]{\\mathbf{#1}}x^{2} + 5 \\, x + 6</script></html>"
      ],
      "text/latex": [
       "$$\\newcommand{\\Bold}[1]{\\mathbf{#1}}x^{2} + 5 \\, x + 6$$"
      ],
      "text/plain": [
       "x^2 + 5*x + 6"
      ]
     },
     "execution_count": 26,
     "metadata": {},
     "output_type": "execute_result"
    }
   ],
   "source": [
    "x^2+5*x+6 # Podemos escribir una expresion algebráica, cno las función definida"
   ]
  },
  {
   "cell_type": "markdown",
   "metadata": {},
   "source": [
    "Para solucionar una ecuación algebráica utilizamos la orden **solve()**. La forma de utilizar la orden es - *solve( expresión, variable)*.\n",
    "Resolvamos la ecuación que se obtiene al igualar la expresión anterior a cero\n",
    "$$x^2+5x+6=0$$\n"
   ]
  },
  {
   "cell_type": "code",
   "execution_count": 27,
   "metadata": {},
   "outputs": [
    {
     "data": {
      "text/html": [
       "<html><script type=\"math/tex; mode=display\">\\newcommand{\\Bold}[1]{\\mathbf{#1}}\\left[x = \\left(-3\\right), x = \\left(-2\\right)\\right]</script></html>"
      ],
      "text/latex": [
       "$$\\newcommand{\\Bold}[1]{\\mathbf{#1}}\\left[x = \\left(-3\\right), x = \\left(-2\\right)\\right]$$"
      ],
      "text/plain": [
       "[x == -3, x == -2]"
      ]
     },
     "execution_count": 27,
     "metadata": {},
     "output_type": "execute_result"
    }
   ],
   "source": [
    "solve(x^2+5*x+6,x)"
   ]
  },
  {
   "cell_type": "code",
   "execution_count": 28,
   "metadata": {},
   "outputs": [],
   "source": [
    "solve?"
   ]
  },
  {
   "cell_type": "markdown",
   "metadata": {},
   "source": [
    "Podemos escribir más e una variable y solucionar la ecuación con respecto a una de las variables dadas."
   ]
  },
  {
   "cell_type": "code",
   "execution_count": 34,
   "metadata": {},
   "outputs": [
    {
     "data": {
      "text/html": [
       "<html><script type=\"math/tex; mode=display\">\\newcommand{\\Bold}[1]{\\mathbf{#1}}\\left[x = -\\frac{b + \\sqrt{b^{2} - 4 \\, a c}}{2 \\, a}, x = -\\frac{b - \\sqrt{b^{2} - 4 \\, a c}}{2 \\, a}\\right]</script></html>"
      ],
      "text/latex": [
       "$$\\newcommand{\\Bold}[1]{\\mathbf{#1}}\\left[x = -\\frac{b + \\sqrt{b^{2} - 4 \\, a c}}{2 \\, a}, x = -\\frac{b - \\sqrt{b^{2} - 4 \\, a c}}{2 \\, a}\\right]$$"
      ],
      "text/plain": [
       "[x == -1/2*(b + sqrt(b^2 - 4*a*c))/a, x == -1/2*(b - sqrt(b^2 - 4*a*c))/a]"
      ]
     },
     "execution_count": 34,
     "metadata": {},
     "output_type": "execute_result"
    }
   ],
   "source": [
    "x, a, b, c = var('x a b c') # Definimos las variables\n",
    "solve([a*x^2+b*x+c == 0], x) # Resolvemos la ecuación"
   ]
  },
  {
   "cell_type": "markdown",
   "metadata": {},
   "source": [
    "También podemos resolver ecuaciones de varias variables y sistemas de ecuaciones , por ejemplo:\n",
    "$$\n",
    "\\left.\n",
    "\\begin{array}{rcl}\n",
    "     x^2+xy+2   & = & 5\n",
    "  \\\\ y^2-2xy+6  & = & 3\n",
    "\\end{array}\n",
    "\\right\\}\n",
    "$$"
   ]
  },
  {
   "cell_type": "code",
   "execution_count": 42,
   "metadata": {},
   "outputs": [
    {
     "data": {
      "text/html": [
       "<html><script type=\"math/tex; mode=display\">\\newcommand{\\Bold}[1]{\\mathbf{#1}}\\left[\\left[x = -\\frac{1}{2} \\, \\sqrt{3 \\, \\sqrt{5} - 6} {\\left(\\sqrt{5} + 3\\right)}, y = -\\sqrt{3 \\, \\sqrt{5} - 6}\\right], \\left[x = \\frac{1}{2} \\, \\sqrt{3 \\, \\sqrt{5} - 6} {\\left(\\sqrt{5} + 3\\right)}, y = \\sqrt{3 \\, \\sqrt{5} - 6}\\right], \\left[x = \\frac{1}{2} \\, {\\left(\\sqrt{5} - 3\\right)} \\sqrt{-3 \\, \\sqrt{5} - 6}, y = -\\sqrt{-3 \\, \\sqrt{5} - 6}\\right], \\left[x = -\\frac{1}{2} \\, {\\left(\\sqrt{5} - 3\\right)} \\sqrt{-3 \\, \\sqrt{5} - 6}, y = \\sqrt{-3 \\, \\sqrt{5} - 6}\\right]\\right]</script></html>"
      ],
      "text/latex": [
       "$$\\newcommand{\\Bold}[1]{\\mathbf{#1}}\\left[\\left[x = -\\frac{1}{2} \\, \\sqrt{3 \\, \\sqrt{5} - 6} {\\left(\\sqrt{5} + 3\\right)}, y = -\\sqrt{3 \\, \\sqrt{5} - 6}\\right], \\left[x = \\frac{1}{2} \\, \\sqrt{3 \\, \\sqrt{5} - 6} {\\left(\\sqrt{5} + 3\\right)}, y = \\sqrt{3 \\, \\sqrt{5} - 6}\\right], \\left[x = \\frac{1}{2} \\, {\\left(\\sqrt{5} - 3\\right)} \\sqrt{-3 \\, \\sqrt{5} - 6}, y = -\\sqrt{-3 \\, \\sqrt{5} - 6}\\right], \\left[x = -\\frac{1}{2} \\, {\\left(\\sqrt{5} - 3\\right)} \\sqrt{-3 \\, \\sqrt{5} - 6}, y = \\sqrt{-3 \\, \\sqrt{5} - 6}\\right]\\right]$$"
      ],
      "text/plain": [
       "[[x == -1/2*sqrt(3*sqrt(5) - 6)*(sqrt(5) + 3), y == -sqrt(3*sqrt(5) - 6)], [x == 1/2*sqrt(3*sqrt(5) - 6)*(sqrt(5) + 3), y == sqrt(3*sqrt(5) - 6)], [x == 1/2*(sqrt(5) - 3)*sqrt(-3*sqrt(5) - 6), y == -sqrt(-3*sqrt(5) - 6)], [x == -1/2*(sqrt(5) - 3)*sqrt(-3*sqrt(5) - 6), y == sqrt(-3*sqrt(5) - 6)]]"
      ]
     },
     "execution_count": 42,
     "metadata": {},
     "output_type": "execute_result"
    }
   ],
   "source": [
    "x, y = var('x y')\n",
    "solve([x^2-x*y+2 == 5, y^2-2*x*y+6 == 3], x, y)"
   ]
  },
  {
   "cell_type": "markdown",
   "metadata": {},
   "source": [
    "si queremos aproximadamene numéricas de las soluciones, podemos usar lo siguiente:"
   ]
  },
  {
   "cell_type": "code",
   "execution_count": 43,
   "metadata": {},
   "outputs": [],
   "source": [
    "solns = solve([x^2-x*y+2 == 5, y^2-2*x*y+6 == 3], x, y, solution_dict=True) #Le asignamos un valor a la solución del sistema de ecuaciones"
   ]
  },
  {
   "cell_type": "code",
   "execution_count": 44,
   "metadata": {},
   "outputs": [
    {
     "data": {
      "text/html": [
       "<html><script type=\"math/tex; mode=display\">\\newcommand{\\Bold}[1]{\\mathbf{#1}}\\left[\\left[-2.2032027, -0.84154853\\right], \\left[2.2032027, 0.84154853\\right], \\left[1.1853901 \\times 10^{-9} - 1.3616541i, 3.1033917 \\times 10^{-9} - 3.5648568i\\right], \\left[-1.1853901 \\times 10^{-9} + 1.3616541i, -3.1033917 \\times 10^{-9} + 3.5648568i\\right]\\right]</script></html>"
      ],
      "text/latex": [
       "$$\\newcommand{\\Bold}[1]{\\mathbf{#1}}\\left[\\left[-2.2032027, -0.84154853\\right], \\left[2.2032027, 0.84154853\\right], \\left[1.1853901 \\times 10^{-9} - 1.3616541i, 3.1033917 \\times 10^{-9} - 3.5648568i\\right], \\left[-1.1853901 \\times 10^{-9} + 1.3616541i, -3.1033917 \\times 10^{-9} + 3.5648568i\\right]\\right]$$"
      ],
      "text/plain": [
       "[[-2.2032027, -0.84154853],\n",
       " [2.2032027, 0.84154853],\n",
       " [1.1853901e-9 - 1.3616541*I, 3.1033917e-9 - 3.5648568*I],\n",
       " [-1.1853901e-9 + 1.3616541*I, -3.1033917e-9 + 3.5648568*I]]"
      ]
     },
     "execution_count": 44,
     "metadata": {},
     "output_type": "execute_result"
    }
   ],
   "source": [
    "#Sage trabaja matricialmente, por lo que, a cada solución se le asigna un valor de la matriz soln.\n",
    "[[s[x].n(30), s[y].n(30)] for s in solns] #Le pedimos a Sage que nos da los valores de la matriz en forma de vectores."
   ]
  },
  {
   "cell_type": "markdown",
   "metadata": {},
   "source": [
    "Con frecuencia el comando **solve()** no encuentra una solución exacta para la ecuación o ecuaciones dadas. En estos casos se puede utilizar el comando **find_root()** para hallar una solución numérica. Por ejemplo, *solve()* no devuelve información utilizable para la siguiente ecuación:"
   ]
  },
  {
   "cell_type": "code",
   "execution_count": 45,
   "metadata": {},
   "outputs": [
    {
     "data": {
      "text/html": [
       "<html><script type=\"math/tex; mode=display\">\\newcommand{\\Bold}[1]{\\mathbf{#1}}\\left[\\sin\\left({\\theta}\\right) = \\cos\\left({\\theta}\\right)\\right]</script></html>"
      ],
      "text/latex": [
       "$$\\newcommand{\\Bold}[1]{\\mathbf{#1}}\\left[\\sin\\left({\\theta}\\right) = \\cos\\left({\\theta}\\right)\\right]$$"
      ],
      "text/plain": [
       "[sin(th) == cos(th)]"
      ]
     },
     "execution_count": 45,
     "metadata": {},
     "output_type": "execute_result"
    }
   ],
   "source": [
    "th = var('th', latex_name=r'\\theta')\n",
    "solve(cos(th)==sin(th),th)"
   ]
  },
  {
   "cell_type": "code",
   "execution_count": 46,
   "metadata": {},
   "outputs": [
    {
     "data": {
      "text/html": [
       "<html><script type=\"math/tex; mode=display\">\\newcommand{\\Bold}[1]{\\mathbf{#1}}0.7853981633974484</script></html>"
      ],
      "text/latex": [
       "$$\\newcommand{\\Bold}[1]{\\mathbf{#1}}0.7853981633974484$$"
      ],
      "text/plain": [
       "0.7853981633974484"
      ]
     },
     "execution_count": 46,
     "metadata": {},
     "output_type": "execute_result"
    }
   ],
   "source": [
    "find_root(cos(th)==sin(th), 0, pi/2) #Le pediomos que halle la raiz de la ecuación dada , cuando th se encuentra en el intervalo(0,pi/2 )"
   ]
  },
  {
   "cell_type": "code",
   "execution_count": 51,
   "metadata": {},
   "outputs": [
    {
     "data": {
      "text/html": [
       "<html><script type=\"math/tex; mode=display\">\\newcommand{\\Bold}[1]{\\mathbf{#1}}-\\frac{1}{x + 3} + \\frac{1}{x + 2}</script></html>"
      ],
      "text/latex": [
       "$$\\newcommand{\\Bold}[1]{\\mathbf{#1}}-\\frac{1}{x + 3} + \\frac{1}{x + 2}$$"
      ],
      "text/plain": [
       "-1/(x + 3) + 1/(x + 2)"
      ]
     },
     "execution_count": 51,
     "metadata": {},
     "output_type": "execute_result"
    }
   ],
   "source": [
    "f = 1/(x^2+5*x+6)\n",
    "f.partial_fraction(x)"
   ]
  },
  {
   "cell_type": "code",
   "execution_count": 52,
   "metadata": {},
   "outputs": [],
   "source": [
    "find_root?"
   ]
  },
  {
   "cell_type": "markdown",
   "metadata": {},
   "source": [
    "## Cálculo diferencial e integral\n",
    "Las funciones frecuentemente usadas en el cálculo se derivan e integran en SageMath directamente. Por ejemplo, para derivar cos(x) con respecto a x, hacemos:"
   ]
  },
  {
   "cell_type": "code",
   "execution_count": 57,
   "metadata": {},
   "outputs": [
    {
     "data": {
      "text/html": [
       "<html><script type=\"math/tex; mode=display\">\\newcommand{\\Bold}[1]{\\mathbf{#1}}\\cos\\left(x\\right)</script></html>"
      ],
      "text/latex": [
       "$$\\newcommand{\\Bold}[1]{\\mathbf{#1}}\\cos\\left(x\\right)$$"
      ],
      "text/plain": [
       "cos(x)"
      ]
     },
     "execution_count": 57,
     "metadata": {},
     "output_type": "execute_result"
    }
   ],
   "source": [
    "diff(sin(x), x)"
   ]
  },
  {
   "cell_type": "markdown",
   "metadata": {},
   "source": [
    "En este caso, con anterioridad, se ha definido x como una variable. Sino lo hubiesemos hecho nos daría error."
   ]
  },
  {
   "cell_type": "code",
   "execution_count": 58,
   "metadata": {},
   "outputs": [
    {
     "data": {
      "text/html": [
       "<html><script type=\"math/tex; mode=display\">\\newcommand{\\Bold}[1]{\\mathbf{#1}}-\\sin\\left(t\\right)</script></html>"
      ],
      "text/latex": [
       "$$\\newcommand{\\Bold}[1]{\\mathbf{#1}}-\\sin\\left(t\\right)$$"
      ],
      "text/plain": [
       "-sin(t)"
      ]
     },
     "execution_count": 58,
     "metadata": {},
     "output_type": "execute_result"
    }
   ],
   "source": [
    "t = var('t')\n",
    "diff(cos(t), t)"
   ]
  },
  {
   "cell_type": "markdown",
   "metadata": {},
   "source": [
    "Cuando trabajamos con funciones de una variabe podemos obviar colocar la variable con respecto a la cual derivamos."
   ]
  },
  {
   "cell_type": "code",
   "execution_count": 60,
   "metadata": {},
   "outputs": [
    {
     "data": {
      "text/html": [
       "<html><script type=\"math/tex; mode=display\">\\newcommand{\\Bold}[1]{\\mathbf{#1}}-3 \\, t^{2} \\sin\\left(t^{3}\\right)</script></html>"
      ],
      "text/latex": [
       "$$\\newcommand{\\Bold}[1]{\\mathbf{#1}}-3 \\, t^{2} \\sin\\left(t^{3}\\right)$$"
      ],
      "text/plain": [
       "-3*t^2*sin(t^3)"
      ]
     },
     "execution_count": 60,
     "metadata": {},
     "output_type": "execute_result"
    }
   ],
   "source": [
    "diff(cos(t^3))"
   ]
  },
  {
   "cell_type": "markdown",
   "metadata": {},
   "source": [
    "Para tomar la n-sima derivada, debemos agregarle un argumento. Por ejemplo, si queremos tomar la tercera derivada de $\\cos(t)$ debemos escribir:"
   ]
  },
  {
   "cell_type": "code",
   "execution_count": 65,
   "metadata": {},
   "outputs": [
    {
     "data": {
      "text/html": [
       "<html><script type=\"math/tex; mode=display\">\\newcommand{\\Bold}[1]{\\mathbf{#1}}27 \\, t^{6} \\sin\\left(t^{3}\\right) - 54 \\, t^{3} \\cos\\left(t^{3}\\right) - 6 \\, \\sin\\left(t^{3}\\right)</script></html>"
      ],
      "text/latex": [
       "$$\\newcommand{\\Bold}[1]{\\mathbf{#1}}27 \\, t^{6} \\sin\\left(t^{3}\\right) - 54 \\, t^{3} \\cos\\left(t^{3}\\right) - 6 \\, \\sin\\left(t^{3}\\right)$$"
      ],
      "text/plain": [
       "27*t^6*sin(t^3) - 54*t^3*cos(t^3) - 6*sin(t^3)"
      ]
     },
     "execution_count": 65,
     "metadata": {},
     "output_type": "execute_result"
    }
   ],
   "source": [
    "diff(cos(t^3),t,3)"
   ]
  },
  {
   "cell_type": "markdown",
   "metadata": {},
   "source": [
    "Si trabajamos con funciones de varias variables, con el mismo comando podemos tomas las derivadas parciales"
   ]
  },
  {
   "cell_type": "code",
   "execution_count": 71,
   "metadata": {},
   "outputs": [
    {
     "data": {
      "text/html": [
       "<html><script type=\"math/tex; mode=display\">\\newcommand{\\Bold}[1]{\\mathbf{#1}}t^{4} + 2 \\, t^{3} x + 3 \\, x^{2} y + 4 \\, t</script></html>"
      ],
      "text/latex": [
       "$$\\newcommand{\\Bold}[1]{\\mathbf{#1}}t^{4} + 2 \\, t^{3} x + 3 \\, x^{2} y + 4 \\, t$$"
      ],
      "text/plain": [
       "t^4 + 2*t^3*x + 3*x^2*y + 4*t"
      ]
     },
     "execution_count": 71,
     "metadata": {},
     "output_type": "execute_result"
    }
   ],
   "source": [
    "x, t = var('x, t')\n",
    "f = x^2*t^3+x*t^4+x^3*y+4*x*t\n",
    "diff(f,x)"
   ]
  },
  {
   "cell_type": "code",
   "execution_count": 72,
   "metadata": {},
   "outputs": [
    {
     "data": {
      "text/html": [
       "<html><script type=\"math/tex; mode=display\">\\newcommand{\\Bold}[1]{\\mathbf{#1}}4 \\, t^{3} x + 3 \\, t^{2} x^{2} + 4 \\, x</script></html>"
      ],
      "text/latex": [
       "$$\\newcommand{\\Bold}[1]{\\mathbf{#1}}4 \\, t^{3} x + 3 \\, t^{2} x^{2} + 4 \\, x$$"
      ],
      "text/plain": [
       "4*t^3*x + 3*t^2*x^2 + 4*x"
      ]
     },
     "execution_count": 72,
     "metadata": {},
     "output_type": "execute_result"
    }
   ],
   "source": [
    "diff(f,t)"
   ]
  },
  {
   "cell_type": "code",
   "execution_count": 73,
   "metadata": {},
   "outputs": [
    {
     "data": {
      "text/html": [
       "<html><script type=\"math/tex; mode=display\">\\newcommand{\\Bold}[1]{\\mathbf{#1}}6 \\, y</script></html>"
      ],
      "text/latex": [
       "$$\\newcommand{\\Bold}[1]{\\mathbf{#1}}6 \\, y$$"
      ],
      "text/plain": [
       "6*y"
      ]
     },
     "execution_count": 73,
     "metadata": {},
     "output_type": "execute_result"
    }
   ],
   "source": [
    "diff(f,x,3)"
   ]
  },
  {
   "cell_type": "code",
   "execution_count": 75,
   "metadata": {},
   "outputs": [
    {
     "data": {
      "text/html": [
       "<html><script type=\"math/tex; mode=display\">\\newcommand{\\Bold}[1]{\\mathbf{#1}}24 \\, t x + 6 \\, x^{2}</script></html>"
      ],
      "text/latex": [
       "$$\\newcommand{\\Bold}[1]{\\mathbf{#1}}24 \\, t x + 6 \\, x^{2}$$"
      ],
      "text/plain": [
       "24*t*x + 6*x^2"
      ]
     },
     "execution_count": 75,
     "metadata": {},
     "output_type": "execute_result"
    }
   ],
   "source": [
    "diff(f,t,3)"
   ]
  },
  {
   "cell_type": "markdown",
   "metadata": {},
   "source": [
    "Para el calculo de integrales utilizamos el comando **integral()**, de manera análoga a como lo hemos hecho con la derivada. Calculemos la integral de las funciones: a)$x\\cos{x^2}$ y b) $\\frac{x^2+2}{2x^3+3x^2+2x+3}$"
   ]
  },
  {
   "cell_type": "code",
   "execution_count": 78,
   "metadata": {},
   "outputs": [
    {
     "data": {
      "text/html": [
       "<html><script type=\"math/tex; mode=display\">\\newcommand{\\Bold}[1]{\\mathbf{#1}}x \\sin\\left(x\\right) + \\cos\\left(x\\right)</script></html>"
      ],
      "text/latex": [
       "$$\\newcommand{\\Bold}[1]{\\mathbf{#1}}x \\sin\\left(x\\right) + \\cos\\left(x\\right)$$"
      ],
      "text/plain": [
       "x*sin(x) + cos(x)"
      ]
     },
     "execution_count": 78,
     "metadata": {},
     "output_type": "execute_result"
    }
   ],
   "source": [
    "integral(x*cos(x),x)"
   ]
  },
  {
   "cell_type": "code",
   "execution_count": 79,
   "metadata": {},
   "outputs": [
    {
     "data": {
      "text/html": [
       "<html><script type=\"math/tex; mode=display\">\\newcommand{\\Bold}[1]{\\mathbf{#1}}2 \\, \\log\\left(x + 3\\right) + 3 \\, \\log\\left(x + 1\\right) + \\log\\left(x - 1\\right)</script></html>"
      ],
      "text/latex": [
       "$$\\newcommand{\\Bold}[1]{\\mathbf{#1}}2 \\, \\log\\left(x + 3\\right) + 3 \\, \\log\\left(x + 1\\right) + \\log\\left(x - 1\\right)$$"
      ],
      "text/plain": [
       "2*log(x + 3) + 3*log(x + 1) + log(x - 1)"
      ]
     },
     "execution_count": 79,
     "metadata": {},
     "output_type": "execute_result"
    }
   ],
   "source": [
    "h=(6*x^2+10*x-8)/(x^3+3*x^2-x-3)\n",
    "integral(h,x)"
   ]
  },
  {
   "cell_type": "markdown",
   "metadata": {},
   "source": [
    "En este caso se ha desarrollado el método de las fracciones parciales"
   ]
  },
  {
   "cell_type": "code",
   "execution_count": 80,
   "metadata": {},
   "outputs": [
    {
     "data": {
      "text/html": [
       "<html><script type=\"math/tex; mode=display\">\\newcommand{\\Bold}[1]{\\mathbf{#1}}\\frac{2}{x + 3} + \\frac{3}{x + 1} + \\frac{1}{x - 1}</script></html>"
      ],
      "text/latex": [
       "$$\\newcommand{\\Bold}[1]{\\mathbf{#1}}\\frac{2}{x + 3} + \\frac{3}{x + 1} + \\frac{1}{x - 1}$$"
      ],
      "text/plain": [
       "2/(x + 3) + 3/(x + 1) + 1/(x - 1)"
      ]
     },
     "execution_count": 80,
     "metadata": {},
     "output_type": "execute_result"
    }
   ],
   "source": [
    "h.partial_fraction()"
   ]
  },
  {
   "cell_type": "markdown",
   "metadata": {},
   "source": [
    "### Resolviendo ecuaciones diferenciales ordinarias"
   ]
  },
  {
   "cell_type": "markdown",
   "metadata": {},
   "source": [
    "Con lo expresado podemos resolver ecuaciones diferenciales ordinarias, para ello se usa el comando **desolve()**. Por ejemplo, para resolver la ecuacion diferencial $x'+2x-3=0$, podemos utilizar las siguientes órdenes:"
   ]
  },
  {
   "cell_type": "code",
   "execution_count": 81,
   "metadata": {},
   "outputs": [
    {
     "data": {
      "text/html": [
       "<html><script type=\"math/tex; mode=display\">\\newcommand{\\Bold}[1]{\\mathbf{#1}}\\frac{1}{2} \\, {\\left(2 \\, C + 3 \\, e^{\\left(2 \\, t\\right)}\\right)} e^{\\left(-2 \\, t\\right)}</script></html>"
      ],
      "text/latex": [
       "$$\\newcommand{\\Bold}[1]{\\mathbf{#1}}\\frac{1}{2} \\, {\\left(2 \\, C + 3 \\, e^{\\left(2 \\, t\\right)}\\right)} e^{\\left(-2 \\, t\\right)}$$"
      ],
      "text/plain": [
       "1/2*(2*_C + 3*e^(2*t))*e^(-2*t)"
      ]
     },
     "execution_count": 81,
     "metadata": {},
     "output_type": "execute_result"
    }
   ],
   "source": [
    "t = var('t') #Definimos la variable t, de la cual depende x\n",
    "x = function('x')(t) # Le decimos a SageMath que tome x como función de t\n",
    "DE = diff(x, t) + 2*x - 3 # Le asignamos el valor DE a la parte izquierda de la ecuación diferencial\n",
    "desolve(DE, [x,t]) # Le  pedimo a Sagemath que resuelva la ecuación diferencial DE=0, dando como resultado x, con respecto a t"
   ]
  },
  {
   "cell_type": "markdown",
   "metadata": {},
   "source": [
    "Esta orden utiliza la interfaz de Sage para Maxima, por lo que su salida puede ser un poco diferente de otra salida de Sage. En este caso, esto dice que la solución general de la ecuación diferencial es $x(t)=\\frac{1}{2}(2C+3e^{2t})e^{-2t}$.\n",
    "\n",
    "También puee calcular transformadas de Laplace. La transdormada de Laplace de $t^3e^{2t}-\\sin{t^2}$ se calcula de la siguiente manera:"
   ]
  },
  {
   "cell_type": "code",
   "execution_count": 83,
   "metadata": {},
   "outputs": [
    {
     "data": {
      "text/html": [
       "<html><script type=\"math/tex; mode=display\">\\newcommand{\\Bold}[1]{\\mathbf{#1}}-\\frac{3}{s^{2} + 9} + \\frac{6}{{\\left(s - 2\\right)}^{4}}</script></html>"
      ],
      "text/latex": [
       "$$\\newcommand{\\Bold}[1]{\\mathbf{#1}}-\\frac{3}{s^{2} + 9} + \\frac{6}{{\\left(s - 2\\right)}^{4}}$$"
      ],
      "text/plain": [
       "-3/(s^2 + 9) + 6/(s - 2)^4"
      ]
     },
     "execution_count": 83,
     "metadata": {},
     "output_type": "execute_result"
    }
   ],
   "source": [
    "s, t = var('s, t')\n",
    "g = t^3*exp(2*t) - sin(3*t)\n",
    "g.laplace(t,s)"
   ]
  },
  {
   "cell_type": "markdown",
   "metadata": {},
   "source": [
    "A manera de ejemplo veamos un sistema mecánico. El desplazamiento desde el equilibrio (respectivamente) para un resote acoplado unido a una pared a la izquierda, es modelado por el sistema de ecuaciones diferenciales de segundo orden:\n",
    "$$\n",
    "\\left.\n",
    "\\begin{array}{rcl}\n",
    "     m_1x_1''+(k_1+k_2)x_1 - k_2x_2 & = & 0\n",
    "  \\\\ m_2x_2''+k_2(x_2-x_1)  & = & 0\n",
    "\\end{array}\n",
    "\\right\\}\n",
    "$$\n",
    "\n",
    "donde $m_i$ es la masa del objeto $i$, $x_i$ es el desplazamiento desde el equilibrio de la masa $i$, y $k_i$ es la constante del resorte para el resorte $i$.\n",
    "\n",
    "Ejemplo: Utilice Sage para resolver el problema anterior con $m_1=2$, $m_2=1$, $k_1=4$, $k_2=2$, $x_1(0)=3$, $x_1'(0)=0$, $x_2(0)=3$, $x_2'(0)=0$"
   ]
  },
  {
   "cell_type": "code",
   "execution_count": null,
   "metadata": {},
   "outputs": [],
   "source": []
  }
 ],
 "metadata": {
  "kernelspec": {
   "display_name": "SageMath 9.3",
   "language": "sage",
   "name": "sagemath"
  },
  "language_info": {
   "codemirror_mode": {
    "name": "ipython",
    "version": 3
   },
   "file_extension": ".py",
   "mimetype": "text/x-python",
   "name": "python",
   "nbconvert_exporter": "python",
   "pygments_lexer": "ipython3",
   "version": "3.7.10"
  }
 },
 "nbformat": 4,
 "nbformat_minor": 4
}
