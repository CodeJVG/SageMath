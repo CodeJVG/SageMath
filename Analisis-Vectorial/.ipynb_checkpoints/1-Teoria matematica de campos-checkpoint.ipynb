{
 "cells": [
  {
   "cell_type": "markdown",
   "metadata": {},
   "source": [
    "# Teoría matemática de los campos\n",
    "## Campos escalares y vectoriales\n",
    "Se dice que en una región V está definido un campo si a cada punto de esta región le corresponde un valor de cierta magnitud, numérica o vectorial.\n",
    "\n",
    "1.  Si la magnitud definida es un escalar, entonces el campo se denomina **escalar**.\n",
    "2.  Si la magnitud definida es un vector, entonces al campo se le denomina **vectorial**.\n",
    "\n",
    "Si el valor de la magnitud no varía con el tiempo, entonces se dice que el campo es **estacionario**, caso contrario tendremos un campo **no estacionario**.\n",
    "\n",
    "En el presente curso nos limitaremos a los campos estacionarios, es decir, aquellos campos que no varían de forma explícita con respecto al tiempo\n",
    "* $u=f(M)$, nos represente un campo escalar que nos devuelve el valor del campo en el punto $M\\in V$.\n",
    "* $\\vec{A}=\\vec{A}(M)$, es un campo vectorial definido en el punto $M\\in V$\n",
    "\n",
    "Analíticamente definiremos los campos como funciones que dependen de las coordenadas. Por ejemplo, en coordenadas cartesianas tendremos: $u = f(x,y,z)$, $\\vec{A} = P(x,y,z)\\hat{e}_x+Q(x,y,z)\\hat{e}_y+R(x,y,z)\\hat{e}_z$; donde $f,P,Q,R$ son fnciones escalares de las ariables $x,y,z$.\n",
    "\n",
    "Para estudiar los campos, escalares o vectoriales, primero debemos definir la región $V$ en la cual los vamos a definir. Para el caso del espacio tridimensional utilizaremos el espacio euclideano, el cual definiremos junto las coordenadas cartesianas.\n"
   ]
  },
  {
   "cell_type": "code",
   "execution_count": 2,
   "metadata": {},
   "outputs": [],
   "source": [
    "%display latex"
   ]
  },
  {
   "cell_type": "code",
   "execution_count": 6,
   "metadata": {},
   "outputs": [
    {
     "data": {
      "text/html": [
       "<html><script type=\"math/tex; mode=display\">\\newcommand{\\Bold}[1]{\\mathbf{#1}}\\mathbb{E}^{3}</script></html>"
      ],
      "text/latex": [
       "$$\\newcommand{\\Bold}[1]{\\mathbf{#1}}\\mathbb{E}^{3}$$"
      ],
      "text/plain": [
       "Euclidean space E^3"
      ]
     },
     "execution_count": 6,
     "metadata": {},
     "output_type": "execute_result"
    }
   ],
   "source": [
    "E.<x,y,z> = EuclideanSpace()\n",
    "E"
   ]
  },
  {
   "cell_type": "markdown",
   "metadata": {},
   "source": [
    "El espacio euclideano se encuentra provisto de referencia ortonormal $(e_1,e_2,e_3)$ asociado a las coordenadas cartesianas:"
   ]
  },
  {
   "cell_type": "code",
   "execution_count": 7,
   "metadata": {},
   "outputs": [
    {
     "data": {
      "text/html": [
       "<html><script type=\"math/tex; mode=display\">\\newcommand{\\Bold}[1]{\\mathbf{#1}}\\left[\\left(\\mathbb{E}^{3}, \\left(e_{ x },e_{ y },e_{ z }\\right)\\right)\\right]</script></html>"
      ],
      "text/latex": [
       "$$\\newcommand{\\Bold}[1]{\\mathbf{#1}}\\left[\\left(\\mathbb{E}^{3}, \\left(e_{ x },e_{ y },e_{ z }\\right)\\right)\\right]$$"
      ],
      "text/plain": [
       "[Coordinate frame (E^3, (e_x,e_y,e_z))]"
      ]
     },
     "execution_count": 7,
     "metadata": {},
     "output_type": "execute_result"
    }
   ],
   "source": [
    "E.frames()"
   ]
  },
  {
   "cell_type": "markdown",
   "metadata": {},
   "source": [
    "Definimos en el espacio euclideano un campo escalar $u=f(x,y,z)$, e cual es una aplicaciónn que mapea los puntos el espacio euclideano sobre los numeros reales"
   ]
  },
  {
   "cell_type": "code",
   "execution_count": 10,
   "metadata": {},
   "outputs": [
    {
     "data": {
      "text/html": [
       "<html><script type=\"math/tex; mode=display\">\\newcommand{\\Bold}[1]{\\mathbf{#1}}\\begin{array}{llcl} u:& \\mathbb{E}^{3} & \\longrightarrow & \\mathbb{R} \\\\ & \\left(x, y, z\\right) & \\longmapsto & f\\left(x, y, z\\right) \\end{array}</script></html>"
      ],
      "text/latex": [
       "$$\\newcommand{\\Bold}[1]{\\mathbf{#1}}\\begin{array}{llcl} u:& \\mathbb{E}^{3} & \\longrightarrow & \\mathbb{R} \\\\ & \\left(x, y, z\\right) & \\longmapsto & f\\left(x, y, z\\right) \\end{array}$$"
      ],
      "text/plain": [
       "u: E^3 --> R\n",
       "   (x, y, z) |--> f(x, y, z)"
      ]
     },
     "execution_count": 10,
     "metadata": {},
     "output_type": "execute_result"
    }
   ],
   "source": [
    "u = E.scalar_field(function(\"f\")(x,y,z), name=\"u\")\n",
    "u.display()"
   ]
  },
  {
   "cell_type": "markdown",
   "metadata": {},
   "source": [
    "De manera análoga definimos en el espacio euclideano el campo vectorial $\\vec{A}=P(x,y,z)\\hat{e_1}+Q(x,y,z)\\hat{e_2}+R(x,y,z)\\hat{e_3}$ el cual es una aplicación que mapea los puntos del espacio euclideano sobre el espacio tangente al espacio euclideano:"
   ]
  },
  {
   "cell_type": "code",
   "execution_count": 11,
   "metadata": {},
   "outputs": [
    {
     "data": {
      "text/html": [
       "<html><script type=\"math/tex; mode=display\">\\newcommand{\\Bold}[1]{\\mathbf{#1}}A = P\\left(x, y, z\\right) e_{ x } + Q\\left(x, y, z\\right) e_{ y } + R\\left(x, y, z\\right) e_{ z }</script></html>"
      ],
      "text/latex": [
       "$$\\newcommand{\\Bold}[1]{\\mathbf{#1}}A = P\\left(x, y, z\\right) e_{ x } + Q\\left(x, y, z\\right) e_{ y } + R\\left(x, y, z\\right) e_{ z }$$"
      ],
      "text/plain": [
       "A = P(x, y, z) e_x + Q(x, y, z) e_y + R(x, y, z) e_z"
      ]
     },
     "execution_count": 11,
     "metadata": {},
     "output_type": "execute_result"
    }
   ],
   "source": [
    "A=E.vector_field(function(\"P\")(x,y,z), function(\"Q\")(x,y,z), function(\"R\")(x,y,z), name=\"A\")\n",
    "A.display()"
   ]
  },
  {
   "cell_type": "markdown",
   "metadata": {},
   "source": [
    "## Campos eseciales\n",
    "Con frecuencia tenemos que trabajar con algunos campos que tienen ciertas características especiales. A continuación señalamos algunos de ellos:\n",
    "### Campo escalar plano paralelo\n",
    "Se dice que un campo escalar es **plano paralelo**, si dado el campo escalar $u=f(x',y',z')$, se puede hallar una transformación de coordenadas, $(x',y',z')\\to(x,y,z)$, de tal manera que el campo no depende de una de las coordenadas, por ejemplo, que no de penda de la coordenada $z$. El campo escala plano paralelo se puede definir por la expresión:\n",
    "$$u=f(x,y)$$\n",
    "### Campo vactorial plano paralelo\n",
    "Se dice que un campo vectorial es **plano paralelo**, si dado el campo vectorial $\\vec{A}=P(x,y,z)\\hat{e_1}+Q(x,y,z)\\hat{e_2}+R(x,y,z)\\hat{e_3}$  se puede hallar una transformación de coordenadas, $(x',y',z')\\to(x,y,z)$, de tal manera que el vector del campo no dependa de una de las coordenadas, por ejemplo, que no de penda de la coordenada z y se encuentr ubicado en el plano donde la coordenada es constante, es decir\n",
    "\n",
    "$$\\vec{A}=P(x,y,z)\\hat{e_1}+Q(x,y,z)\\hat{e_2}+R(x,y,z)\\hat{e_3}$$\n",
    "\n",
    "Todo campo plano-paralelo se puede estudiar en el plano $Oxy$, dado que, en cualquier plano paralelo al plano $Oxy$, la configuración es la misma. Por ello a estos campos nos vamos a referir simplemente\n",
    "como **campos planos**.\n",
    "\n",
    "### Campo escalar esférico\n",
    "Se dice que un campo escalar es **esférico** si la magnitud escalar que determina el campo depende únicamente de la distancia entre un punto y el origen de coordenadas. Dicha magnitud es constante en cada esfera con centro en el origen de coordenadas.\n",
    "\n",
    "$$u=f(\\sqrt{x^2+y^2+z^2})$$"
   ]
  },
  {
   "cell_type": "markdown",
   "metadata": {},
   "source": [
    "## Continuidad de los campos\n",
    "Un campo escalar $u = f(M)$ se denomina **contínuo** en el punto $M_0$ si la diferencia $|f(M)-f(M_0)|$ tiende a cero si $M\\to M_0$. De manera más rigurosa, se dice que un campo escalar es contínuo en el punto $M_0$ si , para cualquier $\\epsilon > 0$ se puede hallar una vecindad del punto $M_0(|M-M_0|<\\delta)$ tal que para todo $M$ que se encuentra en esa vecindad se cumple la igualdad\n",
    "\n",
    "$$|f(M)-f(M_0)|<\\epsilon$$\n",
    "\n",
    "Si el campo escalar está definido analíticamente en el sistema cartesiano de coordenadas, $u=f(x,y,z)$,entonces la continuidad de este campo en el punto $M_0(x_0,y_0,z_0)$ es equivalente a la continuidad de la función en dicho punto.\n",
    "\n",
    "De manera análoga se define la continuidad del campo vectorial $\\vec{A}(M)$  en el punto $M_0$. Un campo vectorial es contínuo en el punto M0 si para cualquier $\\epsilon < 0$ se puede elegir uan vecindad del punto $M_0(|M-M_0|<\\delta)$, tal que para todos los puntos $M$, pertenecientes a la vecindad se da la igualdad\n",
    "\n",
    "$|\\vec{A}(M)-\\vec{A}(M_0)|<\\epsilon)$\n",
    "\n",
    "Si el campo vectorial se encuentra definidoanalíticamente,\n",
    "$$\\vec{A}=P(x,y,z)\\hat{e_1}+Q(x,y,z)\\hat{e_2}+R(x,y,z)\\hat{e_3}$$\n",
    "\n",
    "la continuidad es equivalente a la continuidad de las tres funciones: $P(x,y,z), Q(x,y,z), R(x,y,z)$\n"
   ]
  },
  {
   "cell_type": "code",
   "execution_count": null,
   "metadata": {},
   "outputs": [],
   "source": []
  }
 ],
 "metadata": {
  "kernelspec": {
   "display_name": "SageMath 9.3",
   "language": "sage",
   "name": "sagemath"
  },
  "language_info": {
   "codemirror_mode": {
    "name": "ipython",
    "version": 3
   },
   "file_extension": ".py",
   "mimetype": "text/x-python",
   "name": "python",
   "nbconvert_exporter": "python",
   "pygments_lexer": "ipython3",
   "version": "3.7.10"
  }
 },
 "nbformat": 4,
 "nbformat_minor": 4
}
